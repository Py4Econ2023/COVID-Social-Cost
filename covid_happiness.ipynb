{
  "nbformat": 4,
  "nbformat_minor": 0,
  "metadata": {
    "colab": {
      "provenance": [],
      "toc_visible": true
    },
    "kernelspec": {
      "name": "python3",
      "display_name": "Python 3"
    },
    "language_info": {
      "name": "python"
    }
  },
  "cells": [
    {
      "cell_type": "markdown",
      "source": [
        "# COVID-19 Infections and Happiness\n",
        "This is the notebook for the Python for Economics Project at the London  School of Economics analysing the effect of COVID-19 infections on happiness.\n"
      ],
      "metadata": {
        "id": "M_2dLRCIIqv9"
      }
    },
    {
      "cell_type": "markdown",
      "source": [
        "## Introduction\n",
        "\n",
        "As policy-making during an epidemic is all about making economic tradeoffs, one would like to quantify the gains and losses in the factors a government is is trading off between. The trade-offs to monetary factors and other classical economic factors are well documented, of course. However, the social costs of viral cases less so (among other forms of social costs involved in a pandemic). One may make an attempt to quantify the social costs of the number of cases of such a virus in your country by looking at the causal effect of COVID-19 cases on the average sentiment of how people express themselves online."
      ],
      "metadata": {
        "id": "c3t9AWywlLa_"
      }
    },
    {
      "cell_type": "markdown",
      "source": [
        "## Overview Project\n",
        "In this project the main goal is to run a regression of the number of COVID-19 infections on the average sentiment of how people express themselves online. You will start by carrying out this analysis for the UK. A clear confounder here are government restrictions to curb the spread of the virus. You will control for this confounder in the regression alongside time-fixed effects that deal with the biases caused by new ways of measuring cases, changes in testing accuracy and availability, among other possible biases.\n",
        "</br></br>\n",
        "To be able to run this final regression, though, you will need to collect the data. This notebook will walk you through the steps associated with this and the final step of running the regression.\n"
      ],
      "metadata": {
        "id": "hpTdOHFalo5C"
      }
    },
    {
      "cell_type": "markdown",
      "source": [
        "## Table of Contents"
      ],
      "metadata": {
        "id": "loLc9eEEVSsP"
      }
    },
    {
      "cell_type": "markdown",
      "source": [
        ">[COVID-19 Infections and Happiness](#scrollTo=M_2dLRCIIqv9)\n",
        "\n",
        ">>[Introduction](#scrollTo=c3t9AWywlLa_)\n",
        "\n",
        ">>[Overview Project](#scrollTo=hpTdOHFalo5C)\n",
        "\n",
        ">>[Table of Contents](#scrollTo=loLc9eEEVSsP)\n",
        "\n",
        ">>[Preparation](#scrollTo=5kqfEAq9S8KC)\n",
        "\n",
        ">>[Data Collection](#scrollTo=Xviu1_5NnsrF)\n",
        "\n",
        ">>>[Loading Datasets](#scrollTo=3gOgjpQpKGoe)\n",
        "\n",
        ">>>[Cleaning Datasets](#scrollTo=Xzmo0WIbKtrk)\n",
        "\n",
        ">>>>[Preparation](#scrollTo=Xzmo0WIbKtrk)\n",
        "\n",
        ">>>[Stringency](#scrollTo=KB_HFVFsdT5H)\n",
        "\n",
        ">>>>[Cases](#scrollTo=6zlemmyxk2JT)\n",
        "\n",
        ">>>[Merging Dataframes](#scrollTo=8UXSCwxHg1Gi)\n",
        "\n",
        ">>>[Average Sentiment](#scrollTo=C_Wv1iKpmdo6)\n",
        "\n",
        ">>>>[Scraping Tweets](#scrollTo=UVZi_0ONKq5p)\n",
        "\n",
        ">>>>[Classifying Tweets](#scrollTo=zOiuZ0v8NSKA)\n",
        "\n",
        ">>[Running Regressions](#scrollTo=1wSD_8JrKslV)\n",
        "\n",
        ">>[Further Exercises](#scrollTo=HIx-MyVcN7Vh)\n",
        "\n",
        ">>[References](#scrollTo=GTQjBctvVLWv)\n",
        "\n"
      ],
      "metadata": {
        "colab_type": "toc",
        "id": "nWLxb9_5S6Hk"
      }
    },
    {
      "cell_type": "markdown",
      "source": [
        "\n",
        "## Preparation\n",
        "First, you will need to install a few libraries for this project. To install a library, write ``!pip install`` in a code block followed by ``name-library`` and the optional ``--quiet`` keyword to suppress the logs. For example, installing the package ``pandas`` can be done by running ``!pip install pandas --quiet`` in a code block.\n",
        "\n",
        "(note: between countries the definitions and methods of confirming cases differs. maybe look at percentual change in infections but then not the absolute size of infections. maybe ONS positive rates)."
      ],
      "metadata": {
        "id": "5kqfEAq9S8KC"
      }
    },
    {
      "cell_type": "code",
      "source": [
        "# TODO - Install the following packages: pandas, datetime.\n",
        "!pip install pandas --quiet\n",
        "!pip install datetime --quiet"
      ],
      "metadata": {
        "id": "zM3N6_a9gPMX",
        "outputId": "edd3a93f-3ef6-41f7-c8bf-59b1d1f81816",
        "colab": {
          "base_uri": "https://localhost:8080/"
        }
      },
      "execution_count": 2,
      "outputs": [
        {
          "output_type": "stream",
          "name": "stdout",
          "text": [
            "\u001b[2K     \u001b[90m━━━━━━━━━━━━━━━━━━━━━━━━━━━━━━━━━━━━━━━━\u001b[0m \u001b[32m52.1/52.1 KB\u001b[0m \u001b[31m5.7 MB/s\u001b[0m eta \u001b[36m0:00:00\u001b[0m\n",
            "\u001b[2K     \u001b[90m━━━━━━━━━━━━━━━━━━━━━━━━━━━━━━━━━━━━━━\u001b[0m \u001b[32m261.4/261.4 KB\u001b[0m \u001b[31m23.5 MB/s\u001b[0m eta \u001b[36m0:00:00\u001b[0m\n",
            "\u001b[?25h"
          ]
        }
      ]
    },
    {
      "cell_type": "markdown",
      "source": [
        "Now, you have to import the packages you installed. Additionally, import the preinstalled package ``numpy`` as ``np``."
      ],
      "metadata": {
        "id": "bJkVLg9KJyNW"
      }
    },
    {
      "cell_type": "code",
      "source": [
        "# TODO - Import the installed packages.\n",
        "# Two additional libraries necessary for CSV uploads are already given (no need to install these, they are installed by default on Colabs).\n",
        "from google.colab import files\n",
        "import io\n",
        "import pandas as pd\n",
        "import datetime as dt\n",
        "import numpy as np"
      ],
      "metadata": {
        "id": "LnuPMkjlJ_5L"
      },
      "execution_count": 3,
      "outputs": []
    },
    {
      "cell_type": "markdown",
      "source": [
        "## Data Collection\n",
        "We can now start collecting our data."
      ],
      "metadata": {
        "id": "Xviu1_5NnsrF"
      }
    },
    {
      "cell_type": "markdown",
      "source": [
        "### Loading Datasets\n",
        "The data we will use for this analysis will come from the John Hopkins University Center for Systems Science and Engineering, Our World in Data and, of course, Twitter. \n",
        "\n",
        "\n",
        "* The dataset on confirmed cases per country (including the UK) can be found and downloaded [here](https://github.com/CSSEGISandData/COVID-19/tree/master/csse_covid_19_data/csse_covid_19_time_series).\n",
        "* The dataset on COVID-19 government restriction stringency can be found and downloaded [here](https://ourworldindata.org/covid-stringency-index).\n",
        "* We will get into the Tweets later.\n",
        "\n",
        "Once you have downloaded the datasets, you can upload one of them to to Colabs by running the comands below which will store a dataset as a Pandas dataframe (sort of like a spreadsheet). It is a good coding practice to wrap commands like this in a function. Do this and make the function output both datasets in a list. Then, call the function and assign the result to a variable ``dataframes``, storing the two dataframes in a list."
      ],
      "metadata": {
        "id": "3gOgjpQpKGoe"
      }
    },
    {
      "cell_type": "code",
      "source": [
        "# This command will prompt you with an upload screen and store the uploaded files in a dictionary.\n",
        "# You can upload multiple files at once.\n",
        "uploaded = files.upload()\n",
        "\n",
        "# This command stores the filenames in a list.\n",
        "filenames = uploaded.keys()\n",
        "\n",
        "# This command selects the filename of the first file in the files you uploaded.\n",
        "filename = filenames[0]\n",
        "\n",
        "# This command stores a dataset in a variable as a Pandas dataframe.\n",
        "dataset = pd.DataFrame(io.BytesIO(uploaded[filename]))\n",
        "\n",
        "# TODO - Create and call the function."
      ],
      "metadata": {
        "id": "OaBrHMLZbnVY"
      },
      "execution_count": null,
      "outputs": []
    },
    {
      "cell_type": "markdown",
      "source": [
        "### Cleaning Datasets\n",
        "#### Preparation\n",
        "First, it would be nice to have each of the datasets stored in a variable with a corresponding name. Below I show a trick to assign two variables at once. Use this trick to assign your datasets to the variables ``df_cases`` and ``df_stringency``."
      ],
      "metadata": {
        "id": "Xzmo0WIbKtrk"
      }
    },
    {
      "cell_type": "code",
      "source": [
        "lse, ucl = [\"awesome\", \"mwa\"]\n",
        "\n",
        "# TODO - Replicate the trick with the variable names given."
      ],
      "metadata": {
        "id": "PzYAFEKgd8aF"
      },
      "execution_count": null,
      "outputs": []
    },
    {
      "cell_type": "markdown",
      "source": [
        "\n",
        "### Stringency\n",
        "Let's start with the easiest dataset first. Inspect the structure of the dataset by printing the dataframe."
      ],
      "metadata": {
        "id": "KB_HFVFsdT5H"
      }
    },
    {
      "cell_type": "code",
      "source": [
        "# TODO - print the dataframe and inspect the structure."
      ],
      "metadata": {
        "id": "ZR-VoJcBKv6V"
      },
      "execution_count": null,
      "outputs": []
    },
    {
      "cell_type": "markdown",
      "source": [
        "Clearly, there are lots of variables and countries of which we do not need the data. Therefore, we would like to drop the redundant entries. Do this by selecting only the date and stringency index values for just the United Kingdom. Overwrite ``df_stringency`` with this transformed dataframe. As a final nit-picky step, reset the index of the dataframe."
      ],
      "metadata": {
        "id": "cUWOFexDgayH"
      }
    },
    {
      "cell_type": "code",
      "source": [
        "# TODO - Overwrite the dataframe with the filtered version."
      ],
      "metadata": {
        "id": "xLjnB4JNhwBf"
      },
      "execution_count": null,
      "outputs": []
    },
    {
      "cell_type": "markdown",
      "source": [
        "We would like to have our data of suitable data types, so it is easiest to work with down the line. For example, we would like the values in our ``date`` column to be of the ``datetime`` data type. Also, we would like the values in our ``stringency_index`` column to be of the ``float`` data type. Check if this is the case and if not, convert the column values to the desired data type."
      ],
      "metadata": {
        "id": "qRnW1do6ioC1"
      }
    },
    {
      "cell_type": "code",
      "source": [
        "# TODO - Check if the column values data types are correct and convert them if not."
      ],
      "metadata": {
        "id": "0KEX5HEsjbRD"
      },
      "execution_count": null,
      "outputs": []
    },
    {
      "cell_type": "markdown",
      "source": [
        "### Cases\n",
        "Now on to the harder dataset. Inspect the structure of the dataset by printing the dataframe."
      ],
      "metadata": {
        "id": "6zlemmyxk2JT"
      }
    },
    {
      "cell_type": "code",
      "source": [
        "# TODO - print the dataframe and inspect the structure."
      ],
      "metadata": {
        "id": "0Yvhn1snloQx"
      },
      "execution_count": null,
      "outputs": []
    },
    {
      "cell_type": "markdown",
      "source": [
        "Again, there are a lot of countries we do not need the data of. Filter the dataframe to only contain records of the UK (be precise here) and overwrite the original dataframe with the filtered one."
      ],
      "metadata": {
        "id": "D9BK4l8Wl6-e"
      }
    },
    {
      "cell_type": "code",
      "source": [
        "# TODO - Filter and overwrite the dataframe of cases."
      ],
      "metadata": {
        "id": "pOa0oe0-oDd6"
      },
      "execution_count": null,
      "outputs": []
    },
    {
      "cell_type": "markdown",
      "source": [
        "Some might think we are done now with this dataset, but this dataset has a nasty characteristic. Namely, it is [*wide*](https://en.wikipedia.org/wiki/Wide_and_narrow_data), and quite *wide*, to say the least. Libraries written for Python and other programming languages hardly support this kind of data shape. Therefore, we want to change the shape of the data to the *narrow* format.\n",
        "</br></br>\n",
        "In essence, we would like one column for the date and one column for the confirmed cases. Thus, we need to put the column names in a new variable name called ``date`` and link the corresponding case numbers to the right row.\n",
        "</br></br>\n",
        "Convert the dataframe to a *narrow* format. After understanding the concepts by reading the Wikipedia page linked before, use Pandas' [``melt``](https://pandas.pydata.org/docs/reference/api/pandas.melt.html) implementation to achieve this."
      ],
      "metadata": {
        "id": "oSMiKE20n8Va"
      }
    },
    {
      "cell_type": "code",
      "source": [
        "# TODO - Convert the dataframe from wide to narrow format."
      ],
      "metadata": {
        "id": "4289VUhkrPdh"
      },
      "execution_count": null,
      "outputs": []
    },
    {
      "cell_type": "markdown",
      "source": [
        "Now, we would like to convert the date column of data type ``string`` to the data type ``datetime``, because we want to link the time series datasets that we now have parsed to each other and make one big, complete dataset. This is not as easy as it was for the previous dataset, and you will probably find out why."
      ],
      "metadata": {
        "id": "spfwZAvLcQSs"
      }
    },
    {
      "cell_type": "code",
      "source": [
        "# TODO - Convert the values of the date column to the datetime data type."
      ],
      "metadata": {
        "id": "fPc3C3lvdJTE"
      },
      "execution_count": null,
      "outputs": []
    },
    {
      "cell_type": "markdown",
      "source": [
        "### Merging Dataframes\n",
        "Now, we would like to merge the dataframes of the COVID-19 cases and COVID-19 policy stringency with eachother, so that for each date that is present in both dataframes we have one observation for the stringency and the number of cases. We will use [Pandas' implementation](https://pandas.pydata.org/docs/reference/api/pandas.DataFrame.merge.html) of a merge function."
      ],
      "metadata": {
        "id": "8UXSCwxHg1Gi"
      }
    },
    {
      "cell_type": "code",
      "source": [
        "# TODO - Merge \"df_cases\" with \"df_stringency\" and save the result in a variable called \"df_cases_stringency\"."
      ],
      "metadata": {
        "id": "kgyVsh8zhYkP"
      },
      "execution_count": null,
      "outputs": []
    },
    {
      "cell_type": "markdown",
      "source": [
        "Upon inspecting the data, we can see that there are some missing observations for the stringency index, probably because the stringency data does not go as far in time as the cases dataset. To clean this up, we would like to drop these missing values."
      ],
      "metadata": {
        "id": "2v8hP7FCiN-I"
      }
    },
    {
      "cell_type": "code",
      "source": [
        "# TODO - Drop the missing values in the dataset."
      ],
      "metadata": {
        "id": "OzT7B2VQi597"
      },
      "execution_count": null,
      "outputs": []
    },
    {
      "cell_type": "markdown",
      "source": [
        "After having edited data with code that takes a bit to run, you usually want to save your progress by downloading the dataset. (In more advanced projects, you would maybe use a database when using computationally expensive operations). Thus, download your dataset. You can use the previously installed ``files`` Colabs library for this. Download the dataset as ``cases_stringency.csv``. Make sure to exclude the index in the dataframe to CSV conversion step."
      ],
      "metadata": {
        "id": "u6QfU6-3i9kn"
      }
    },
    {
      "cell_type": "code",
      "source": [
        "# TODO - Convert the dataframe to a CSV file and download it."
      ],
      "metadata": {
        "id": "XdaUbltCldrK"
      },
      "execution_count": null,
      "outputs": []
    },
    {
      "cell_type": "markdown",
      "source": [
        "### Average Sentiment\n",
        "Now, in the data collection part of this project we only have left the task of collecting data on the average sentiment of how people express themselves online."
      ],
      "metadata": {
        "id": "C_Wv1iKpmdo6"
      }
    },
    {
      "cell_type": "markdown",
      "source": [
        "#### Scraping Tweets\n",
        "In this section, we will start scraping tweets from the UK in the same time period as variables ``stringency_index`` and ``cases`` are recorded in. In an academic setting, you might prefer to use an official Twitter API, but this can take a while to be admitted to. Additionally, few compromises are made by using an unofficial Twitter scraper.\n",
        "</br></br>\n",
        "If you have left off since everything before this code chunk and your Google Colabs runtime has restarted, you can optionally load the dataset you created in the previous parts with the code below."
      ],
      "metadata": {
        "id": "UVZi_0ONKq5p"
      }
    },
    {
      "cell_type": "code",
      "source": [
        "df_cases_stringency = upload_datasets()[0]"
      ],
      "metadata": {
        "id": "VBqdIVq2fM0V"
      },
      "execution_count": null,
      "outputs": []
    },
    {
      "cell_type": "markdown",
      "source": [
        "First, we install a library that allows us to easily scrape tweets from Twitter."
      ],
      "metadata": {
        "id": "IvQYiYAGfLum"
      }
    },
    {
      "cell_type": "code",
      "source": [
        "!pip install snscrape --quiet"
      ],
      "metadata": {
        "id": "PgF_HqaSKsTp",
        "outputId": "051b6372-b4e7-4c88-c55a-51f35df85f58",
        "colab": {
          "base_uri": "https://localhost:8080/"
        }
      },
      "execution_count": 4,
      "outputs": [
        {
          "output_type": "stream",
          "name": "stdout",
          "text": [
            "\u001b[?25l     \u001b[90m━━━━━━━━━━━━━━━━━━━━━━━━━━━━━━━━━━━━━━━━\u001b[0m \u001b[32m0.0/69.2 KB\u001b[0m \u001b[31m?\u001b[0m eta \u001b[36m-:--:--\u001b[0m\r\u001b[2K     \u001b[90m━━━━━━━━━━━━━━━━━━━━━━━━━━━━━━━━━━━━━━━━\u001b[0m \u001b[32m69.2/69.2 KB\u001b[0m \u001b[31m7.9 MB/s\u001b[0m eta \u001b[36m0:00:00\u001b[0m\n",
            "\u001b[?25h"
          ]
        }
      ]
    },
    {
      "cell_type": "markdown",
      "source": [
        "Importing the scraping library."
      ],
      "metadata": {
        "id": "qEL1YIa3Vzx4"
      }
    },
    {
      "cell_type": "code",
      "source": [
        "import snscrape.modules.twitter as sntwitter"
      ],
      "metadata": {
        "id": "LjaDhGWXV8xd"
      },
      "execution_count": 5,
      "outputs": []
    },
    {
      "cell_type": "markdown",
      "source": [
        "We will have to define the date range we want to scrape data from before we start scraping tweets. A useful function for this is Pandas' [``date_range``](https://pandas.pydata.org/docs/reference/api/pandas.date_range.html). Define a date range that starts from the earliest date all the way to the last date in your dataframe ``df_cases_stringency``. Store this range of dates in a variable called ``date_range``."
      ],
      "metadata": {
        "id": "FBNc2EKonkt2"
      }
    },
    {
      "cell_type": "code",
      "source": [
        "# TODO - Define the date range.\n",
        "date_range = pd.date_range(start='1/1/2020', end='12/31/2022')"
      ],
      "metadata": {
        "id": "oqIFugCXoSu6"
      },
      "execution_count": 6,
      "outputs": []
    },
    {
      "cell_type": "markdown",
      "source": [
        "Defining a list to store the tweets in."
      ],
      "metadata": {
        "id": "X7H18ZOUo5ZT"
      }
    },
    {
      "cell_type": "code",
      "source": [
        "tweets = []"
      ],
      "metadata": {
        "id": "fGRwhtEho7ba"
      },
      "execution_count": 7,
      "outputs": []
    },
    {
      "cell_type": "markdown",
      "source": [
        "Defining the number of tweets to be scraped per day. You can change this number to your liking. I would recommend to try running the code with this number first and possibly increasing it later when sure the code works so wasting computation time can be prevented."
      ],
      "metadata": {
        "id": "7k2LoAa6ovnd"
      }
    },
    {
      "cell_type": "code",
      "source": [
        "tweets_per_day = 10"
      ],
      "metadata": {
        "id": "bUNAgrzTo-tH"
      },
      "execution_count": 8,
      "outputs": []
    },
    {
      "cell_type": "markdown",
      "source": [
        "As we want to scrape tweets published from the UK, we need to tell this to our scraper. As it so happens, Twitter uses geographic tags users can choose to attach to their tweets. (There are some problems of representativeness with this approach discussed [here](https://developer.twitter.com/en/docs/tutorials/advanced-filtering-for-geo-data) if you are interested.) The UK tag is ``6416b8512febefc9``. If needed while exploring the **optional** further exercises, you can find tags of other countries via the following Twitter API: ``f\"https://api.twitter.com/1.1/geo/reverse_geocode.json?lat={latitude}&lon={longitude}&granularity=country\"``. You would format the string based on your latitude and longitude variables before plugging the link in your browser or Python API module of choice. Documentation for this API can be found [here](https://developer.twitter.com/en/docs/twitter-api/v1/geo/places-near-location/api-reference/get-geo-reverse_geocode)."
      ],
      "metadata": {
        "id": "5MG-Qse2pfPB"
      }
    },
    {
      "cell_type": "markdown",
      "source": [
        "Now, we can start scraping. To get you started with the functionality of the ``snscrape`` module, I have written a simple piece of code that you can run to understand how this module can be used."
      ],
      "metadata": {
        "id": "pdPZ4bs7pDtY"
      }
    },
    {
      "cell_type": "code",
      "source": [
        "# Demonstrating the working of the \"enumerate\" function.\n",
        "text_list = [\"This\", \"is\", \"how\", \"enumerate\", \"works.\"]\n",
        "for i, text in enumerate(text_list):\n",
        "  print(i, text)\n",
        "\n",
        "# Storing the place ID for the UK.\n",
        "place_id = \"6416b8512febefc9\"\n",
        "\n",
        "# Defining the search query for our Twitter scraper.\n",
        "# The keyword \"lang:en\" will filter for English tweets only.\n",
        "# The keywords \"since:date\" and \"until:date\" define the time range the tweet has to be from.\n",
        "# \"until\" is exclusive, meaning no tweets are scraped from \"2020-05-20\". \"since\" is inclusive.\n",
        "scraped_tweets = sntwitter.TwitterSearchScraper(f\"lang:en place:{place_id} since:2020-05-19 until:2020-05-20\").get_items()\n",
        "\n",
        "# This piece of code will print 5 tweets.\n",
        "# For each iteration in the loop, the scraper will scroll to the next tweet in the feed returned by Twitter.\n",
        "for i, tweet in enumerate(scraped_tweets):\n",
        "  print(tweet.rawContent)\n",
        "  print(tweet.date)\n",
        "  # We will only need the rawContent and date properties of the tweet.\n",
        "  # tweet.rawContent gives the text of the tweet (string)\n",
        "  # tweet.date gives the date and time of the tweet (datetime)\n",
        "  # For more properties, see line 60 and onwards of https://github.com/JustAnotherArchivist/snscrape/blob/master/snscrape/modules/twitter.py.\n",
        "\n",
        "  # Stopping the loop.\n",
        "  if i == 4:\n",
        "    break"
      ],
      "metadata": {
        "id": "1YAfwwvwnt3j",
        "outputId": "b3819d48-5398-4b6c-b3d3-76522906e241",
        "colab": {
          "base_uri": "https://localhost:8080/"
        }
      },
      "execution_count": 9,
      "outputs": [
        {
          "output_type": "stream",
          "name": "stdout",
          "text": [
            "0 This\n",
            "1 is\n",
            "2 how\n",
            "3 enumerate\n",
            "4 works.\n",
            "@OrinKerr I hope they don’t honour the subpoenas. Take it all the way to the Supreme Court, just like these scoundrels have done.\n",
            "2020-05-19 23:38:39+00:00\n",
            "Almost at 500 followers this is exciting 😁 We are feeling the love 😍\n",
            ".\n",
            ".\n",
            "#ChihuahuaLover #twitterdogs #milonmily\n",
            "#lockdown #dogcelebration #dog #dogs #doggy #dogsduringlockdown #doglover #dogsoftwitter #doglovers #Chihuahua #cute #RETWEEET #RT https://t.co/GAmHwJTLBk\n",
            "2020-05-19 22:59:36+00:00\n",
            "Conscious Co. #Gin is a rather eye-catching gin distilled from surplus potatoes that weren't so eye-catching and would have otherwise gone to waste! Plus, six local botanicals make for one fragrant tipple.\n",
            "\n",
            "https://t.co/45a8IPB6Rv https://t.co/BgtYbKLvrf\n",
            "2020-05-19 22:31:02+00:00\n",
            "@carolynewart @BASW_UK @BASW_NI Unity is strength, great contributions tonight, all messages highlightied the importance of being part of the international community of social work. Thank you @ScotsSW @AngieBartoli\n",
            "@BASW_Cymru @IFSW\n",
            "2020-05-19 21:53:01+00:00\n",
            "@MoorghenGavin @BASW_UK Very powerful presentation Bekki, thank you for sharing your  personal and professional social work journey @BASW_UK\n",
            "2020-05-19 21:26:24+00:00\n"
          ]
        }
      ]
    },
    {
      "cell_type": "markdown",
      "source": [
        "Now that you hopefully understand how this module works, I want you to write a function called ``scrape_time_range``.  This function will have to return a list of scraped tweets, containing the raw content and date for each tweet in the list.\n",
        "</br></br>\n",
        "This function should take four arguments:\n",
        "1. A list to append the scraped tweets to.\n",
        "2. The place ID.\n",
        "3. The date range.\n",
        "4. The number of tweets to be scraped per day.\n",
        "\n",
        "You want this function to iterate over the dates in the date range first, before defining the search query for that day and scraping the desired number of tweets. Notice that the dates stored in the previously created ``date_range`` are of the data type ``datetime``. They can be converted to strings by using the function [``strftime``](https://pandas.pydata.org/docs/reference/api/pandas.Series.dt.strftime.html). You can format the desired output strings with the following keywords:\n",
        "* ``%Y`` which corresponds to YYYY.\n",
        "* ``%m`` which corresponds to mm.\n",
        "* ``%d`` which corresponds to dd.\n",
        "\n",
        "Make sure to take care of the hypens in these dates, too, when converting the date range, as your Twitter search query will be invalid without them. The same applies to the order of the year, month and date in the string.\n",
        "</br></br>\n",
        "**Hint:** wrap the output of ``date_range.strftime()`` in ``list()`` to convert the Numpy object to a Python list, which is more convenient in this instance."
      ],
      "metadata": {
        "id": "gaRxDrlytsTd"
      }
    },
    {
      "cell_type": "code",
      "source": [
        "# TODO\n",
        "# 1. Convert the date range to a list of date strings.\n",
        "date_range_list = list(date_range.strftime('%Y-%m-%d'))\n",
        "# 2. Write the scraping function.\n",
        "date_range_list_dt = pd.to_datetime(date_range_list)\n",
        "place_id = '6416b8512febefc9'\n",
        "def scrape_time_range(list_of_tweets, place_id, date_range, number_of_tweets):\n",
        "  index = 0\n",
        "  for date in date_range:\n",
        "    start_date = date\n",
        "    if index == len(date_range_list) - 1:\n",
        "      break\n",
        "    else:\n",
        "      end_date = date_range[index+1]\n",
        "  scraped_tweets = sntwitter.TwitterSearchScraper(f\"lang:en place:{place_id} since:{start_date} until:{end_date}\").get_items()\n",
        "  for i, tweet in enumerate(scraped_tweets):\n",
        "    list_of_tweets.append(tweet.rawContent)\n",
        "    list_of_tweets.append(tweet.date)\n",
        "    if i == number_of_tweets - 1:\n",
        "      break            \n",
        "  return list_of_tweets\n",
        "scrape_time_range(tweets, place_id, date_range_list_dt, 10)"
      ],
      "metadata": {
        "id": "TElSPEnc_e56",
        "outputId": "a9992f21-c0ef-40b0-e69e-944f9aa2759f",
        "colab": {
          "base_uri": "https://localhost:8080/"
        }
      },
      "execution_count": 56,
      "outputs": [
        {
          "output_type": "stream",
          "name": "stderr",
          "text": [
            "WARNING:snscrape.modules.twitter:Stopping after 20 empty pages\n"
          ]
        },
        {
          "output_type": "execute_result",
          "data": {
            "text/plain": [
              "['Wrong text sent by a UK Hospital to its customers inspite of sending Christmas and New Year wishes! https://t.co/4xhAs4MiYG',\n",
              " datetime.datetime(2022, 12, 30, 21, 55, 19, tzinfo=datetime.timezone.utc),\n",
              " \"Free #NBA\\xa0 Bets ➡️ https://t.co/tbmmbSefgM…\\n\\nDon't miss out AGAIN ....\\n\\nTonight looks much better than last night !! \\n--------------------------------------\\n#GamblingTwiitter #GamblingTwitter #bettingtwitter https://t.co/dG7lEqyBcr\",\n",
              " datetime.datetime(2022, 12, 30, 21, 32, 24, tzinfo=datetime.timezone.utc),\n",
              " 'For years I treasured my  @BBCLeicester mug signed by @MartineBBC (thanks to @bmt44 ) - too frightened to ever actually use it - only to discover when something brushed against it that it was in washable ink. A @BBCLeicester mug that isn’t signed by Maxine just isn’t the same',\n",
              " datetime.datetime(2020, 1, 1, 23, 0, 23, tzinfo=datetime.timezone.utc),\n",
              " 'This is very sad news affecting the @British_Airways family. My thoughts are with their family and friends at this terrible time.',\n",
              " datetime.datetime(2020, 1, 1, 22, 47, 42, tzinfo=datetime.timezone.utc),\n",
              " 'Most of us did Rick',\n",
              " datetime.datetime(2020, 1, 1, 22, 47, 36, tzinfo=datetime.timezone.utc),\n",
              " \"@SupaZombieGirI @Caffeine_Sam That's all of us, right? 😅\",\n",
              " datetime.datetime(2020, 1, 1, 22, 40, 48, tzinfo=datetime.timezone.utc),\n",
              " '@GhosthuntingCPI Every day 😅',\n",
              " datetime.datetime(2020, 1, 1, 22, 37, 35, tzinfo=datetime.timezone.utc),\n",
              " '💔HQ at #ZSHQ lowers our flag in honor of squad member Mau \\n@MauSupercat Florida \"King of the Bacon\" \\nwho crossed OTRB🌈today to be reunited  wid friends in ZOMBIESQUAD OTRB Brigade*salutes&amp;bows head in respect*. \\nOnce ZOMBIESQUAD FOREVER ZOMBIESQUAD!\\nPlease patrol in Mau\\'s honor https://t.co/4MeYXbJN9j',\n",
              " datetime.datetime(2020, 1, 1, 22, 12, 30, tzinfo=datetime.timezone.utc),\n",
              " '@Muslim_Patrol @FreeBabarAhmad @johnmcavoy2 Had the privilege of conducting Hajj 2018 with @FreeBabarAhmad and got little snippets of his extraordinary story, what a legend having gone through what he did and still to be smiling and making others laugh with his dry sense of humour!!\\n\\nStill waiting for the book 😂',\n",
              " datetime.datetime(2020, 1, 1, 22, 10, 8, tzinfo=datetime.timezone.utc),\n",
              " 'Congratulations @m8arteta',\n",
              " datetime.datetime(2020, 1, 1, 22, 6, 42, tzinfo=datetime.timezone.utc),\n",
              " 'Same thing I kept asking myself, how they went through the game without a yellow card is a mystery',\n",
              " datetime.datetime(2020, 1, 1, 22, 5, 49, tzinfo=datetime.timezone.utc),\n",
              " \"@FreeBabarAhmad @johnmcavoy2 Whens the book out highlighting you're extraordinary experience?\",\n",
              " datetime.datetime(2020, 1, 1, 22, 3, 42, tzinfo=datetime.timezone.utc),\n",
              " \"Hammy's Boomerang Adventure: https://t.co/PNMHeN8aEv via @bbciplayer\",\n",
              " datetime.datetime(2020, 1, 2, 23, 16, 15, tzinfo=datetime.timezone.utc),\n",
              " \"No Air- Jordin Sparks/CB\\n\\nEh where's Jordin Sparks? 🤔\\n\\nJeeeeeeeeeeeeeeeeez  I had a serious crush on that chic\",\n",
              " datetime.datetime(2020, 1, 2, 22, 59, 29, tzinfo=datetime.timezone.utc),\n",
              " '@MikeGamlin1 Only if the world runs out of working cocker spaniels first https://t.co/k0KXZDepTm',\n",
              " datetime.datetime(2020, 1, 2, 22, 47, 56, tzinfo=datetime.timezone.utc),\n",
              " '@DaveVescio Waiting for the Tarantino adaptation. Bwahaha',\n",
              " datetime.datetime(2020, 1, 2, 22, 45, 13, tzinfo=datetime.timezone.utc),\n",
              " '@Amyesaunders1 Happy New Year Amy 2️⃣0️⃣2️⃣0️⃣ 🎉👏 https://t.co/Cs7gfgd4v1',\n",
              " datetime.datetime(2020, 1, 2, 22, 35, 51, tzinfo=datetime.timezone.utc),\n",
              " 'Miss Independent- Ne-yo\\n\\n#TBT',\n",
              " datetime.datetime(2020, 1, 2, 22, 35, 5, tzinfo=datetime.timezone.utc),\n",
              " 'Beautiful Girls- Sean Kingston',\n",
              " datetime.datetime(2020, 1, 2, 22, 34, 17, tzinfo=datetime.timezone.utc),\n",
              " \"@Fight4Pissouri @USMarketingTips @AnastasiadesCY @Beyond_Contempt Thank you very much for the truth. It'd call it a reward for releasing the rapists &amp; intimidating the #victim for 9 hours by questioning her without the presence of her legal advice. While the interrogators took turns drilling her with 100s of questions while she was suffering 😕 https://t.co/JXP29u4wh9\",\n",
              " datetime.datetime(2020, 1, 2, 22, 29, 44, tzinfo=datetime.timezone.utc),\n",
              " '@Stevera16980031 @gondorffhenry @32Red @WayneRooney @dcfcofficial Agree with this ☝️',\n",
              " datetime.datetime(2020, 1, 2, 22, 26, 20, tzinfo=datetime.timezone.utc),\n",
              " 'Gracious is one kind word. #playonwords #stopprocrastinating #penmonkey @noshizzle2019 https://t.co/ha2mc9q8to',\n",
              " datetime.datetime(2020, 1, 2, 22, 22, 54, tzinfo=datetime.timezone.utc),\n",
              " '@cheeky1892 @jemorgan77 @CGCMembers Would love to take your money son.. Welcome anytime 😜🤟',\n",
              " datetime.datetime(2020, 1, 3, 23, 49, 23, tzinfo=datetime.timezone.utc),\n",
              " 'Harley Quinn 1x06 - Harley Escapes With ClayFace\\n\\nhttps://t.co/0xRbDxUfpq',\n",
              " datetime.datetime(2020, 1, 3, 23, 46, 4, tzinfo=datetime.timezone.utc),\n",
              " '#Dracula Episode 1: Amazing, dark, very clever, funny\\nEpisode 2: Intriguing, twisty, still pretty good\\nEpisode 3: https://t.co/kLRUeTNuO7',\n",
              " datetime.datetime(2020, 1, 3, 23, 45, 48, tzinfo=datetime.timezone.utc),\n",
              " '2020 here i go- https://t.co/pTYWngz4IS',\n",
              " datetime.datetime(2020, 1, 3, 23, 42, 17, tzinfo=datetime.timezone.utc),\n",
              " '@IbnRafeeq01 She needs serious help!\\n\\nAlot of hate and frustration built up!',\n",
              " datetime.datetime(2020, 1, 3, 23, 38, 43, tzinfo=datetime.timezone.utc),\n",
              " '@BelievingW You need frigging help!',\n",
              " datetime.datetime(2020, 1, 3, 23, 36, 47, tzinfo=datetime.timezone.utc),\n",
              " 'Quality knock with @jemorgan77 today @CGCMembers 🤟🏌️\\u200d♂️.. Course looking stunning and the weather couldn’t have been better ☀️.. I’m still topping Mogsys pension fund up 😝🙈💰 #schooled #rematchpending https://t.co/XtyYdIBDIl',\n",
              " datetime.datetime(2020, 1, 3, 23, 22, 45, tzinfo=datetime.timezone.utc),\n",
              " 'Every Master Reveal (2007 - 2020) - Doctor Who #DoctorWho #DoctorWhoSeries12 @MandipGill @bbcdoctorwho \\n\\nhttps://t.co/E5n0UnUpRj',\n",
              " datetime.datetime(2020, 1, 3, 23, 10, 45, tzinfo=datetime.timezone.utc),\n",
              " 'Mail on Sunday forced to issue correction following false Corbyn smear https://t.co/94gQdPcfVw',\n",
              " datetime.datetime(2020, 1, 3, 22, 42, 51, tzinfo=datetime.timezone.utc),\n",
              " \"@mumakauseni In your lease contract there's probably a minimum period of notice for him to terminate the contract &amp; most of the time it's one month, check properly &amp; see if that hasn't been respected otherwise he's at liberty to terminate the contract without even explaining\",\n",
              " datetime.datetime(2020, 1, 3, 22, 15, 47, tzinfo=datetime.timezone.utc),\n",
              " '@OwaisMohyuddin How sad!\\n\\nPropagating the killing of a Muslim by the west who seem to think they can kill Muslim leaders and military personnel whenever they want is very sad!\\n\\nSaddam Gaddafi etc. Etc. The west have made the world a more dangerous place!\\n\\nNow they playing dirty games with Iran',\n",
              " datetime.datetime(2020, 1, 4, 23, 46, 47, tzinfo=datetime.timezone.utc),\n",
              " '@WMpoko Data off to begin with lol',\n",
              " datetime.datetime(2020, 1, 4, 23, 44, 55, tzinfo=datetime.timezone.utc),\n",
              " '@WMpoko Goodnight 😊',\n",
              " datetime.datetime(2020, 1, 4, 23, 37, 24, tzinfo=datetime.timezone.utc),\n",
              " '@FeminaIndia @priyankachopra @nickjonas No they are not! https://t.co/A2pZBOnIXq',\n",
              " datetime.datetime(2020, 1, 4, 23, 36, 56, tzinfo=datetime.timezone.utc),\n",
              " 'Sending Love &amp; #SundayThoughts To Each &amp; Everyone Of You On The First Sunday Of 2020! 🙏🕊\\nOwn Your stories For A Brave New Ending &amp; Bright New Begining! Make 2020 A \"Beautiful Life\" 💕\\n@donnyosmond &amp; @marieosmond \\n\\nEnjoy EVERYONE &amp; Thankyou For Your Support You\\'re Appreciated 💋 https://t.co/cw4jdan0ea',\n",
              " datetime.datetime(2020, 1, 4, 23, 32, 56, tzinfo=datetime.timezone.utc),\n",
              " 'Musical road. https://t.co/J3HyerVa4O',\n",
              " datetime.datetime(2020, 1, 4, 22, 40, 46, tzinfo=datetime.timezone.utc),\n",
              " 'Rarely seen..  the armour of\\nKing Charles I \\n👌👌👌 #CharlesI #Royals #Stuarts #Scotland #Ireland #France #KingCharlesI https://t.co/m5ykWe7hkT',\n",
              " datetime.datetime(2020, 1, 4, 22, 36, 41, tzinfo=datetime.timezone.utc),\n",
              " '@British_Airways Thanks for giving me Economy food while my seat was in Premium Economy. What’s the point of paying the extra money?',\n",
              " datetime.datetime(2020, 1, 4, 22, 34, 9, tzinfo=datetime.timezone.utc),\n",
              " 'Any recommendations for a job that is little effort and pays like £1000 an hour? https://t.co/aitn4ZTM1W',\n",
              " datetime.datetime(2020, 1, 4, 22, 29, 22, tzinfo=datetime.timezone.utc),\n",
              " 'Congrats on starting a channel! I really enjoyed watching this, everybody go check it out! ☺️',\n",
              " datetime.datetime(2020, 1, 4, 22, 24, 47, tzinfo=datetime.timezone.utc),\n",
              " 'Doctor Who 12x02 (Spyfall Part Two) - Kneel Before The Master\\n\\nhttps://t.co/idx15dy4wK',\n",
              " datetime.datetime(2020, 1, 5, 23, 8, 51, tzinfo=datetime.timezone.utc),\n",
              " 'ZOMBIESQUAD #ZSHQ #zzst #PalsPorch 💚Send off for General Shay💚 @MadSCWT \\non Saturday 11th January 2020 at 5pm UK \\n(see poster for additional time zones) immediately after ZOMBIESQUAD Saturday Training on #GeneralShay \\n@LordBiddy \\n@HRHLou https://t.co/h7dVASEt7V',\n",
              " datetime.datetime(2020, 1, 5, 22, 59, 3, tzinfo=datetime.timezone.utc),\n",
              " 'Twitter for Android',\n",
              " datetime.datetime(2020, 1, 5, 22, 40, 20, tzinfo=datetime.timezone.utc),\n",
              " '@jacksfilms This is the single greatest advert for Android or Twitter ever made',\n",
              " datetime.datetime(2020, 1, 5, 22, 39, 44, tzinfo=datetime.timezone.utc),\n",
              " '@Wozza5882 Wish you all the best.',\n",
              " datetime.datetime(2020, 1, 5, 22, 31, 58, tzinfo=datetime.timezone.utc),\n",
              " '⬆️⬆️⬆️ Wouldn’t be here right now if it wasn’t for @efultimatebreak ❤️🌍 Use my code BAParis100 when booking for $100 off! #ThisIsUltimate',\n",
              " datetime.datetime(2020, 1, 5, 22, 24, 51, tzinfo=datetime.timezone.utc),\n",
              " 'Camarie Jones - Wake Up https://t.co/unPSWxFYq0 This Is 🔥🔥 He Got The Streets Going heavy with this  #Rap #HipHopMusic #youtube #view #Drill #New #Newyork #Boston',\n",
              " datetime.datetime(2020, 1, 5, 22, 19, 55, tzinfo=datetime.timezone.utc),\n",
              " '@JK197200 Pawtastic skills Honey Boo!\\nFinal step b4 HQ can issue your ZOMBIE HUNTER Starter Kit &amp;give you access to ZOMBIESQUAD TEAM APP members Section need you to do a written OATH to ZOMBIESQUAD #ZSHQ wid yur pawsignature🐾on the bottom.\\nHere are some examples but originality is valued. https://t.co/MkAsfEi42F',\n",
              " datetime.datetime(2020, 1, 5, 22, 7, 58, tzinfo=datetime.timezone.utc),\n",
              " \"@BarbaraShiels2 @DawnHFoster Well, when asked about her views on nationalisation, she said that other priorities were important such as eradicating homelessness.\\n\\nWhat you've posted is   incorrect.\",\n",
              " datetime.datetime(2020, 1, 5, 22, 0, 56, tzinfo=datetime.timezone.utc),\n",
              " 'Been saying this',\n",
              " datetime.datetime(2020, 1, 5, 21, 58, 32, tzinfo=datetime.timezone.utc),\n",
              " \"Just Because I Love This Song &amp; We're All Missing 🕺@donnyosmond &amp; 💃 @marieosmond &amp; Their Unique Sibling Stage Banter! \\n\\nEnjoy EVERYONE 🎶🎤💋\\n#TuesdayThoughts https://t.co/DnFQk1Ph2K\",\n",
              " datetime.datetime(2020, 1, 6, 23, 41, 55, tzinfo=datetime.timezone.utc),\n",
              " '@KasanMulyono @sahouraxo Whatever buddy!\\n\\nStop living in dream land and get the facts right!',\n",
              " datetime.datetime(2020, 1, 6, 23, 29, 19, tzinfo=datetime.timezone.utc),\n",
              " 'We hope everyone had a lovely Christmas and Happy New Year! \\nAll our sessions are back up and running this week 🙌 💪 🎾 https://t.co/kfk6EZS2A1',\n",
              " datetime.datetime(2020, 1, 6, 23, 2, 51, tzinfo=datetime.timezone.utc),\n",
              " 'Great. All flatmates are back home their holidays. It’s fucking loud already.',\n",
              " datetime.datetime(2020, 1, 6, 22, 41, 2, tzinfo=datetime.timezone.utc),\n",
              " \"#BDOWorldChampionships atmosphere is that bad even Ted Hankey's plastic bats would fly back into his cloak if he was there 🤣🤣🤣🤣🤣🤣🤣🤣🤣🤣🤣🤣🤣🤣🤣 #BDODarts #BDOWorlds #BDO\",\n",
              " datetime.datetime(2020, 1, 6, 22, 25, 42, tzinfo=datetime.timezone.utc),\n",
              " \"@annette_duff @2351onthelist @KatePotts11 @GrumpyOldLab @murchu_padraig @ScotShips @UKDefJournal @StevenM95164330 @v8ftw @njpc1888 @DavidNi61157349 @AudioKid3 @kevverage @snpwatch @IndigoFast @MacReasonable @nigel__w_ @Seaweed_Muncher @StewartNial @Emmacochrane9 @waco61 @Thistleman1971 I'm from Wales but very much British, thanks.\",\n",
              " datetime.datetime(2020, 1, 6, 22, 23, 31, tzinfo=datetime.timezone.utc),\n",
              " \"@BorisJohnson @ScottMorrisonMP Pity @ScottMorrisonMP couldn't be ats*d to act quick enough though.\",\n",
              " datetime.datetime(2020, 1, 6, 22, 18, 57, tzinfo=datetime.timezone.utc),\n",
              " '@Tessacan61 @boblister_poole The ppl of this country are not at odds with the ppl of the 27 EU. \\n\\nUK are at odds with the top brass of the EU. \\n\\nThe Brits love the ppl of the EU! \\n\\nIt is the top brass of EU who are intransigent bodies making life difficult to Brexit. Their salaries are at the heart of this.',\n",
              " datetime.datetime(2020, 1, 6, 22, 8, 30, tzinfo=datetime.timezone.utc),\n",
              " '@Lulu_Blue2012 😂\\n\\nGet well soon!',\n",
              " datetime.datetime(2020, 1, 6, 21, 59, 39, tzinfo=datetime.timezone.utc),\n",
              " '@WainmanJoe Yep on his own!',\n",
              " datetime.datetime(2020, 1, 6, 21, 58, 59, tzinfo=datetime.timezone.utc),\n",
              " '@united_myth If Bruno was that good why did no bugger else sign him.',\n",
              " datetime.datetime(2020, 1, 7, 23, 54, 27, tzinfo=datetime.timezone.utc),\n",
              " '@united_myth When you start spouting the \"fans like you\" and \"top red\" bile, it\\'s difficult to engage with you, as you haven\\'t really got a clue of how I feel &amp; think about my club. But one thing is for certain, I won\\'t turn on them or slag them off in public regardless of how shit some are.',\n",
              " datetime.datetime(2020, 1, 7, 23, 52, 22, tzinfo=datetime.timezone.utc),\n",
              " '@XRiteshJha @PatriotNews8 @Imamofpeace We know what Indian men do buddy!!!\\n\\nDisgusting https://t.co/uR5iB52Hyb',\n",
              " datetime.datetime(2020, 1, 7, 23, 50, 55, tzinfo=datetime.timezone.utc),\n",
              " '@collins_barrie Never heard of that one mate 😜😜😂',\n",
              " datetime.datetime(2020, 1, 7, 23, 35, 35, tzinfo=datetime.timezone.utc),\n",
              " \"@united_myth I'm an under achiever, not a fucking idiot. \\n\\nI'm well aware of the problems. They have been eroding the club away since 2005. I did my bit in protest back then when it mattered most. But, far too many reds had their heads in the sand, as we were successful on the pitch\",\n",
              " datetime.datetime(2020, 1, 7, 23, 34, 32, tzinfo=datetime.timezone.utc),\n",
              " \"If we can pull off a 2-0 win in the 2nd leg, then we go through 3-3 on aggregate, with the home goals rule. All to play for. UTFR's 🇾🇪🇾🇪🇾🇪🇾🇪🇾🇪\",\n",
              " datetime.datetime(2020, 1, 7, 23, 22, 18, tzinfo=datetime.timezone.utc),\n",
              " '@Shoaib_Ah17 Not for me. He can stay and im prepared to be patient and let him build his squad and get rid of the crap. Cant keep changing managers. Need stability.',\n",
              " datetime.datetime(2020, 1, 7, 23, 12, 12, tzinfo=datetime.timezone.utc),\n",
              " \"@jonmikesav8 I'd happy take Tony Grealish, but I have a feeling he passed away a couple of years ago. Jack will have to do instead.\",\n",
              " datetime.datetime(2020, 1, 7, 23, 9, 52, tzinfo=datetime.timezone.utc),\n",
              " \"@Shoaib_Ah17 Lingard isn't bloody young anymore. Think you are being a bit harsh on some of them in that list, some not been with us or involved for long, we need to give them a chance. Matter if opinion of course. I've seen a lot worse United sides than this in the past.\",\n",
              " datetime.datetime(2020, 1, 7, 23, 5, 20, tzinfo=datetime.timezone.utc),\n",
              " '@Shoaib_Ah17 Too right. Give them, the @theslowreadersclub a listen, one of the best bands to come out of Manchester for years.',\n",
              " datetime.datetime(2020, 1, 7, 23, 2, 15, tzinfo=datetime.timezone.utc),\n",
              " '@alispagnola Love it 😂😂😂 https://t.co/vmHV4rZBuL',\n",
              " datetime.datetime(2020, 1, 8, 23, 35, 18, tzinfo=datetime.timezone.utc),\n",
              " '.@bbcpress @BBCPolitics @BBCNews really ...',\n",
              " datetime.datetime(2020, 1, 8, 23, 24, 3, tzinfo=datetime.timezone.utc),\n",
              " '@KitMinus7 @who_dw1 During the Time War The Daleks killed or drove all the Time Lords back to Gallifrey where they were surrounded and I assume blocked all teleportation or time interference technology. Since Gallifrey is apparently accessible now you have a point, loads of them could have just left',\n",
              " datetime.datetime(2020, 1, 8, 23, 19, 47, tzinfo=datetime.timezone.utc),\n",
              " '@unclerico1979 @dante_morrigan @Triaxe666 @Stonestream I see that yeah. Pretty deceptive stuff',\n",
              " datetime.datetime(2020, 1, 8, 23, 3, 9, tzinfo=datetime.timezone.utc),\n",
              " '@ErrolLeemusic So, so true.',\n",
              " datetime.datetime(2020, 1, 8, 22, 59, 33, tzinfo=datetime.timezone.utc),\n",
              " 'Not convinced that this programme is presenting a coherent or compelling message to the average punter #ApocalypseCow',\n",
              " datetime.datetime(2020, 1, 8, 22, 47, 45, tzinfo=datetime.timezone.utc),\n",
              " 'Josh just fell asleep on me and he was breathing so heavy the Met Office put out a weather warning for wind 💨 ⚠️ https://t.co/oKr3s8HYa3',\n",
              " datetime.datetime(2020, 1, 8, 22, 45, 17, tzinfo=datetime.timezone.utc),\n",
              " 'Well what a first #workoutwednesday of 2020 with the David bros! Intense, hard work and soaked through! but worth the pints at the end !! 🤟🏼🍻🏃🏻\\u200d♂️🏃🏻\\u200d♀️🏃🏻\\u200d♂️ #lovethesedudes https://t.co/tJqKMJoGDH',\n",
              " datetime.datetime(2020, 1, 8, 22, 44, 15, tzinfo=datetime.timezone.utc),\n",
              " 'When the film Home Again on Netflix expires on the day that Columbia Pictures was founded. https://t.co/aILFZdmkwV',\n",
              " datetime.datetime(2020, 1, 8, 22, 44, tzinfo=datetime.timezone.utc),\n",
              " 'Just a place called home 🌍 https://t.co/0z1y8ZNk6h',\n",
              " datetime.datetime(2020, 1, 8, 22, 25, 55, tzinfo=datetime.timezone.utc),\n",
              " 'Local legend and active footballer @GeoffCameron went Rogue. Lets be real you all know who he is. ☠️ https://t.co/fw3e4GjhbY',\n",
              " datetime.datetime(2020, 1, 9, 23, 24, 37, tzinfo=datetime.timezone.utc),\n",
              " 'Dropping a new business at @Autosport_Show tomorrow - video in the evening. Meet &amp; greets at 2pm Sat &amp; Sun on my stand 4320 Hall 4 too. Woyoiiiii',\n",
              " datetime.datetime(2020, 1, 9, 23, 23, 16, tzinfo=datetime.timezone.utc),\n",
              " 'Well done to @jacko55555 and the team tonight. Into the next round, but don’t talk to me about the pitch 🙈 difficult for the lads to play the way they wanted to.',\n",
              " datetime.datetime(2020, 1, 9, 23, 3, 36, tzinfo=datetime.timezone.utc),\n",
              " 'Was looking for gigs via #BandsInTown and found #Showaddywaddy by accident.... I thought they were long gone.',\n",
              " datetime.datetime(2020, 1, 9, 23, 2, 10, tzinfo=datetime.timezone.utc),\n",
              " '@RaviSinghKA \\n\\nThis screenshot taken as it all was kicking off!!!\\n\\nWhy did these flights not divert?\\n\\nSurely they were more in danger than the Ukraine flight?\\n\\nSomething smells fishy! https://t.co/QRJgXcse5X',\n",
              " datetime.datetime(2020, 1, 9, 22, 52, 4, tzinfo=datetime.timezone.utc),\n",
              " 'I had a great day today teaching Self Defence with Paul Bell at Liverpool FC Academy #Liverpool #Liverpoolfc #YNWA #acmacmartialarts https://t.co/ESYQpSjGRj',\n",
              " datetime.datetime(2020, 1, 9, 22, 46, 52, tzinfo=datetime.timezone.utc),\n",
              " \"What's going on at Radio 4?\\nThe real issue with Radio 4 is that it's trying to get new listeners by dumbing down thereby ostracising existing listeners. Newspapers are suffering the same fate. However, some people want to be challenged and to learn. https://t.co/3TvcjasbSj\",\n",
              " datetime.datetime(2020, 1, 9, 22, 46, 47, tzinfo=datetime.timezone.utc),\n",
              " 'First time ordering on ASOS in years! 😊🛍💸',\n",
              " datetime.datetime(2020, 1, 9, 22, 39, 24, tzinfo=datetime.timezone.utc),\n",
              " '⚠️WARNING TO ALL MEN ⚠️ \\n\\nNever brush your teeth whilst urinating! If the toothpaste drips and lands in the wrong place it’s........ https://t.co/eaWm5tRsFF',\n",
              " datetime.datetime(2020, 1, 9, 22, 32, 35, tzinfo=datetime.timezone.utc),\n",
              " \"U\\u200b.\\u200bS. Government:  Please Provide Support to Australia's Volunteer Firefighters - Sign the Petition! https://t.co/ORxCdTl7ZJ via @Change\",\n",
              " datetime.datetime(2020, 1, 9, 22, 24, 50, tzinfo=datetime.timezone.utc),\n",
              " '@_johnegan @nathancwood @_aechive @CITA_Ltd @BIMIreland @speckle_works @viewpointcs @ASITE @BIM360 @Invicara @i3PTCert @buildingSMARTIn @Aconex @procoretech Check first @_johnegan who wrote the paper. @Aconex would love that their system can be called a CDE... The project #CDE is the collaborative environment set up by the project members to exchange data. The important part is the data governance, not the systemS (plural)',\n",
              " datetime.datetime(2020, 1, 10, 23, 46, 56, tzinfo=datetime.timezone.utc),\n",
              " '@ralph_arcdox @_johnegan @_aechive @nathancwood @CITA_Ltd @BIMIreland @speckle_works @viewpointcs @ASITE @BIM360 @Invicara @i3PTCert @buildingSMARTIn @Aconex @procoretech Can we stop all this talking about files? The hint in #IsO19650 is the word #container. We need to exchange #data ( as in Comon Data environment) not files.',\n",
              " datetime.datetime(2020, 1, 10, 23, 41, 55, tzinfo=datetime.timezone.utc),\n",
              " '🎶Light-en-ing Striking Again🎶 #HairdressersLikeSinging',\n",
              " datetime.datetime(2020, 1, 10, 23, 40, 15, tzinfo=datetime.timezone.utc),\n",
              " \"@Lusungu_Sparks Better loud.. I know where it's likely to play so I'll follow it 😉\",\n",
              " datetime.datetime(2020, 1, 10, 23, 39, 5, tzinfo=datetime.timezone.utc),\n",
              " \"🎶Don't worry..'bout a trim.. #hairdresserslikesinging\",\n",
              " datetime.datetime(2020, 1, 10, 23, 32, 2, tzinfo=datetime.timezone.utc),\n",
              " '🎶Putting on the Style #hairdresserslikesinging',\n",
              " datetime.datetime(2020, 1, 10, 23, 28, 5, tzinfo=datetime.timezone.utc),\n",
              " '🎶Ringlets, Curls &amp; Weaves🎶#hairdresserslikesinging',\n",
              " datetime.datetime(2020, 1, 10, 23, 22, 48, tzinfo=datetime.timezone.utc),\n",
              " \"I've had Jason's Swalla on my mind the whole day..\\n\\nPerhaps I can do with some loud music next weekend..\",\n",
              " datetime.datetime(2020, 1, 10, 23, 12, 53, tzinfo=datetime.timezone.utc),\n",
              " '@jaketapper I suggest you get the facts first!',\n",
              " datetime.datetime(2020, 1, 10, 23, 12, 4, tzinfo=datetime.timezone.utc),\n",
              " 'Harley Quinn 1x07 - Harley Presents The Queen of Fables I Poison Ivy Looks For Kiteman\\n\\nhttps://t.co/HCgqk2YPcR',\n",
              " datetime.datetime(2020, 1, 10, 22, 59, 32, tzinfo=datetime.timezone.utc),\n",
              " '#IfCelebritiesWentToWar   My Special Forces squad. https://t.co/ItVoeEnFhp',\n",
              " datetime.datetime(2020, 1, 11, 23, 55, 16, tzinfo=datetime.timezone.utc),\n",
              " '@Disney_OnWheels @JeffreeStar It’s heartbreaking 🙁',\n",
              " datetime.datetime(2020, 1, 11, 22, 23, 9, tzinfo=datetime.timezone.utc),\n",
              " '@billyjharvey5 Assuming we are in the country we’d love to attend 👍🏻',\n",
              " datetime.datetime(2020, 1, 11, 22, 22, 35, tzinfo=datetime.timezone.utc),\n",
              " '@ManUtd See you on Wednesday mates!!',\n",
              " datetime.datetime(2020, 1, 11, 22, 11, 2, tzinfo=datetime.timezone.utc),\n",
              " \"My Indian boss explaining how his sisters sell the hairs that remain on the comb when they're combing to venders that pass through households everyday 🤣🤣..\\n\\nWell, I now I understand where 'Indian hair' comes from 🤔🤔\",\n",
              " datetime.datetime(2020, 1, 11, 22, 3, 19, tzinfo=datetime.timezone.utc),\n",
              " 'I can tag myself for anything Netflix! Also the way it looks in the picture is insane 😍😍',\n",
              " datetime.datetime(2020, 1, 11, 21, 42, 53, tzinfo=datetime.timezone.utc),\n",
              " \"@MusengaNm I'm desperate need of it but I won't find it 😏\",\n",
              " datetime.datetime(2020, 1, 11, 21, 38, 27, tzinfo=datetime.timezone.utc),\n",
              " 'I would love to but doing Dry January mate! The guy must be on the fruit juice 😂',\n",
              " datetime.datetime(2020, 1, 11, 21, 21, 7, tzinfo=datetime.timezone.utc),\n",
              " 'Wind your Neck in Jamie🤕',\n",
              " datetime.datetime(2020, 1, 11, 21, 16, 40, tzinfo=datetime.timezone.utc),\n",
              " 'Seriously @BRITs\\n\\nYou’ve overlooked @kylieminogue 💃YET AGAIN for #BestInternationalFemale\\n\\n#KylieMinogue had a great 2019 (No.1 Album, Glasto, Pride Headliner, UK Tour)&amp; really should have (at very minimum) received a nomination\\n\\n#InjusticeForKylieMinogue #TheBrits #Music #Brits',\n",
              " datetime.datetime(2020, 1, 11, 21, 12, 9, tzinfo=datetime.timezone.utc),\n",
              " 'How much money is @twitter making charging company\\'s to be a \"promoted tweet\" to appear in #LoveIsland hashtag searches timeline?? #chingching for #twitter I say',\n",
              " datetime.datetime(2020, 1, 12, 23, 50, 32, tzinfo=datetime.timezone.utc),\n",
              " '@steveaustinBSR They were just playing you entrance theme #OhHellYeah',\n",
              " datetime.datetime(2020, 1, 12, 23, 22, tzinfo=datetime.timezone.utc),\n",
              " 'What a world... https://t.co/QJjZCXp3SL',\n",
              " datetime.datetime(2020, 1, 12, 22, 45, 49, tzinfo=datetime.timezone.utc),\n",
              " \"The 'Andy Carroll' chants from Stretford End\\n\\n🤣🤣🤣🤣🤣\",\n",
              " datetime.datetime(2020, 1, 12, 22, 45, 35, tzinfo=datetime.timezone.utc),\n",
              " '@DogBountyHunter Thank you, brother. \\n\\nI hope your heart is healing 🤙🏻',\n",
              " datetime.datetime(2020, 1, 12, 22, 41, 5, tzinfo=datetime.timezone.utc),\n",
              " 'https://t.co/rScLsOSagU\\n\\nBailiffs raid incorrect address.',\n",
              " datetime.datetime(2020, 1, 12, 22, 29, 21, tzinfo=datetime.timezone.utc),\n",
              " '@piersmorgan Which country next after the US rejected you',\n",
              " datetime.datetime(2020, 1, 12, 22, 20, 9, tzinfo=datetime.timezone.utc),\n",
              " 'His teeth are SCARING ME',\n",
              " datetime.datetime(2020, 1, 12, 21, 36, 55, tzinfo=datetime.timezone.utc),\n",
              " 'One of my favourite logos from an independent film distributor. When I watch a movie from StudioCanal, their logo is so beautiful and uses some gentle music. I like the fact that they use glass and the glorious coloured lights shining onto it. ✨ https://t.co/L32GM7vaPq',\n",
              " datetime.datetime(2020, 1, 12, 21, 16, 59, tzinfo=datetime.timezone.utc),\n",
              " '@MarcusRashford Should I bring one next Wednesday night?',\n",
              " datetime.datetime(2020, 1, 12, 20, 56, 39, tzinfo=datetime.timezone.utc),\n",
              " \"@935KDAY Let's be real, he is a one hit wonder\",\n",
              " datetime.datetime(2020, 1, 13, 23, 58, 43, tzinfo=datetime.timezone.utc),\n",
              " '@karenwales66 For one thing there is only one race and that is the human race. We all belong to the human race so how can anyone be racist? And two I have noticed that the only people that use the race card are those who are being manipulative!',\n",
              " datetime.datetime(2020, 1, 13, 23, 27, 44, tzinfo=datetime.timezone.utc),\n",
              " '@errjustsaying @boblister_poole I so agree with you. For one thing there is only one race and that is the human race. We all belong to the human race so how can anyone be racist? And two I have noticed that the only people that use the race card are those who are being manipulative!',\n",
              " datetime.datetime(2020, 1, 13, 23, 6, 17, tzinfo=datetime.timezone.utc),\n",
              " '@TrishaPhillipss @lienomail I so agree with you. For one thing there is only one race and that is the human race. We all belong to the human race so how can anyone be racist? And two I have noticed that the only people that use the race card are those who are being manipulative!',\n",
              " datetime.datetime(2020, 1, 13, 23, 3, 39, tzinfo=datetime.timezone.utc),\n",
              " '@collins_barrie Plus the gear stick could of slid up your poo pipe too, if not careful on a sunny day.',\n",
              " datetime.datetime(2020, 1, 13, 22, 53, 50, tzinfo=datetime.timezone.utc),\n",
              " '@Twitter Do Drink and Tweet.\\nDo the opposite thats out of your comfort zone.\\nDid you know sometimes a really simple way to be more productive is to drink more water 🍶 or Coffee ☕...',\n",
              " datetime.datetime(2020, 1, 13, 22, 29, 48, tzinfo=datetime.timezone.utc),\n",
              " \"@Nkhuwa_Martin07 @Manass3hx I haven't seen this dance for years\",\n",
              " datetime.datetime(2020, 1, 13, 22, 22, 31, tzinfo=datetime.timezone.utc),\n",
              " \"So, last friday I lied about something unprovoked, it 'ate' me all weekend, unfortunately I couldn't call back the 'victim'. First in the morning today I called the person to apologise that I lied &amp; gave them the correct information..\\n\\nI really wonder how liars feel 😏\",\n",
              " datetime.datetime(2020, 1, 13, 20, 39, 24, tzinfo=datetime.timezone.utc),\n",
              " 'Routine Security Ltd is now SafeContractor Accredited..! https://t.co/OSJhb75Ghz',\n",
              " datetime.datetime(2020, 1, 13, 20, 38, 25, tzinfo=datetime.timezone.utc),\n",
              " '@jslovechild @johnnydoughnut5 😂😂😂😂 lucky I just read that, otherwise god only knows what you may of been exposed to. Clinkers and all 😜👍😂',\n",
              " datetime.datetime(2020, 1, 13, 20, 37, 8, tzinfo=datetime.timezone.utc),\n",
              " '@deoluphotograph God is good! You shall be hooked this year.',\n",
              " datetime.datetime(2020, 1, 14, 23, 58, 30, tzinfo=datetime.timezone.utc),\n",
              " 'Go on, why not have a cuppa tea while you troll #StupidQuestionsForIntroverts https://t.co/uVk5cJrG6Y',\n",
              " datetime.datetime(2020, 1, 14, 23, 43, 56, tzinfo=datetime.timezone.utc),\n",
              " \"@GiffordSir @BarryJWoods @jessphillips How does the NHS get funded?\\n\\nIf that funding increases, there's a better chance that you or your family will get seen more quickly and more attentively the next time you need medical attention.\\n\\nIsn't that worth paying a little bit extra for?\",\n",
              " datetime.datetime(2020, 1, 14, 22, 53, 30, tzinfo=datetime.timezone.utc),\n",
              " 'Here’s 2:1 degree down👩🏿\\u200d🎓🥂\\nWe made it boys. #ByGraceThroughFaith https://t.co/ivFpdvZiK7',\n",
              " datetime.datetime(2020, 1, 14, 22, 49, 59, tzinfo=datetime.timezone.utc),\n",
              " '@takudrawings Still, no one wants to see that!',\n",
              " datetime.datetime(2020, 1, 14, 22, 49, 56, tzinfo=datetime.timezone.utc),\n",
              " '@TheNotoriousMMA what a pleasant change to see you talking like a normal bloke, respect to you, gained another fan for #UFC246 \\n\\nLong may it last! Good luck for the fight!\\n\\n@ufc',\n",
              " datetime.datetime(2020, 1, 14, 22, 48, 22, tzinfo=datetime.timezone.utc),\n",
              " '@CallVoltron @VoltronStore @NBCUniversal @Dreamworks They crushed the characters &amp; their relationships made in co-worker interactions, in the final seasons! Shiro did less, Lance was pitied more, the villains had poor motivations with no sympathy &amp; the altean Princess was thrown into the void after she gave up &amp; lost so much',\n",
              " datetime.datetime(2020, 1, 14, 22, 44, 24, tzinfo=datetime.timezone.utc),\n",
              " 'Thank you all for 150 Subscribers. #RoadTo200Subs\\n\\nhttps://t.co/a1J6HQ7ywd',\n",
              " datetime.datetime(2020, 1, 14, 22, 35, 27, tzinfo=datetime.timezone.utc),\n",
              " 'I believe #TidalPower will be the most important renewable energy for the UK in the future.',\n",
              " datetime.datetime(2020, 1, 14, 22, 35, 19, tzinfo=datetime.timezone.utc),\n",
              " 'Print  off your very own loyalty card and enjoy your FREE holiday. All you have to do is recommend us! Its that easy. Click here to download your very own loyalty card -  https://t.co/Om0RNWdypG #loyaltycard #ukholidays #ukbreaks #freebreaks #loyaltycard #recommendafriend https://t.co/ZmaBZ1jHdl',\n",
              " datetime.datetime(2020, 1, 14, 22, 12, 59, tzinfo=datetime.timezone.utc),\n",
              " \"@DehennaDavison You'll smash it.\",\n",
              " datetime.datetime(2020, 1, 15, 23, 40, 42, tzinfo=datetime.timezone.utc),\n",
              " '@GameOverGreggy @garywhitta Fellow Brit, checking in... https://t.co/tAwUcIatOV',\n",
              " datetime.datetime(2020, 1, 15, 23, 15, 13, tzinfo=datetime.timezone.utc),\n",
              " 'Little animation I did of @charlieputh ! So happy with how it turned out 😍😍 took me a few days to do haha but was totally worth it! Hope he likes it 💚💚💚💚 https://t.co/JiRHv3lVw6',\n",
              " datetime.datetime(2020, 1, 15, 23, 10, 50, tzinfo=datetime.timezone.utc),\n",
              " 'The sun shone on The Duke and Duchess of Cambridge spending the day in Bradford\"  https://t.co/fOowE4GIGX #RoyalVisitBradford #RoyalFamily',\n",
              " datetime.datetime(2020, 1, 15, 23, 5, 37, tzinfo=datetime.timezone.utc),\n",
              " 'Mood😂 https://t.co/lJNwMObTd8',\n",
              " datetime.datetime(2020, 1, 15, 22, 49, 40, tzinfo=datetime.timezone.utc),\n",
              " 'Air travel accounts for 2.5 percent of greenhouse gas emissions. Worry about the scary growth rate. #Newsnight meat and dairy production minimum 14 percent more like 50 percent, now. #flybe bail out is a distraction. @FullFact a view? #ClimateCrisis Humans will fly forevermore. https://t.co/KHJhKKXKAC',\n",
              " datetime.datetime(2020, 1, 15, 22, 49, 1, tzinfo=datetime.timezone.utc),\n",
              " 'Omg I need to get pregnant. I need 9 months off 😴 😴 😴',\n",
              " datetime.datetime(2020, 1, 15, 22, 40, 3, tzinfo=datetime.timezone.utc),\n",
              " \"#IfGodHadALastName it would be 'Sake'  #ForGodSake\",\n",
              " datetime.datetime(2020, 1, 15, 22, 35, 4, tzinfo=datetime.timezone.utc),\n",
              " '😤 love u Jo-Jo',\n",
              " datetime.datetime(2020, 1, 15, 22, 26, 58, tzinfo=datetime.timezone.utc),\n",
              " \"Who Remembers #Fame? What A #ThrowbackThursday Song! I Love @marieosmond's Rendition Of This Classic t.v. Theme! 💕\\n\\nDid Anyone Have Illuminous Pink Leg Warmers? 💃\\n\\nEnjoy EVERYONE It'll Brighten Up Your Day 🎤🎶💋 https://t.co/y3NTd3LnbO\",\n",
              " datetime.datetime(2020, 1, 15, 22, 11, 42, tzinfo=datetime.timezone.utc),\n",
              " \"So next stop with the family is @SCCF_Forza Porsche Cup I'm excited 😊😊 This is the design I did for myself 🤭\\n\\n@NVIDIAGeForce\\n@AMDRyzen\\n@FalkenTyres\\n@AporiaCustoms\\n@CORSAIR\\n@NZXT\\n@msitweets\\n@msiUSA\\n@Microsoft\\n@esports_amr \\n#a4papercutdesigns https://t.co/SSFzNY7Boq\",\n",
              " datetime.datetime(2020, 1, 16, 23, 58, 38, tzinfo=datetime.timezone.utc),\n",
              " 'OLD TRAFFORD!!! My first time since I was 2 https://t.co/QZlBinNybc',\n",
              " datetime.datetime(2020, 1, 16, 22, 29, 3, tzinfo=datetime.timezone.utc),\n",
              " '@hervepmorvan HRH is looking for advice on really cool German #trance music... @jamelmarmusic',\n",
              " datetime.datetime(2020, 1, 16, 21, 53, 33, tzinfo=datetime.timezone.utc),\n",
              " '@ShoesSharon @bargerat2001 @UniversalORL Louis you should have known better, Marilyn looks young, has style and a cleavage!',\n",
              " datetime.datetime(2020, 1, 16, 21, 51, 33, tzinfo=datetime.timezone.utc),\n",
              " 'I got very, very exciting mail... https://t.co/92VNWK12FJ',\n",
              " datetime.datetime(2020, 1, 16, 21, 49, 52, tzinfo=datetime.timezone.utc),\n",
              " 'Thinking you got it like that can really fuck you up.',\n",
              " datetime.datetime(2020, 1, 16, 21, 49, 25, tzinfo=datetime.timezone.utc),\n",
              " 'Very proud of you Kaia 🇮🇪',\n",
              " datetime.datetime(2020, 1, 16, 21, 42, 21, tzinfo=datetime.timezone.utc),\n",
              " 'Sophie calm down girl. ‘Anthony joshuas brother’ oh no🙄😂',\n",
              " datetime.datetime(2020, 1, 16, 21, 31, 12, tzinfo=datetime.timezone.utc),\n",
              " \"Celebrating @BettyMWhite's 98th Birthday! 🎂🎁🎉 Wow What A Wonderful Life &amp; Amazing Kind Soul! 💕\\n\\nHere's The Lovely Betty On The @donnyosmond &amp; @marieosmond Show! The Eyes Say It All 🙄\\n\\nEnjoy EVERYONE It's Hilarious https://t.co/oY1XiDrOM9\",\n",
              " datetime.datetime(2020, 1, 16, 21, 27, 2, tzinfo=datetime.timezone.utc),\n",
              " '@Maryaam62x my favorite',\n",
              " datetime.datetime(2020, 1, 16, 21, 2, 36, tzinfo=datetime.timezone.utc),\n",
              " 'She isn’t human; \\nShe is art, with a heart •',\n",
              " datetime.datetime(2020, 1, 17, 23, 55, 41, tzinfo=datetime.timezone.utc),\n",
              " '@alfie_innes @DWPoop You got the second best thing @DWPoop',\n",
              " datetime.datetime(2020, 1, 17, 23, 32, 32, tzinfo=datetime.timezone.utc),\n",
              " '@toryboypierce Thank you so much for sharing your story, Andrew. I too was an adopted child and can relate to thise feelings of gratitude and pride.',\n",
              " datetime.datetime(2020, 1, 17, 23, 20, 20, tzinfo=datetime.timezone.utc),\n",
              " '@LeaveEUOfficial Actually I am one of the Generation that has never understood why we abandoned our commonwealth friends to join the European countries that we have only ever been at war with. Since joining the EU our fishing and other industries have been decimated.',\n",
              " datetime.datetime(2020, 1, 17, 23, 0, 59, tzinfo=datetime.timezone.utc),\n",
              " \"@SkyNews Labour Lost Momentum Lost Labour Lost Momentum Lost Labour Lost Momentum  🙁 Let's lose momentum and drive a labour party forward that's fit for purpose please... #HealthyOpposition 😉 @Keir_Starmer #LeftofCentre\",\n",
              " datetime.datetime(2020, 1, 17, 22, 45, 53, tzinfo=datetime.timezone.utc),\n",
              " 'This is a beautiful yet heartbreaking testimony to the plight of our commonwealth cousins @Australia Thanks Ben @lookgreat #LoveAustralia ❤️',\n",
              " datetime.datetime(2020, 1, 17, 22, 38, 37, tzinfo=datetime.timezone.utc),\n",
              " '@GKIDSfilms Went with some friends and all had a great time. I loved the idea of an entirely separate world in the sky with its own little water fish echo system! Every frame was so contemplative, I’ll definitely rewatch it again at some point to gawk at scenes with the pause button 😂🌦☔️',\n",
              " datetime.datetime(2020, 1, 17, 22, 33, 23, tzinfo=datetime.timezone.utc),\n",
              " '@cambridge_peter @plumbjulie74 @KarenCojocaru @HackedOffHugh All but one person I know voted to Leave and that one was so disgusted with the way Parliament blocked the referendum result he voted to support democracy in the General election. I am not surprised by the result of the GE and people voting a landslide win for the Tory Party.',\n",
              " datetime.datetime(2020, 1, 17, 22, 27, 26, tzinfo=datetime.timezone.utc),\n",
              " '@shinkaimakoto It was fantastic!! A worthy successor to Your Name ☺️',\n",
              " datetime.datetime(2020, 1, 17, 22, 25, 27, tzinfo=datetime.timezone.utc),\n",
              " '@hachiirokuu I love how the burger was so good looking it’s one of the first things people are talking about coming out of the film 😂',\n",
              " datetime.datetime(2020, 1, 17, 22, 23, 58, tzinfo=datetime.timezone.utc),\n",
              " 'Chae still suffers from being bi and you?',\n",
              " datetime.datetime(2020, 1, 18, 23, 49, 49, tzinfo=datetime.timezone.utc),\n",
              " \"Football fans tend to appreciate @aguerosergiokun's skill, poise and the goalscoring prowess of the #ManCity striker. My mother thinks he has lovely #hair.\",\n",
              " datetime.datetime(2020, 1, 18, 23, 2, 12, tzinfo=datetime.timezone.utc),\n",
              " '\"How can I get my career started?\" Going from full-time education to starting a #career is a big change.✨🌟At @PathwayCTM, we can help young people make the transition and prepare them for a #professional environment. Click on the link to discover more: https://t.co/WzmvnJ6n5C https://t.co/EqsxlQ8mbW',\n",
              " datetime.datetime(2020, 1, 18, 22, 45, 2, tzinfo=datetime.timezone.utc),\n",
              " 'Why am I looking up on kitten heels on Amazon? 😍😍 https://t.co/dKKCndeuDK',\n",
              " datetime.datetime(2020, 1, 18, 21, 57, 33, tzinfo=datetime.timezone.utc),\n",
              " '@plumbellayt Cannot believe this was the first time! I used to love that game 🙈',\n",
              " datetime.datetime(2020, 1, 18, 21, 32, 33, tzinfo=datetime.timezone.utc),\n",
              " \"@LozzaFox @Femi_Sorry Your album.title 'A grief observed' is a good metaphor for what is uphead and coming at us at breakneak speed.\",\n",
              " datetime.datetime(2020, 1, 18, 21, 0, 57, tzinfo=datetime.timezone.utc),\n",
              " '@MiroSCWT @MadSCWT @pipnic2 @rileypayne312 @Burrow43 @MuddlesDog @RhondaHendee @ThorSelfies @Free2BeeMee @WestieBiscuit @AuntSam2u @MillieOTLFP @ParthaHowell @HRHLou @macwhittle @jennystape Me &amp; Ma love you to Nephew Bruno Jr. 💕 #ZSHQ #PalsPorch',\n",
              " datetime.datetime(2020, 1, 18, 20, 57, 13, tzinfo=datetime.timezone.utc),\n",
              " '@piersmorgan How about talking about Andrew and his issue and the connections you have with this whole issue!\\n\\nCome on Piers stop this hatred and move on!',\n",
              " datetime.datetime(2020, 1, 18, 20, 56, 20, tzinfo=datetime.timezone.utc),\n",
              " '@Kimmi0415 @PearlJam Afraid not, just doing Europe this time. You?',\n",
              " datetime.datetime(2020, 1, 18, 20, 49, 12, tzinfo=datetime.timezone.utc),\n",
              " '🔴▪️DON’T MISS! #BBC1▪️RIP OFF BRITAIN▪️#RipOffBritain - MONDAY 20th JAN @ 9:15am - amongst other cases, they feature ❌STOLEN Border Terriers Ruby &amp; Beetle❌ as they discuss #microchips &amp; the heartbreak of #PetTheft CAN U HELP US? #FindRubyAndBeetle? - https://t.co/rLDzdI0gIY https://t.co/bUkVgcHZPg',\n",
              " datetime.datetime(2020, 1, 18, 20, 32, 17, tzinfo=datetime.timezone.utc),\n",
              " \"When someone says hello and you say hi back (with a wave of couse) only to realise they weren't actually saying hi to you but to the person beside/behind you 👀🙈 #AwfullyBritishReasonsToCry\",\n",
              " datetime.datetime(2020, 1, 19, 23, 51, 53, tzinfo=datetime.timezone.utc),\n",
              " 'A factual drama about sex, misogyny &amp; power within the UK establishment &amp; the dark arts of the gutter press - I watched in disgust, nothing has changed. They’re doing it all for us? In the name of ‘pubic’ domain, led by their d**ks! #thetrialofchristinekeeler👌#MeghanAndHarry https://t.co/Tl1uYFEit3',\n",
              " datetime.datetime(2020, 1, 19, 23, 51, 23, tzinfo=datetime.timezone.utc),\n",
              " 'When it costs you the same price for a short break in Tenerife as it does to get a train ticket #AwfullyBritishReasonsToCry https://t.co/lESlgBUO30',\n",
              " datetime.datetime(2020, 1, 19, 23, 42, 16, tzinfo=datetime.timezone.utc),\n",
              " \"Watching #OurPlanet hoping that David Attenborough's voice can help bring a sense of calm before I sleep. At the bit where the salt has solidified around a flamingo chicks legs 😭 i never learn! #nature\",\n",
              " datetime.datetime(2020, 1, 19, 23, 37, 53, tzinfo=datetime.timezone.utc),\n",
              " '@taylorjhugh oh no, running out of teabags is a bloody nightmare.',\n",
              " datetime.datetime(2020, 1, 19, 22, 33, 59, tzinfo=datetime.timezone.utc),\n",
              " 'Incredible sunset over Driffield tonight, amazing sky. #sunset #yorkshire #getoutside #bbcweatherwatchers #yorkshire. @Hudsonweather @KeeleyDonovan @BBCWthrWatchers @BBCLookNorth https://t.co/gTqOUf5K9Z',\n",
              " datetime.datetime(2020, 1, 19, 22, 17, 53, tzinfo=datetime.timezone.utc),\n",
              " 'The planning that must have gone into this #Heist 🤦🏻\\u200d♂️😂😂😂🤷🏻\\u200d♂️@JordanKG92 @pinkgirl310  https://t.co/db1Ab49wRn',\n",
              " datetime.datetime(2020, 1, 19, 22, 5, 17, tzinfo=datetime.timezone.utc),\n",
              " 'Ending an amazing weekend by going over 35k views on our channel... WOW 🤩',\n",
              " datetime.datetime(2020, 1, 19, 21, 48, 43, tzinfo=datetime.timezone.utc),\n",
              " 'ASIAN WEDDING PHOTOGRAPHY,VIDEOGRAPHY,BRIDAL MAKEUP &amp; HENNA SERVICES IN ALL OVER UK \\nCONTACT US 03301134469\\n#asian #weddings #uk #weddingphotography #photographers #photographyinuk\\n#asianweddingphotography\\nhttps://t.co/qvLgO7FcXf https://t.co/JC2SgqdvVN https://t.co/OrkR5i1Z1T',\n",
              " datetime.datetime(2020, 1, 19, 21, 30, 39, tzinfo=datetime.timezone.utc),\n",
              " 'When lovers meet. \\n#onlinedating #dating #datingonline #unitedkingdom #uk #england #single https://t.co/AGk3Vd1EU0',\n",
              " datetime.datetime(2020, 1, 19, 21, 17, 26, tzinfo=datetime.timezone.utc),\n",
              " '@BomberHarris37 @Emma_Lou_07 Congratulations to you both!\\n\\nHope both mother and baby are doing well.',\n",
              " datetime.datetime(2020, 1, 20, 22, 55, 55, tzinfo=datetime.timezone.utc),\n",
              " 'HAPPY BIRTHDAY TO MY #1! @faalruwaih_ \\nmay your year be beautiful just like youuu, I LOVE YOU SO MUCH ❤️',\n",
              " datetime.datetime(2020, 1, 20, 22, 36, 53, tzinfo=datetime.timezone.utc),\n",
              " '@samitchell78 2010 has it over 15 I think. It has that intensity you often get from very late vintages. 2016 is also very special and for me also ahead of 2015. Nothing wrong with 15 of course...',\n",
              " datetime.datetime(2020, 1, 20, 22, 35, 47, tzinfo=datetime.timezone.utc),\n",
              " 'Bystander #cpr #AED SAVE LIVES .. Original yellow #Wiggle Greg suffers #cardiacArrest during bushfire relief ... https://t.co/rwqKYGcfQ9 via @YouTube',\n",
              " datetime.datetime(2020, 1, 20, 22, 26, 55, tzinfo=datetime.timezone.utc),\n",
              " 'As it’s Martin Luther King day I thought I would share this track that I wrote which features one of the great mans legendary speeches. This track has been the intro to the live ROBSON shows we have done so far. ✌🏾 https://t.co/rqvqhX1HVE',\n",
              " datetime.datetime(2020, 1, 20, 21, 56, 57, tzinfo=datetime.timezone.utc),\n",
              " '@JChillingworth Such a lost opportunity for many',\n",
              " datetime.datetime(2020, 1, 20, 21, 49, 42, tzinfo=datetime.timezone.utc),\n",
              " '@LouMycroft Thanks Lou. You have to ‘walk the walk’ to really get an idea of what adult learners face.',\n",
              " datetime.datetime(2020, 1, 20, 21, 32, 48, tzinfo=datetime.timezone.utc),\n",
              " \"@HRHLou @LordBiddy @ZeroRice1012 @AuntSam2u @BraveWinston @DogDazeUK @Burrow43 @jennystape @MuddlesDog @RhondaHendee @ThorSelfies We could practice some Irish Dances ready for St Patrick's Day Celebrations (17th March 2020)?\",\n",
              " datetime.datetime(2020, 1, 20, 21, 13, 4, tzinfo=datetime.timezone.utc),\n",
              " 'He’s under lock and key!🔐\\n\\nWe are proud to announce that @Viperlization had just signed with Obtained for this up and coming FIFA season! \\n\\nIt feels good to have this unreal talent under #TeamObtained! \\n\\nHere’s to the future🤘#OBTFAM https://t.co/8lnjBlVsIe',\n",
              " datetime.datetime(2020, 1, 20, 21, 12, 44, tzinfo=datetime.timezone.utc),\n",
              " 'Just typically making a pot of tea! https://t.co/czR1qVS6fF',\n",
              " datetime.datetime(2020, 1, 20, 21, 9, 37, tzinfo=datetime.timezone.utc),\n",
              " \"@BBCSport Still he's Europe player and he can to be top players, MLS should wait his retirement\",\n",
              " datetime.datetime(2020, 1, 21, 23, 47, 13, tzinfo=datetime.timezone.utc),\n",
              " '@Ninja | Getting them wins for my little cousin! | Pretty sure your #NinjaSkin is working out quite nicely for me brother  😉 | #Checkitout #Ninja #FortniteClips #Fortnite #FortniteMemes #FortniteBattleRoyale #FortniteBR #FortniteCompetitive #Twitch #TwitchClips | @timthetatman https://t.co/t0BKTh8cNH',\n",
              " datetime.datetime(2020, 1, 21, 23, 35, 44, tzinfo=datetime.timezone.utc),\n",
              " 'If you were promised a luxury, all expenses paid trip to anywhere in the world but had to give up watching #LoveIsland2020 to get the ticket, where would you choose to #travel to?',\n",
              " datetime.datetime(2020, 1, 21, 23, 30, 42, tzinfo=datetime.timezone.utc),\n",
              " '@GrappleClips I heard that Malenko did this exact same thing to Tony backstage at AEW. #WHW',\n",
              " datetime.datetime(2020, 1, 21, 23, 26, tzinfo=datetime.timezone.utc),\n",
              " \"I can't remember if this man said anything when this Revd was kidnapped. Shame\",\n",
              " datetime.datetime(2020, 1, 21, 23, 23, 9, tzinfo=datetime.timezone.utc),\n",
              " \"@EFC26PJ Exactly. Always best to try and take positives from everything and move on quickly. Too much negativity these days from so called modern day fans who turn on their club straight away. Some need to remember what blind faith means. Take me back to the 80's 😂\",\n",
              " datetime.datetime(2020, 1, 21, 23, 21, 32, tzinfo=datetime.timezone.utc),\n",
              " '@EFC26PJ As Greavsie once said \"football\\'s a funny old game\". He was right of course. How a team can be so crap for 90 odd mins and end up drawing or winning will never make sense. Just as Bayern Munich found out at the Nou Camp in \\'99 against us.',\n",
              " datetime.datetime(2020, 1, 21, 23, 10, 20, tzinfo=datetime.timezone.utc),\n",
              " 'Good work @ThomasTurgoose1 #LosingIt',\n",
              " datetime.datetime(2020, 1, 21, 22, 58, 50, tzinfo=datetime.timezone.utc),\n",
              " \"@SeanFennessey Can't believe you cut Fargo\",\n",
              " datetime.datetime(2020, 1, 21, 22, 52, 45, tzinfo=datetime.timezone.utc),\n",
              " '@mikemcclean5 Lee One Pen.  The best.',\n",
              " datetime.datetime(2020, 1, 21, 22, 49, 48, tzinfo=datetime.timezone.utc),\n",
              " '25 years ago @ShawnMichaels the first superstar to enter the Royal Rumble Match. \\nNumber One and win. \\n(my favourite Royal Rumble) https://t.co/jrs37HOqU4',\n",
              " datetime.datetime(2020, 1, 22, 22, 36, 40, tzinfo=datetime.timezone.utc),\n",
              " 'i dont have strength to banter man utd , died bone shall not rise again in their case !!!!',\n",
              " datetime.datetime(2020, 1, 22, 22, 23, 37, tzinfo=datetime.timezone.utc),\n",
              " 'You only get one mum, you only get one dad - once they are gone they are gone forever #ThomasMarkle',\n",
              " datetime.datetime(2020, 1, 22, 22, 14, 44, tzinfo=datetime.timezone.utc),\n",
              " '@FreePalstine3 @EmmanuelMacron Now you know how the Palestinians feel!',\n",
              " datetime.datetime(2020, 1, 22, 22, 1, 52, tzinfo=datetime.timezone.utc),\n",
              " '@AberVicar @DioceseofDerby @churchofengland Absolutely involved Patrick! Great to hear that the crooked spire may be considering planting - thinking that would be a fantastic thing for you to do ...',\n",
              " datetime.datetime(2020, 1, 22, 21, 38, 23, tzinfo=datetime.timezone.utc),\n",
              " 'https://t.co/FvA35pFIca\\nCheck out this link.\\nIf you want to be a successful YouTuber and wanna rank your video and channel for getting engagement (guaranteed) \\n#mr_peanut  #Ibiza #Deprem  #MUNBUR \\n#Burnley #youtube #YouTuber #youtubechannel #YoutubeGaming #YouTubeIsOver',\n",
              " datetime.datetime(2020, 1, 22, 21, 34, 32, tzinfo=datetime.timezone.utc),\n",
              " '@BashingBagpipes @littlegingybrat @rvanzen I wish I had your day job.',\n",
              " datetime.datetime(2020, 1, 22, 21, 34, 22, tzinfo=datetime.timezone.utc),\n",
              " 'Minor geomagnetic activity. Issued 2020-01-22 21:33 UTC by @aurorawatchuk. #aurora https://t.co/yYBH5xlagK',\n",
              " datetime.datetime(2020, 1, 22, 21, 34, 1, tzinfo=datetime.timezone.utc),\n",
              " '\"I\\'m scared to apply for jobs.\" Being scared of the #recruitment process is normal. @PathwayCTM offers Skills Workshops, Mentoring, introductions to employers &amp; Online Resources that will help you develop the #confidence and skills you need.😎💪Read more: https://t.co/WzmvnJ6n5C https://t.co/tgmWrZvhc8',\n",
              " datetime.datetime(2020, 1, 22, 21, 31, 3, tzinfo=datetime.timezone.utc),\n",
              " '@georgiebingham @honmagolfEU @honmagolf @UffordParkGolf Woah very impressive',\n",
              " datetime.datetime(2020, 1, 22, 21, 29, 42, tzinfo=datetime.timezone.utc),\n",
              " 'Has anyone else notice that every time they catch a serial killer on the news, they\\'re like \"He came from such a normal family. \\nWe never saw this coming. \\nIt\\'s the normal ones you gotta worry about!',\n",
              " datetime.datetime(2020, 1, 23, 23, 32, 6, tzinfo=datetime.timezone.utc),\n",
              " '@caramel__queen_ In this part of the world, we felt it is the shortest in the history of Januaries.',\n",
              " datetime.datetime(2020, 1, 23, 23, 12, 4, tzinfo=datetime.timezone.utc),\n",
              " '@breakbadaddict @LBC It is this total lack of respect that is part of the problem!',\n",
              " datetime.datetime(2020, 1, 23, 23, 1, 52, tzinfo=datetime.timezone.utc),\n",
              " '@LBC let the police do their job and judges should be realistic with their sentencing! Let the punishment fit the crime. Crime should be punished and criminals made to pay!',\n",
              " datetime.datetime(2020, 1, 23, 22, 51, 46, tzinfo=datetime.timezone.utc),\n",
              " 'Happy #InternationalEducationDay 📚\\nWhen YOU Believe, Teach! Not Every Lesson Is Learned In The Classroom! @donnyosmond &amp; @marieosmond Are Such Amazing Role Models, Influenced By Inspirational Parents George &amp; Olive #Osmond \\n\\nEnjoy EVERYONE 🎶🎤💋\\n#FlashbackFriday https://t.co/543rdxweHj',\n",
              " datetime.datetime(2020, 1, 23, 22, 25, 16, tzinfo=datetime.timezone.utc),\n",
              " '@scottew @BrettKing @sshawki @dionlisle @AntFinancial This thread is now under quarantine 🦇😷',\n",
              " datetime.datetime(2020, 1, 23, 21, 34, 38, tzinfo=datetime.timezone.utc),\n",
              " 'So should’ve bought this @andipeters scarf at Old Trafford last night. #ManchesterUnited #United #ManUtd #PremierLeague #OldTrafford @awbissaka https://t.co/IeIurtVYtm',\n",
              " datetime.datetime(2020, 1, 23, 21, 22, 53, tzinfo=datetime.timezone.utc),\n",
              " \"Let's hope we don't hit this political low\",\n",
              " datetime.datetime(2020, 1, 23, 21, 8, 13, tzinfo=datetime.timezone.utc),\n",
              " 'Sorry what, Ed Balls is going fishing with Dirk Crack (?) #Captaincrack #TravelsInEuroland This episode has paid for itself already @BBCTwo',\n",
              " datetime.datetime(2020, 1, 23, 21, 7, 42, tzinfo=datetime.timezone.utc),\n",
              " '@bullyray5150 @TestifyDVon @MATTHARDYBRAND @JEFFHARDYBRAND \\n20 years ago today https://t.co/lW045RySov',\n",
              " datetime.datetime(2020, 1, 23, 20, 15, 8, tzinfo=datetime.timezone.utc),\n",
              " 'Who else is ready for #Caturday??? \\n\\nMeeeeeeee!!! I am!!! \\n\\n#cats #CatsOfTwitter #CatsOnTwitter https://t.co/xWEWwfz4Aa',\n",
              " datetime.datetime(2020, 1, 24, 23, 49, 29, tzinfo=datetime.timezone.utc),\n",
              " 'CDL Minnesota 🇺🇸\\n\\nLet’s go!! The boys advance to WBR3 after a 2-0 win vs @DiamondSquadGG! 🔥\\n\\nWell played:\\n👤@JRezzy_ (C)\\n👤@RafiCOOD \\n👤@Katru_ \\n👤@GGrad_ \\n👤#Wardy \\n\\nGGs to them, we await our next game. Let’s get it!! #TeamObtained https://t.co/56R4oURvN8',\n",
              " datetime.datetime(2020, 1, 24, 23, 22, 32, tzinfo=datetime.timezone.utc),\n",
              " '@ECShotz GGs guys!',\n",
              " datetime.datetime(2020, 1, 24, 23, 17, 12, tzinfo=datetime.timezone.utc),\n",
              " 'Looking good in the atrium @astonmartin today.\\n#AstonMartin #luxurycars #DBS #dbssuperleggera #db11 #Volante #vantage #oliviacrossborder https://t.co/drYJWoCvPd',\n",
              " datetime.datetime(2020, 1, 24, 23, 8, 27, tzinfo=datetime.timezone.utc),\n",
              " 'I think I might delete Facebook, never understand it!',\n",
              " datetime.datetime(2020, 1, 24, 23, 4, 33, tzinfo=datetime.timezone.utc),\n",
              " 'Great night at the secret speak easy to celebrate 100 years of the palace theatre! @palacenewark suck a great part of the community #Newark https://t.co/dVTmqkaNFI',\n",
              " datetime.datetime(2020, 1, 24, 22, 55, 27, tzinfo=datetime.timezone.utc),\n",
              " 'CDL Minnesota🇺🇸\\n\\nGood luck to the lads competing today at @CODLeague Minnesota! \\n\\n- @JRezzy_  (C)\\n- @RafiCOOD \\n- @GGrad_ \\n- #Wardy\\n- @Katru_ \\n\\nWe wish you the very best of luck!🙌\\n#TeamObtained https://t.co/Z9Ca4z7E4u',\n",
              " datetime.datetime(2020, 1, 24, 22, 12, 34, tzinfo=datetime.timezone.utc),\n",
              " 'A busy weekend ahead prepping for LFPN meeting Monday 27th Jan and the inaugural South West FPN meeting in Taunton on 10th February - looking forward to seeing the 70+ attendees for both meetings in the next couple of weeks!!!',\n",
              " datetime.datetime(2020, 1, 24, 22, 9, 1, tzinfo=datetime.timezone.utc),\n",
              " 'Celebrating good news!! Thank you dad. #happyFriday @CantineBuoso #sauvignonblanc #Veneto #caorle @champodelux @jimofayr @DomenicoDoronzo @pietrosd @rs_bc_bl @cara_vino @ricasoli99 @DivaVinophile @Malandrino76 @wineconcubine @CollectorOfWine @AntonioDeVecchi @ferrero_stefano https://t.co/Dqd5iofYY8',\n",
              " datetime.datetime(2020, 1, 24, 21, 55, 17, tzinfo=datetime.timezone.utc),\n",
              " '@madcap_max With skills like yours you need to join ZOMBIESQUAD #ZSHQ biggest &amp; best worldwide furpal Group on Twitter.\\nContact @ZombieSquadHq &amp; they will walk you through the simple RECRUITMENT process. https://t.co/ESOLqVQrSa',\n",
              " datetime.datetime(2020, 1, 24, 21, 18, 54, tzinfo=datetime.timezone.utc),\n",
              " '#copywatch \\n Some clever #copywriting by @brevilleUK https://t.co/nptHIbxKzq',\n",
              " datetime.datetime(2020, 1, 25, 23, 41, 55, tzinfo=datetime.timezone.utc),\n",
              " 'Buying cleaning products is officially an adult thing to do 😂😬',\n",
              " datetime.datetime(2020, 1, 25, 23, 15, 3, tzinfo=datetime.timezone.utc),\n",
              " \"It was when I added drinking in addition to smokin', my only vices...\",\n",
              " datetime.datetime(2020, 1, 25, 23, 10, 9, tzinfo=datetime.timezone.utc),\n",
              " 'crying over 5 boys😫 what’s new? https://t.co/KjRNBo9Syp',\n",
              " datetime.datetime(2020, 1, 25, 22, 58, 26, tzinfo=datetime.timezone.utc),\n",
              " '@sparklykecks The good life 🐈 Blondie is the cutest',\n",
              " datetime.datetime(2020, 1, 25, 22, 57, 28, tzinfo=datetime.timezone.utc),\n",
              " 'Sending Love &amp; #SundayThoughts To Each &amp; Everyone Of You! 🙏\\nToday is #NationalSpouseDay A Day To Celebrate Your Significant Other! 💕\\nThe Beautiful @marieosmond &amp; Handsome Hubby Steve Are Living Proof That \"True Love Never Goes Away\" Adore This Sweet Song\\n\\nEnjoy EVERYONE 🎶🎤💋 https://t.co/POUSZK8UFH',\n",
              " datetime.datetime(2020, 1, 25, 22, 44, 27, tzinfo=datetime.timezone.utc),\n",
              " 'To scatter and scooter\\nAround the rock and sock\\nMay be an elephant if less elegant \\n #IncludeThese3Words',\n",
              " datetime.datetime(2020, 1, 25, 22, 36, 6, tzinfo=datetime.timezone.utc),\n",
              " '@WedjongMurphyy You don’t say!🌚',\n",
              " datetime.datetime(2020, 1, 25, 22, 20, 48, tzinfo=datetime.timezone.utc),\n",
              " '‘Ah, the power that gift would give us\\nTo see ourselves as others see us.’\\n\\nWishing our fellow Scots, a cheerful Burns Night of fun and merry making ! 🏴\\U000e0067\\U000e0062\\U000e0073\\U000e0063\\U000e0074\\U000e007f \\n\\n#BurnsNight #RabbieBurns #SaturdayNight https://t.co/N1YSDNbnF8',\n",
              " datetime.datetime(2020, 1, 25, 22, 13, 1, tzinfo=datetime.timezone.utc),\n",
              " 'Thursday night felt incredible... 🕊 https://t.co/AB4nqqMljj',\n",
              " datetime.datetime(2020, 1, 25, 22, 3, 29, tzinfo=datetime.timezone.utc),\n",
              " '@BBCBreaking Tragic news ☹️',\n",
              " datetime.datetime(2020, 1, 26, 23, 39, 34, tzinfo=datetime.timezone.utc),\n",
              " \"Unpacking the L'Occitane Tote Bag. A closeup look at the tote bag that was available during Christmas 2019. The tote bag is made of organic cotton. https://t.co/1ZnNL36zce\",\n",
              " datetime.datetime(2020, 1, 26, 23, 30, 58, tzinfo=datetime.timezone.utc),\n",
              " 'Very sad news about @NBA legend Kobe Bryant tonight. RIP 🏀 https://t.co/pWyPDtu1AY',\n",
              " datetime.datetime(2020, 1, 26, 23, 23, 5, tzinfo=datetime.timezone.utc),\n",
              " 'A day of profound sadness. RIP #KobeBryant #giannabryant',\n",
              " datetime.datetime(2020, 1, 26, 22, 30, 34, tzinfo=datetime.timezone.utc),\n",
              " '@ppls2ndref @JolyonMaugham Wishful thinking. He’s probably wearing a silk kimono in the garden clubbing the little animals to death as usual.',\n",
              " datetime.datetime(2020, 1, 26, 22, 15, 7, tzinfo=datetime.timezone.utc),\n",
              " '@MikeGamlin1 Wait until you next come go @CranfieldSAIC - we will try our best! 🐶',\n",
              " datetime.datetime(2020, 1, 26, 21, 57, tzinfo=datetime.timezone.utc),\n",
              " '@PennyLanePupper @AuntSam2u Hi Penny\\nTo officially join ZOMBIESQUAD #ZSHQ is a simple 2-step process carried out via Tweets:\\nSTEP1.\\na) Read &amp; accept the Squad Rules given to us by Feerless Founder Winston💖.\\nb) Then tell HQ about you, your skills &amp; talents. https://t.co/jBNVIieI0J',\n",
              " datetime.datetime(2020, 1, 26, 21, 46, 52, tzinfo=datetime.timezone.utc),\n",
              " '@simmi 😪 Very very sad!\\n\\nForget how famous he was.....BUT to pass away with his daughter in this way is Sad!',\n",
              " datetime.datetime(2020, 1, 26, 21, 43, 41, tzinfo=datetime.timezone.utc),\n",
              " 'So so sad! 😪',\n",
              " datetime.datetime(2020, 1, 26, 21, 41, 33, tzinfo=datetime.timezone.utc),\n",
              " 'Thoughts and prayers are with our colleague and brother who tragically lost his life today in the line of duty in Cumbria. Thoughts are with the entire police family affected by this devastating news 😔💙🙏🏾 @Cumbriapolice #ThinBlueLine',\n",
              " datetime.datetime(2020, 1, 26, 21, 21, 21, tzinfo=datetime.timezone.utc),\n",
              " 'Girls who act like Leanne do not deserve good guys #loveisland',\n",
              " datetime.datetime(2020, 1, 27, 23, 20, 26, tzinfo=datetime.timezone.utc),\n",
              " \"Can't believe how long it's took them to realise this!!! 🤬 #SmartMotorway\\n\\nhttps://t.co/wwVGxqgvfI\",\n",
              " datetime.datetime(2020, 1, 27, 23, 9, 18, tzinfo=datetime.timezone.utc),\n",
              " 'Honored to be on this podcast to spread the mission of The Phoenix Projedt (2020) and AM300... the world is a better place because of this guy... and he is better looking than me hands down ... #humbled #22veterans #leadership',\n",
              " datetime.datetime(2020, 1, 27, 23, 0, 41, tzinfo=datetime.timezone.utc),\n",
              " 'February 2020 is gonna be that *month* . period. 🙌 https://t.co/XlnLAU5rhB',\n",
              " datetime.datetime(2020, 1, 27, 22, 32, 50, tzinfo=datetime.timezone.utc),\n",
              " '@metalfabgirl @PearlJam Not my fault you Americans can’t understand simple English LD 😜😘',\n",
              " datetime.datetime(2020, 1, 27, 22, 20, 23, tzinfo=datetime.timezone.utc),\n",
              " \"Day 1 of 7 in #PhotosOfMyLife (a picture a day for a week, no people, no explanations).\\n\\nYou nominate someone different every day.\\n\\nI was nominated by @C_Stranks,\\nand today I'm nominating @beniedesdieux https://t.co/7feDtNUXIW\",\n",
              " datetime.datetime(2020, 1, 27, 22, 10, 51, tzinfo=datetime.timezone.utc),\n",
              " 'On @BBCParliament at 11pm: \\n#Huawei\\n#coronarvirus\\n#NHS\\n#FacialRecognition \\n#UniversalCredit &amp; #foodbanks\\n#Drones\\nHighlights from @HouseofCommons &amp; @UKHouseofLords \\n📺 Freeview Channel 232 \\n https://t.co/jfetqkd96p',\n",
              " datetime.datetime(2020, 1, 27, 22, 10, 13, tzinfo=datetime.timezone.utc),\n",
              " '@StarshapedPaul Hahaha so so true  📞',\n",
              " datetime.datetime(2020, 1, 27, 21, 51, 46, tzinfo=datetime.timezone.utc),\n",
              " 'He said he had a smoking fetish so I post this. 😂😂\\n\\nLIKE COMMENT RT 💥\\n\\nPayPal kasshdomme@gmail.com/Monzo - 040004 55833227 \\n( findom domme goddess loser paypig cashslave humanatm ) \\n\\n@RT4FD @RT_Pup @rtfemdom1 @rtfindom @womenruleonly @rtfindom @RTFuck3r @rt_feet @slavekane https://t.co/0c5BnsZEN1',\n",
              " datetime.datetime(2020, 1, 27, 21, 47, 51, tzinfo=datetime.timezone.utc),\n",
              " '@toonpete85 @EurostarUK Not good about the return journey!\\n\\nOn the way to Switzerland in September I woke up late and nearly missed the Eurostar to Paris!\\n\\nNow I would never book any tight connections and plan any vital services to be in the afternoon!',\n",
              " datetime.datetime(2020, 1, 27, 21, 44, 21, tzinfo=datetime.timezone.utc),\n",
              " 'Minor geomagnetic activity. Issued 2020-01-28 23:57 UTC by @aurorawatchuk. #aurora https://t.co/gplIzWgQXP',\n",
              " datetime.datetime(2020, 1, 28, 23, 58, 3, tzinfo=datetime.timezone.utc),\n",
              " '@jack_charlesf Lovely to meet you today. Wishing you all the best as a very proud new dad. Your exuberance was infectious!',\n",
              " datetime.datetime(2020, 1, 28, 23, 38, 43, tzinfo=datetime.timezone.utc),\n",
              " '@PeterAsh_85 #NTAs Congratulations on your award 🏆',\n",
              " datetime.datetime(2020, 1, 28, 23, 26, 48, tzinfo=datetime.timezone.utc),\n",
              " 'Gum series\\nBear amounts of gum fun!\\n\\n#art #illustration #digitalart #digitalillustration #adobeillustrator #vectorart #gum #bubblegum #gumbubbles #gummybears #gumfun #instaart #skateart #skate #skatedeckart #graphicart https://t.co/ngTXHpWhNH',\n",
              " datetime.datetime(2020, 1, 28, 23, 19, 51, tzinfo=datetime.timezone.utc),\n",
              " '@SethAbramson If true this could be the breakthrough!',\n",
              " datetime.datetime(2020, 1, 28, 23, 5, 30, tzinfo=datetime.timezone.utc),\n",
              " '@P1DanH @NWmwaypolice Great work!\\n\\nPut a stop to it before anyone got hurt!',\n",
              " datetime.datetime(2020, 1, 28, 23, 3, 18, tzinfo=datetime.timezone.utc),\n",
              " '@itsanitarani @sunny_hundal @BBCOne Why is it even in this day and age, some religious groups are still so backward in their thinking?\\n\\nHow sad, lets move on!',\n",
              " datetime.datetime(2020, 1, 28, 23, 0, 28, tzinfo=datetime.timezone.utc),\n",
              " '@DrRihabOfficial Not heard it......\\n\\nIs it that bad?',\n",
              " datetime.datetime(2020, 1, 28, 22, 59, 19, tzinfo=datetime.timezone.utc),\n",
              " '\"Peace, prosperity and friendship with all nations\" and the Brexit date of 31 January 2020” - Leaving the European Union is a turning point in our history and this coin marks the beginning of this new chapter.. certainly a date to remember... https://t.co/U5HENO2Uej',\n",
              " datetime.datetime(2020, 1, 28, 22, 58, 41, tzinfo=datetime.timezone.utc),\n",
              " '@NickBurns1983 @LUFC @andrearadri @LiamCooper__ @dallas_stuart Great job Leeds!\\n\\nKeep smiling Olly during this tough time!',\n",
              " datetime.datetime(2020, 1, 28, 22, 24, 29, tzinfo=datetime.timezone.utc),\n",
              " '16mm, 2 seconds, f/13, ISO 100, 6-stop ND, 3-stop ND Grad',\n",
              " datetime.datetime(2020, 1, 29, 23, 40, 32, tzinfo=datetime.timezone.utc),\n",
              " 'The level of my exposure was 9/10 and my wet foot was cold A/F. Is that what you’re looking for?',\n",
              " datetime.datetime(2020, 1, 29, 23, 18, tzinfo=datetime.timezone.utc),\n",
              " '@110sports @NFBUK @BBC Thank you so much and thank you to @BDA_Deaf and over 170 other organisations that supported this petition. We are all overwhelmed with the news which is brilliant https://t.co/htkdcJQrvR',\n",
              " datetime.datetime(2020, 1, 29, 23, 5, 25, tzinfo=datetime.timezone.utc),\n",
              " 'One wet sock #Iceland2020 #photography https://t.co/32F7cQQxJa',\n",
              " datetime.datetime(2020, 1, 29, 22, 54, 33, tzinfo=datetime.timezone.utc),\n",
              " '@greentaralady It would be a great idea.... that said some people havent the attention span or the visualisation tools to meditate.\\n\\nI liked how the Native Indian prisoner was singing and banging his makeshift drum',\n",
              " datetime.datetime(2020, 1, 29, 22, 43, 41, tzinfo=datetime.timezone.utc),\n",
              " \"First attempt at #vegan mac 'n' cheese. Threw some chickpeas and spinach in for an extra protein kick. Was pretty tasty and highly recommend for #marathontraining 🏃🏽\\u200d♀💪🧡 https://t.co/YXgTnxqr39\",\n",
              " datetime.datetime(2020, 1, 29, 22, 38, 26, tzinfo=datetime.timezone.utc),\n",
              " 'Sending A Huge Shout Out To All You Lovely Tweeple Out There. My #ThrowbackThursday Tune Is 💃 @marieosmond\\'s Fabulous Rendition Of #LizaMinnelli\\'s \"The World Goes Round\" \\nLove The Lyrics To This! Stunning Diverse Vocal 💕\\n\\nEnjoy EVERYONE It\\'s Beautiful 🎶🎤💋 https://t.co/4PeKFchoqt',\n",
              " datetime.datetime(2020, 1, 29, 22, 21, 15, tzinfo=datetime.timezone.utc),\n",
              " '@aliceandrxa don’t kill me Alice uh🤣🤣🤣🤣🤣',\n",
              " datetime.datetime(2020, 1, 29, 22, 0, 10, tzinfo=datetime.timezone.utc),\n",
              " '@BDA_Deaf Brilliant news!!',\n",
              " datetime.datetime(2020, 1, 29, 21, 45, 12, tzinfo=datetime.timezone.utc),\n",
              " '@verge @motherboard @PCMag Thank god I uninstalled Avast last year. God knows what they were doing with my data though 😬',\n",
              " datetime.datetime(2020, 1, 29, 21, 40, 16, tzinfo=datetime.timezone.utc),\n",
              " 'I love It this project @spacedoge_io and i recommend everyone invest on Miner.',\n",
              " datetime.datetime(2020, 1, 30, 23, 37, 53, tzinfo=datetime.timezone.utc),\n",
              " '@grantdashwood 🤣 not quite yet (I think). But who knows... maybe just a matter of time 🤔 #Automation #robotics #robot #bot',\n",
              " datetime.datetime(2020, 1, 30, 23, 11, 24, tzinfo=datetime.timezone.utc),\n",
              " \"Celebrating #NationalBackwardDay With My Favourite Family! Here's When @jimmyosmond Announced  Big Sister Marie's Mobility Flaws On The #Osmond Family Show! 🤣\\n\\n#FridayThoughts For Anyone Missing @donnyosmond\\n&amp; @marieosmond I Got Em Back! 😜\\n\\nEnjoy EVERYONE It's Hilarious 💕💋 https://t.co/xKtw1c1Rt1\",\n",
              " datetime.datetime(2020, 1, 30, 23, 8, 51, tzinfo=datetime.timezone.utc),\n",
              " '@TonyThePoett Testing times for the ravaged minds of \"War\" calm and free with a cup of tea and a fag in hand. Thank you @TonyThePoett \\n\\nAlways the rebel 🇬🇧',\n",
              " datetime.datetime(2020, 1, 30, 23, 5, 38, tzinfo=datetime.timezone.utc),\n",
              " 'Beautiful Tip! @emmerdale https://t.co/99lVfBFaYy',\n",
              " datetime.datetime(2020, 1, 30, 23, 5, 28, tzinfo=datetime.timezone.utc),\n",
              " '#Chloe then got on with her work after a few pleasantries. This #robot means business: augmenting actual workforce with #technology #bot #robotics #RPA. To its credit, Chloe scrubbed and mopped floors really well #SqueakyClean https://t.co/3egdjIE1AO',\n",
              " datetime.datetime(2020, 1, 30, 22, 52, 14, tzinfo=datetime.timezone.utc),\n",
              " 'Randomly ran into #Chloe the cleaner today! It stopped to say hi 👋 Quite some chat there 🤣 #Robot #Bot #Robotics #technology #autonomous https://t.co/gxqu1QeVBi',\n",
              " datetime.datetime(2020, 1, 30, 22, 46, 19, tzinfo=datetime.timezone.utc),\n",
              " 'This is what I will never understand about a country that is home to archiving, The British Library and the microfiche, that revels in bureaucracy, files, paperwork, ledgers and deeds oh &amp; spies #MagnaCarter records still here #Windrush records still missing presume destroyed? https://t.co/xZmkLeQXEs',\n",
              " datetime.datetime(2020, 1, 30, 22, 40, 43, tzinfo=datetime.timezone.utc),\n",
              " '@SarahC2612 Keep up the good work!',\n",
              " datetime.datetime(2020, 1, 30, 22, 14, 41, tzinfo=datetime.timezone.utc),\n",
              " '@SarahC2612 Lol.....\\n\\ncompletely understood where you were coming from!',\n",
              " datetime.datetime(2020, 1, 30, 22, 14, 21, tzinfo=datetime.timezone.utc),\n",
              " '@ringfox1 Happy Birthday Sir 🍻',\n",
              " datetime.datetime(2020, 1, 31, 23, 23, 22, tzinfo=datetime.timezone.utc),\n",
              " '@STEMLearningUK @STEMAmbassadors Many thanks for your support. #NCW2020',\n",
              " datetime.datetime(2020, 1, 31, 23, 13, 43, tzinfo=datetime.timezone.utc),\n",
              " 'Fireworks ffs? Makes me 🤮',\n",
              " datetime.datetime(2020, 1, 31, 23, 13, 32, tzinfo=datetime.timezone.utc),\n",
              " \"Absolute joker's letting off fireworks...\",\n",
              " datetime.datetime(2020, 1, 31, 23, 10, 2, tzinfo=datetime.timezone.utc),\n",
              " 'All my computers have just gone off! #BrexitBug',\n",
              " datetime.datetime(2020, 1, 31, 23, 9, 35, tzinfo=datetime.timezone.utc),\n",
              " \"This Tweet is my opinion and my opinion alone which I am entitled to. If you don't agree then that is your opinion which you are entitled to. \\nWe are officially out of the EU \\nFree At Last, Free At Last, \\nOh Yes We Are Free At Last. https://t.co/DoldU37SHM\",\n",
              " datetime.datetime(2020, 1, 31, 23, 8, 7, tzinfo=datetime.timezone.utc),\n",
              " 'Our #Brexit firework. 😎\\n\\n#BrexitReality https://t.co/ww3bxKNN1y',\n",
              " datetime.datetime(2020, 1, 31, 23, 4, 36, tzinfo=datetime.timezone.utc),\n",
              " 'Today is a good day.',\n",
              " datetime.datetime(2020, 1, 31, 23, 3, 28, tzinfo=datetime.timezone.utc),\n",
              " 'I voted Remain but accept I lost, so it is right the UK Govt has delivered on it’s democratic instruction(s) and we have now left the EU. It is up to us now to forge a bright liberal global trading future with friends and partners, near and far 🇺🇸🇦🇺🇳🇿🇯🇵🇮🇳🇨🇳🇪🇺🌎 #BrexitReality https://t.co/2ehIIv00Pq',\n",
              " datetime.datetime(2020, 1, 31, 23, 3, 14, tzinfo=datetime.timezone.utc),\n",
              " 'i dan suffer , man utd sign ighalo😂😂😂😂😂😂😂@yskTheEngine  go suffer too many emotional damage !!!!',\n",
              " datetime.datetime(2020, 1, 31, 23, 3, 7, tzinfo=datetime.timezone.utc),\n",
              " '@andrearadri and Victor please do something about this whole situation with Bielsa........why the Hell sign 2 players and not to play them!\\n\\nWe needed something different today but Bielsa got it wrong again!\\n\\n@LUFC will stay in the championship if changes are not made!\\n\\n#lufc',\n",
              " datetime.datetime(2020, 2, 1, 23, 15, 23, tzinfo=datetime.timezone.utc),\n",
              " 'can’t believe that opening up about my mental state &amp; accepting help would make this much of a difference. don’t remember the last time I felt so content with my life &amp; my recovery.  massive thank u to all my friends&amp; family for all ur support 💗',\n",
              " datetime.datetime(2020, 2, 1, 23, 2, 26, tzinfo=datetime.timezone.utc),\n",
              " 'Sending Love &amp; #SundayThoughts To Each &amp; Everyone Of You! 🙏🕊\\nBeautiful Song From @marieosmond\\'s \"I Can Do This\" Album! Always Inspiring 💕\\n\\nEnjoy EVERYONE 🎶🎤💋\\n\\nTender Mercies https://t.co/YJ4JIEdjnh',\n",
              " datetime.datetime(2020, 2, 1, 22, 59, 53, tzinfo=datetime.timezone.utc),\n",
              " '@guccidog2018 @LordBiddy @VitCza @Burrow43 @ThorSelfies @WestieBiscuit @NormanTheCairn @MuddlesDog @RhondaHendee @BraveWinston @Woollysausage @AuntSam2u @Mrsrebmik @MrCheagle @TinyIsLove @Elvisbulldoguk I have seen Twitter mark an image of a dog snoozing in its dog bed as \"Sensative Material\". Sometimes there appears to be absolutely no logic that l can see behind why they do it &amp; it definitely is nothing personal against you it happens to a lot of different Accounts.',\n",
              " datetime.datetime(2020, 2, 1, 22, 41, 19, tzinfo=datetime.timezone.utc),\n",
              " 'Player of the month for January @OUFCOfficial \\n\\nWell done Alex Gorrin ⚽️👏🏻 @BaseSoccer https://t.co/WuiY8rhtTP',\n",
              " datetime.datetime(2020, 2, 1, 22, 39, 50, tzinfo=datetime.timezone.utc),\n",
              " \"Pissed-off at my wife for having never seen Blade. We're up to Trinity now and I've just realised.... I've uhhhh never seen it\\n\\nShhhhhh\",\n",
              " datetime.datetime(2020, 2, 1, 22, 12, 6, tzinfo=datetime.timezone.utc),\n",
              " '@Apple @AppleSupport How do i fix this Error? https://t.co/okKSYzh6Gr',\n",
              " datetime.datetime(2020, 2, 1, 22, 9, 43, tzinfo=datetime.timezone.utc),\n",
              " '@LordBiddy @guccidog2018 @VitCza @Burrow43 @ThorSelfies @WestieBiscuit @NormanTheCairn @MuddlesDog @RhondaHendee @BraveWinston @Woollysausage @AuntSam2u @Mrsrebmik @MrCheagle @TinyIsLove @Elvisbulldoguk Yes &amp; usually it takes time with videos for them to travel across the servers so l think get more tomorrow. *whispers*I love the Squirrel 🐿 #ZSHQ #ZZST',\n",
              " datetime.datetime(2020, 2, 1, 22, 0, 20, tzinfo=datetime.timezone.utc),\n",
              " 'I won the Buenos Aires cup, an exclusive cue and 2\\xa0500 Pool Coins! https://t.co/ncRI2Zl3yy',\n",
              " datetime.datetime(2020, 2, 1, 21, 55, 19, tzinfo=datetime.timezone.utc),\n",
              " 'Almost 24 hours since being on Facebook and honestly I couldn’t feel any better ☺️',\n",
              " datetime.datetime(2020, 2, 1, 21, 50, 25, tzinfo=datetime.timezone.utc),\n",
              " 'Am I still drunk?\\n\\nAlways the rebel🇬🇧',\n",
              " datetime.datetime(2020, 2, 2, 23, 36, 1, tzinfo=datetime.timezone.utc),\n",
              " 'Anticipating a close game but the #ChiefsKingdom just edging it 34-31 #SBLIV',\n",
              " datetime.datetime(2020, 2, 2, 23, 25, 5, tzinfo=datetime.timezone.utc),\n",
              " '@yawningrs Goodnight, sleep well x',\n",
              " datetime.datetime(2020, 2, 2, 22, 59, 26, tzinfo=datetime.timezone.utc),\n",
              " 'Wings consumed 🔥. Now time for #SBLIV',\n",
              " datetime.datetime(2020, 2, 2, 22, 56, 51, tzinfo=datetime.timezone.utc),\n",
              " '@FortniteGame @EpicGames &gt; Put #TiltedTowers Right Smack BANG in the middle of the map right here! | #Fortnite #FortniteMap #FortniteClips #Fortniteleaks | @Ninja @timthetatman @Reverse2k @Nadeshot @NateHillTV @TTfue @cloakzy @Mongraal back me up guys what do you think? https://t.co/z1FTF2Nm0Z',\n",
              " datetime.datetime(2020, 2, 2, 22, 21, 49, tzinfo=datetime.timezone.utc),\n",
              " '@RuthLeaEcon So funny that is on the BBC , says it all really',\n",
              " datetime.datetime(2020, 2, 2, 22, 8, 26, tzinfo=datetime.timezone.utc),\n",
              " '@RevRyanBlack Count it as a given @RevRyanBlack   I will be spending the day with very  good people who will be trained by me to deliver safeguarding training to Religious here in Scotland. Moses will be holding his arms up for you! @ScotsCollegeIT #CommittedToSafeguarding',\n",
              " datetime.datetime(2020, 2, 2, 21, 58, 34, tzinfo=datetime.timezone.utc),\n",
              " '@BitarReal @Th2shay This guy is so Anti Semitic!\\n\\n#FreePalestine',\n",
              " datetime.datetime(2020, 2, 2, 21, 55, 27, tzinfo=datetime.timezone.utc),\n",
              " 'Cracking #SuperBowlLIV preview with @davidalorka and @JasonBell33 https://t.co/EpaKZpMQtf',\n",
              " datetime.datetime(2020, 2, 2, 21, 53, 34, tzinfo=datetime.timezone.utc),\n",
              " 'Do you remember when you joined Twitter? I do! #MyTwitterAnniversary https://t.co/UhhfJPUQRP',\n",
              " datetime.datetime(2020, 2, 2, 21, 31, 24, tzinfo=datetime.timezone.utc),\n",
              " \"Great few weeks with NYU in Madrid talking about 'writing cities' and with  @LeedsUniMedia and all things travel writing and immersive media. Even got a few days of snow! https://t.co/QSORnNFQJi\",\n",
              " datetime.datetime(2020, 2, 3, 23, 40, tzinfo=datetime.timezone.utc),\n",
              " \"Brexit Day: Boris Johnson's 'astonishing moment of hope'\\n@borisjohnsonuk @skynews #borisjohnson 🇬🇧🇬🇧🇬🇧🇬🇧 https://t.co/eZ44udblgg\",\n",
              " datetime.datetime(2020, 2, 3, 22, 41, 21, tzinfo=datetime.timezone.utc),\n",
              " 'RIP James Banks',\n",
              " datetime.datetime(2020, 2, 3, 21, 49, 38, tzinfo=datetime.timezone.utc),\n",
              " 'Evening all ❄️ how’s your Monday been? https://t.co/0MZZfPz0SH',\n",
              " datetime.datetime(2020, 2, 3, 21, 43, 25, tzinfo=datetime.timezone.utc),\n",
              " '@shaiyanrt Trust me',\n",
              " datetime.datetime(2020, 2, 3, 21, 39, 17, tzinfo=datetime.timezone.utc),\n",
              " '@shrewsmorris Cheers @shrewsmorris https://t.co/5gMpy7ZhLo',\n",
              " datetime.datetime(2020, 2, 3, 21, 27, 26, tzinfo=datetime.timezone.utc),\n",
              " '#DefenderEurope We can defend Europe! https://t.co/W3uQ1iydVi',\n",
              " datetime.datetime(2020, 2, 3, 21, 17, 36, tzinfo=datetime.timezone.utc),\n",
              " '@PAULTYRRELL2 Maybe one day',\n",
              " datetime.datetime(2020, 2, 3, 21, 15, 6, tzinfo=datetime.timezone.utc),\n",
              " '@Rgelato @RussellKane Disgraceful!!!',\n",
              " datetime.datetime(2020, 2, 3, 20, 54, 58, tzinfo=datetime.timezone.utc),\n",
              " 'I’m very excited to announce a last minute gig where I’ll be supporting the INCREDIBLE @arielposen at The Vic in Swindon, this Wednesday 5th Feb! Can’t wait for this... \\n\\nGrab your tickets below⬇️\\nDOORS - 7:30PM\\n\\nhttps://t.co/kFeXosoECN\\n\\n#arielposen #leonijanekennedy #upandcoming https://t.co/xASVwkSuUg',\n",
              " datetime.datetime(2020, 2, 3, 20, 46, 9, tzinfo=datetime.timezone.utc),\n",
              " '@DiscoverBudgens Adapt Security Services, we supply #sialicensed #mannedguarding #securityofficers #doorsupervisors #eventsecurity to #hotels #retailers #ManufacturingUK #distrbution #warehouse https://t.co/dqJlAdWY6f @MyLocalForums https://t.co/fgRnDVdsNX',\n",
              " datetime.datetime(2020, 2, 4, 23, 30, 17, tzinfo=datetime.timezone.utc),\n",
              " 'Unpacking the Thermos Stainless King Food Flask 470ml. A closeup look at the stainless steel and BPA free 0.47l vacuum insulated food flask for hot or cold food with integrated folding stainless steel spoon. It has an incredible 50 year warranty! https://t.co/7UqBumhHKD',\n",
              " datetime.datetime(2020, 2, 4, 23, 29, 36, tzinfo=datetime.timezone.utc),\n",
              " 'Adapt Security Services, we supply #sialicensed #mannedguarding #securityofficers #doorsupervisors #eventsecurity to #hotels #retailers #ManufacturingUK #distrbution #warehouse https://t.co/dqJlAdWY6f @MyLocalForums https://t.co/VDZabpVgX9',\n",
              " datetime.datetime(2020, 2, 4, 23, 17, 31, tzinfo=datetime.timezone.utc),\n",
              " '@GaryWillis1711 Ah that’s fair enough then',\n",
              " datetime.datetime(2020, 2, 4, 23, 8, 58, tzinfo=datetime.timezone.utc),\n",
              " 'manchester 🇬🇧 &gt;&gt; https://t.co/kYzE2L6btg',\n",
              " datetime.datetime(2020, 2, 4, 23, 5, 56, tzinfo=datetime.timezone.utc),\n",
              " '@Nightbird7115 Passing your request to ZOMBIESQUAD hat BOX TEAM you are on the list #ZSHQ',\n",
              " datetime.datetime(2020, 2, 4, 22, 46, 58, tzinfo=datetime.timezone.utc),\n",
              " '@parham1961 @ParthaHowell @nalathesibe @HarrynPogue @LynnieYankee @AuntSam2u @aurora3s @BeagleGinger @DogDazeUK @Gina18306341 @jennystape Forwarding your request to ZOMBIESQUAD hat BOX TEAM you are on their list.',\n",
              " datetime.datetime(2020, 2, 4, 22, 45, 57, tzinfo=datetime.timezone.utc),\n",
              " '#OnthisDay 1979 the #Osmond Family Taped \"Rock Circus\" With Guest Stars @levarburton &amp; @Joyce_DeWitt &amp; Of Course Proud Parent\\'s In The Audience! \\nI Adore 💃 @marieosmond\\'s Solo Segment \"Dont Cry Out Loud\" 💕\\n\\nEnjoy EVERYONE 🎶🎤💋\\n\\n#waybackwednesday https://t.co/nytQkDuB4t',\n",
              " datetime.datetime(2020, 2, 4, 22, 15, 9, tzinfo=datetime.timezone.utc),\n",
              " '@oblivio_dating creates the platform\\n#onlinedating #single #datingonline https://t.co/1UdMqxGGqi',\n",
              " datetime.datetime(2020, 2, 4, 22, 9, 3, tzinfo=datetime.timezone.utc),\n",
              " 'NPCC Peer review #Norfolk #Gloucestershire #BetterTogether https://t.co/Bjzd39QX2z',\n",
              " datetime.datetime(2020, 2, 4, 22, 2, 58, tzinfo=datetime.timezone.utc),\n",
              " 'For years I treasured my  @BBCLeicester mug signed by @MartineBBC (thanks to @bmt44 ) - too frightened to ever actually use it - only to discover when something brushed against it that it was in washable ink. A @BBCLeicester mug that isn’t signed by Maxine just isn’t the same',\n",
              " datetime.datetime(2020, 1, 1, 23, 0, 23, tzinfo=datetime.timezone.utc),\n",
              " 'This is very sad news affecting the @British_Airways family. My thoughts are with their family and friends at this terrible time.',\n",
              " datetime.datetime(2020, 1, 1, 22, 47, 42, tzinfo=datetime.timezone.utc),\n",
              " 'Most of us did Rick',\n",
              " datetime.datetime(2020, 1, 1, 22, 47, 36, tzinfo=datetime.timezone.utc),\n",
              " \"@SupaZombieGirI @Caffeine_Sam That's all of us, right? 😅\",\n",
              " datetime.datetime(2020, 1, 1, 22, 40, 48, tzinfo=datetime.timezone.utc),\n",
              " '@GhosthuntingCPI Every day 😅',\n",
              " datetime.datetime(2020, 1, 1, 22, 37, 35, tzinfo=datetime.timezone.utc),\n",
              " '💔HQ at #ZSHQ lowers our flag in honor of squad member Mau \\n@MauSupercat Florida \"King of the Bacon\" \\nwho crossed OTRB🌈today to be reunited  wid friends in ZOMBIESQUAD OTRB Brigade*salutes&amp;bows head in respect*. \\nOnce ZOMBIESQUAD FOREVER ZOMBIESQUAD!\\nPlease patrol in Mau\\'s honor https://t.co/4MeYXbJN9j',\n",
              " datetime.datetime(2020, 1, 1, 22, 12, 30, tzinfo=datetime.timezone.utc),\n",
              " '@Muslim_Patrol @FreeBabarAhmad @johnmcavoy2 Had the privilege of conducting Hajj 2018 with @FreeBabarAhmad and got little snippets of his extraordinary story, what a legend having gone through what he did and still to be smiling and making others laugh with his dry sense of humour!!\\n\\nStill waiting for the book 😂',\n",
              " datetime.datetime(2020, 1, 1, 22, 10, 8, tzinfo=datetime.timezone.utc),\n",
              " 'Congratulations @m8arteta',\n",
              " datetime.datetime(2020, 1, 1, 22, 6, 42, tzinfo=datetime.timezone.utc),\n",
              " 'Same thing I kept asking myself, how they went through the game without a yellow card is a mystery',\n",
              " datetime.datetime(2020, 1, 1, 22, 5, 49, tzinfo=datetime.timezone.utc),\n",
              " \"@FreeBabarAhmad @johnmcavoy2 Whens the book out highlighting you're extraordinary experience?\",\n",
              " datetime.datetime(2020, 1, 1, 22, 3, 42, tzinfo=datetime.timezone.utc),\n",
              " '@moskay007 Hahahaha. E be like one perm sec that year',\n",
              " datetime.datetime(2020, 1, 1, 22, 3, 26, tzinfo=datetime.timezone.utc),\n",
              " \"I remember titanic #FACup battles between @lufc and @Arsenal from the 70s, the 90s and 00s. I don't mind if we go out this weekend as long as we concentrate on the league and go up. #lufc\",\n",
              " datetime.datetime(2020, 1, 1, 22, 3, 15, tzinfo=datetime.timezone.utc),\n",
              " '@UnaiEmery_ I have no words for you.',\n",
              " datetime.datetime(2020, 1, 1, 22, 2, 50, tzinfo=datetime.timezone.utc),\n",
              " 'Thank you @ManUtd',\n",
              " datetime.datetime(2020, 1, 1, 21, 57, 59, tzinfo=datetime.timezone.utc),\n",
              " 'PREMIUM WIN ✊\\n#ARSMUN',\n",
              " datetime.datetime(2020, 1, 1, 21, 56, 8, tzinfo=datetime.timezone.utc),\n",
              " '2 steps forward, 1 step backward!! I wish this guy could just resign',\n",
              " datetime.datetime(2020, 1, 1, 21, 46, 12, tzinfo=datetime.timezone.utc),\n",
              " 'Back to default settings 🤣🤣',\n",
              " datetime.datetime(2020, 1, 1, 20, 54, 9, tzinfo=datetime.timezone.utc),\n",
              " '@PadmaThe Private Padma, family &amp; friends ZOMBIESQUAD #ZSHQ send Sympathy to all at your sad loss of Rocco. I am sure he will be well looked after by the ZS OTRB Brigade &amp; will be reunited with many old friends*salutes &amp; bows head in respect*Run Happy &amp; Free Rocco🌈. 💕',\n",
              " datetime.datetime(2020, 1, 1, 20, 52, 35, tzinfo=datetime.timezone.utc),\n",
              " \"@MickWick25 @Keith_Lilsson @jessphillips I don't go around smearing others.\\n\\nIf try there's a misdemeanour here, go to the relevant authorities and present the evidence. That's the correct and proper way to do it.\\n\\nIf not then don't post.\",\n",
              " datetime.datetime(2020, 1, 1, 20, 49, 49, tzinfo=datetime.timezone.utc),\n",
              " \"@Gregory51611485 I don't have any association with Momentum, so don't have any idea what you're talking about.\",\n",
              " datetime.datetime(2020, 1, 1, 20, 43, 20, tzinfo=datetime.timezone.utc),\n",
              " '“Kent will tear you apart” https://t.co/EEMajh7752',\n",
              " datetime.datetime(2020, 1, 1, 20, 38, 57, tzinfo=datetime.timezone.utc),\n",
              " 'Am interesting piece with @WayneRooney and @epicpgc pro sport facilitator @scottdavies1988. Shows the importance of impactful education to professional elite sportspeople and the wider community such as our 5 year programme with the @EFL #safergambling @SkyBet @KindredGroup',\n",
              " datetime.datetime(2020, 1, 1, 20, 31, 3, tzinfo=datetime.timezone.utc),\n",
              " 'I actually still feel like it’s 2019 but here we go, new beginning, new decade, new life. Hello 2020, first chapter of the decade book. 🥂✨ https://t.co/tzDEslO30h',\n",
              " datetime.datetime(2020, 1, 1, 20, 25, 49, tzinfo=datetime.timezone.utc),\n",
              " '@RichasAA @GamRegGB @YGAMuk We are considering an application for the New Year. The application process was only released (to us...) the week before Christmas by @GamRegGB so surprised anybody on it so quickly 🤔',\n",
              " datetime.datetime(2020, 1, 1, 20, 7, 38, tzinfo=datetime.timezone.utc),\n",
              " '@PCAndyHyde Bet you wish you just got some sleep now 😂😂',\n",
              " datetime.datetime(2020, 1, 1, 20, 5, 13, tzinfo=datetime.timezone.utc),\n",
              " '@NipRussell Look after your family!\\n#ZSHQ will keep your area safe, see you later💕',\n",
              " datetime.datetime(2020, 1, 1, 20, 3, 30, tzinfo=datetime.timezone.utc),\n",
              " '🌟🌟🌟🌟🌟🌟🌟🌟🌟🌟🌟🌟🌟\\n\\n               “NOW IS SPRING”\\n\\nBrand new original album from renowned jazz clarinettist Adrian Cox\\nListen now on @Spotify \\nhttps://t.co/l7B0le0nui\\n\\nFeaturing:\\nAdrian Cox - Clarinet \\nJoe Webb - Piano\\nSimon Read - Double Bass\\nGethin Jones - Drums https://t.co/sGCjVLmenm',\n",
              " datetime.datetime(2020, 1, 1, 19, 57, 58, tzinfo=datetime.timezone.utc),\n",
              " '@Muchy06 @mubanga_mc Lol i was asking because i can afford anything you can think of, can you? 😅',\n",
              " datetime.datetime(2020, 1, 1, 19, 43, 24, tzinfo=datetime.timezone.utc),\n",
              " 'Dear @GavinWilliamson it’s 2020\\nand #NCW2020 isn’t far away. We believe in high quality careers, work experience, employers visiting schools &amp; more young people acquiring the skills and qualifications they need to succeed. We feel we can help. Let’s talk. 👥 Thanks for reading 🙏 https://t.co/1Pdgpn6WaK',\n",
              " datetime.datetime(2020, 1, 1, 19, 21, 22, tzinfo=datetime.timezone.utc),\n",
              " '@Conor_ALTV Great point!\\n\\n4 out of 6 against @WBA is fantastic!\\n\\n@LUFC',\n",
              " datetime.datetime(2020, 1, 1, 19, 19, 34, tzinfo=datetime.timezone.utc),\n",
              " '1 year on from another year on 😆 #Painswick',\n",
              " datetime.datetime(2020, 1, 1, 19, 18, 55, tzinfo=datetime.timezone.utc),\n",
              " 'We dominated the second half after a lethargic first. Bamford squares to Klich and we win 1 - 2. Much better than the Birmingham game. #lufc',\n",
              " datetime.datetime(2020, 1, 1, 19, 11, 39, tzinfo=datetime.timezone.utc),\n",
              " '@sanfordgreene Happy Birthday Sandford!',\n",
              " datetime.datetime(2020, 1, 1, 19, 9, 3, tzinfo=datetime.timezone.utc),\n",
              " 'Any Arsenal fan up for a bet? 🤔\\n\\nCc @mubanga_mc',\n",
              " datetime.datetime(2020, 1, 1, 18, 37, 11, tzinfo=datetime.timezone.utc),\n",
              " 'That game of football is boring, not keen to watch the 2nd half',\n",
              " datetime.datetime(2020, 1, 1, 18, 36, tzinfo=datetime.timezone.utc),\n",
              " 'You can see my resolutions for the new year and Josh’s too! 💙',\n",
              " datetime.datetime(2020, 1, 1, 18, 34, 50, tzinfo=datetime.timezone.utc),\n",
              " '@Conor_ALTV @EddieNketiah9 Deleted!\\n\\nWhy not tag him, Wasnt being harsh or rude !!!\\n\\nAnyway good changes for 2nd half!',\n",
              " datetime.datetime(2020, 1, 1, 18, 22, 8, tzinfo=datetime.timezone.utc),\n",
              " '@TariqJabbar80 Tactics need to change!\\n\\nWest Brom done a great job closing Leeds down and frustrating them!\\n\\nLeeds striker looks poor and not interested!\\n\\n#LeedsUnited',\n",
              " datetime.datetime(2020, 1, 1, 18, 10, 25, tzinfo=datetime.timezone.utc),\n",
              " \"Spirituality is not about looking up or down - it's about looking inward.\\n- Jaggi Vasudev https://t.co/Z6U8Jo2B2W\",\n",
              " datetime.datetime(2020, 1, 1, 18, 0, 33, tzinfo=datetime.timezone.utc),\n",
              " 'Who will be the first #FinTech or Bank to begin advertising on @tiktok_us/@tiktok_uk in 2020? 💃🏻🏛',\n",
              " datetime.datetime(2020, 1, 1, 17, 49, 18, tzinfo=datetime.timezone.utc),\n",
              " 'WTF @LUFC ablsoutely disgusting start and defending!\\n\\n#LeedsUnited',\n",
              " datetime.datetime(2020, 1, 1, 17, 21, 32, tzinfo=datetime.timezone.utc),\n",
              " 'From the team at AGO 🥳 https://t.co/VFNEvjD8Af',\n",
              " datetime.datetime(2020, 1, 1, 17, 16, 30, tzinfo=datetime.timezone.utc),\n",
              " '@Enybull Lol you owe me half of that 300k',\n",
              " datetime.datetime(2020, 1, 1, 17, 10, 49, tzinfo=datetime.timezone.utc),\n",
              " '@Enybull Yes, your subs 1,2,3 in that order from left to right.. So when selecting even subs can be moved around so that the player you think will most likely score points among the subs is on the far left',\n",
              " datetime.datetime(2020, 1, 1, 17, 7, 21, tzinfo=datetime.timezone.utc),\n",
              " '@Enybull Sorry, Nakamba replacing Vardy takes your system to 3:5:2, anyway bottomline is Vardy will surely be replaced by Nakamba &amp; the formation will automatically change',\n",
              " datetime.datetime(2020, 1, 1, 17, 4, 41, tzinfo=datetime.timezone.utc),\n",
              " \"@Enybull &amp; if any of Solanke or Pukki doesn't play the system will automatically go to 5:4:1 &amp; bring Rico in\",\n",
              " datetime.datetime(2020, 1, 1, 17, 2, 15, tzinfo=datetime.timezone.utc),\n",
              " '@Enybull Nakamba will replace Vardy &amp; your system will go to 4:4:2..',\n",
              " datetime.datetime(2020, 1, 1, 16, 58, 54, tzinfo=datetime.timezone.utc),\n",
              " 'Golden brown 🤩 https://t.co/S4fmshJD9g',\n",
              " datetime.datetime(2020, 1, 1, 16, 45, 56, tzinfo=datetime.timezone.utc),\n",
              " '@ChasquiPenguin Hope all hope improves in 2020\\nSending you positive and healing vibes.',\n",
              " datetime.datetime(2020, 1, 1, 16, 40, 26, tzinfo=datetime.timezone.utc),\n",
              " '@Ryanilbasso As @ChasquiPenguin has hinted we need a return to this when energy back 😆 https://t.co/eZgrFqoQ9S',\n",
              " datetime.datetime(2020, 1, 1, 16, 35, 23, tzinfo=datetime.timezone.utc),\n",
              " '@MrCheagle @guccidog2018 @AuntSam2u @MuddlesDog @RhondaHendee @ThorSelfies @Sprocket_Cool Mr Cheagle \\nPassing your application to Bosses for acceptance into ZOMBIESQUAD.\\nMark Patrol reports #ZSHQ &amp;add to yur Profile if you wish, helps to identify you.\\nFollow HQ&amp;Leeda HisBillyShip @BraveWinston for notices.\\nHere is some additional info about ZOMBIESQUAD peeps&amp;hashtags. https://t.co/bxJLWRRolF',\n",
              " datetime.datetime(2020, 1, 1, 16, 34, 1, tzinfo=datetime.timezone.utc),\n",
              " 'That’s Cardiff turned off, absolutely pathetic. Happy fucking New Year 🖕🏻',\n",
              " datetime.datetime(2020, 1, 1, 16, 19, 32, tzinfo=datetime.timezone.utc),\n",
              " '@Jollin061210 Jollin, Furtastic skills!\\nFinal step b4 HQ can issue your ZOMBIE HUNTER Starter Kit, need you to do a written OATH to ZOMBIESQUAD #ZSHQ wid your pawsignature🐾 on the bottom. https://t.co/ZewRzd16qi',\n",
              " datetime.datetime(2020, 1, 1, 16, 18, 7, tzinfo=datetime.timezone.utc),\n",
              " 'Fuckin this ratchet bitch and she stay on her knees like kaepernick',\n",
              " datetime.datetime(2020, 1, 1, 16, 17, tzinfo=datetime.timezone.utc),\n",
              " '@MrCheagle Mr Cheagle \\nPawtastic skills!\\nFinal step b4 HQ can issue your ZOMBIE HUNTER Starter Kit need you to do a written OATH to ZOMBIESQUAD #ZSHQ wid your pawsignature 🐾 on the bottom.\\nHere are some examples but originality is always valued. https://t.co/5ClQbAspyV',\n",
              " datetime.datetime(2020, 1, 1, 16, 12, 52, tzinfo=datetime.timezone.utc),\n",
              " '@DavidKeech5 Happy new year David',\n",
              " datetime.datetime(2020, 1, 1, 16, 11, 57, tzinfo=datetime.timezone.utc),\n",
              " 'Keep the fake love and negativity over there',\n",
              " datetime.datetime(2020, 1, 1, 15, 55, 2, tzinfo=datetime.timezone.utc),\n",
              " '🚨 STREAM ALERT 🚨\\n\\n@SStannoCOD is now LIVE!👇👇\\n\\n  🔗https://t.co/QoSXRZlg8U\\n        https://t.co/QoSXRZlg8U\\n\\nHe’s currently on the Damascus grind and also playing with viewers!\\n\\nJump into the stream now and don’t forget to drop a follow!🤘\\n#OBTFAM',\n",
              " datetime.datetime(2020, 1, 1, 15, 50, 5, tzinfo=datetime.timezone.utc),\n",
              " '@Dishwasher1910 I know Rule 34 is a thing and all but Pot of Greed is a step beyond all logical sanity',\n",
              " datetime.datetime(2020, 1, 1, 15, 42, 7, tzinfo=datetime.timezone.utc),\n",
              " '@TeamOSullivan1 Everywhere looks naked!',\n",
              " datetime.datetime(2020, 1, 1, 15, 41, 23, tzinfo=datetime.timezone.utc),\n",
              " '@ChasquiPenguin Super idea 🙌 #20s https://t.co/rzqux4NmeM',\n",
              " datetime.datetime(2020, 1, 1, 15, 27, 55, tzinfo=datetime.timezone.utc),\n",
              " 'This nigga Gucci Mane drop a album like every week 😭',\n",
              " datetime.datetime(2020, 1, 1, 15, 0, 50, tzinfo=datetime.timezone.utc),\n",
              " 'My family always have New Year’s breakfast every year, and what better way to make a vegetarian version of a cooked breakfast I’ve made by myself using @QuornFoods sausage and bacon, Heinz baked beans and 50/50 toast from Tesco. 🌱 https://t.co/llKDulmgzD',\n",
              " datetime.datetime(2020, 1, 1, 14, 47, 36, tzinfo=datetime.timezone.utc),\n",
              " '*Just to point out that Sky, BBC and ITV news programmes I watched I use my Sky Q box rather than Netflix. No news programmes there :)',\n",
              " datetime.datetime(2020, 1, 1, 14, 29, 14, tzinfo=datetime.timezone.utc),\n",
              " 'My New Year’s Day #Netflix schedule 😁🍿🎥 🎉🎊 https://t.co/IObYLYHRra',\n",
              " datetime.datetime(2020, 1, 1, 14, 27, 36, tzinfo=datetime.timezone.utc),\n",
              " 'Start to @REDJanuaryUK @hbparkrun in threshold this morning for @MindCharity such a great cause and raising awareness of getting active for better #mentalhealth \\nFind out more here 👇 sign up ✅ get involved 🏃\\u200d♂️\\n➡️ https://t.co/X9f9IgESOc https://t.co/uF2eGxo6Fw',\n",
              " datetime.datetime(2020, 1, 1, 14, 12, 45, tzinfo=datetime.timezone.utc),\n",
              " '@MrCheagle Hi Mr Cheagle\\nTo officially join ZOMBIESQUAD #ZSHQ is a simple 2-step process:\\nSTEP1.\\nA. Read and accept these our Squad Rules given to us by Feerless Founder Winston💖\\nB. Then tell HQ more about you, your skills and talents.\\nThank you https://t.co/SztYfSrLYn',\n",
              " datetime.datetime(2020, 1, 1, 14, 11, 43, tzinfo=datetime.timezone.utc),\n",
              " '@JeffinerB Many congratulations Jenny - a wonderful achievement, richly deserved!',\n",
              " datetime.datetime(2020, 1, 1, 13, 57, 35, tzinfo=datetime.timezone.utc),\n",
              " \"#BHACHE  We're @ChelseaFC doing our usual thing &amp; not killing a team off with a second &amp; third goal &amp; allowing them to stay in the game!\",\n",
              " datetime.datetime(2020, 1, 1, 13, 49, 45, tzinfo=datetime.timezone.utc),\n",
              " '@englandsfavour1 @thecriticalfish Yes good! Where can I get a copy?',\n",
              " datetime.datetime(2020, 1, 1, 13, 33, 27, tzinfo=datetime.timezone.utc),\n",
              " '@austintheory1 just watched your NXT debut and it was fantastic #AllDay #NXTheory',\n",
              " datetime.datetime(2020, 1, 1, 13, 33, 14, tzinfo=datetime.timezone.utc),\n",
              " 'Join me on tour this month promoting the release of my brand new album “Now Is Spring”\\n\\nJanuary \\n3rd - Steyning Jazz Club\\nhttps://t.co/nu8L8igwPl\\n\\n4th - The Acorn, Penzance, Cornwall\\n@AcornPZ \\nTickets \\nhttps://t.co/jlZfRtlxdU\\n\\n#jazz #cornwall #nowisspring \\n@Cornwall_Today #sussex',\n",
              " datetime.datetime(2020, 1, 1, 13, 26, 20, tzinfo=datetime.timezone.utc),\n",
              " \"@Keith_Lilsson @jessphillips Unless you can substantiate what you've posted as true, rather than rely on smear, then best withdraw your comments.\\n\\nThis platform is not a 'wild west' environment where people can say what they like without repercussions.\\n\\nIf persist you can't complain if you get sued.\",\n",
              " datetime.datetime(2020, 1, 1, 13, 26, 9, tzinfo=datetime.timezone.utc),\n",
              " \"@kobe_jacks @bbcdoctorwho I'm from the UK and I can't see it. I don't think Twitter does regional things like that.\",\n",
              " datetime.datetime(2020, 1, 1, 13, 24, 35, tzinfo=datetime.timezone.utc),\n",
              " 'Yes, that’s my point too. The architecture of industry past can’t be erased - but can all of it be converted to digital innovation centres? #WhatisTheNorth',\n",
              " datetime.datetime(2020, 1, 1, 13, 22, 51, tzinfo=datetime.timezone.utc),\n",
              " '@StevenKynman Thank you for opening up. I think it’s important if we’re going to break the stigma around mental health. I have been having my own struggles which have been extra hard this past year. I hope 2020 is a more steady year for you.',\n",
              " datetime.datetime(2020, 1, 1, 13, 20, 33, tzinfo=datetime.timezone.utc),\n",
              " 'Are you sentimental about the RDAs? In days gone by when everything mapped and was therefore measurable?',\n",
              " datetime.datetime(2020, 1, 1, 13, 14, 51, tzinfo=datetime.timezone.utc),\n",
              " '#NewYearsDay I have hummed U2’s track every New Years Day since it’s release...perhaps this first tweet of 2020 will break the spell... #2020NewYear https://t.co/9s8mL6cseI',\n",
              " datetime.datetime(2020, 1, 1, 13, 1, 1, tzinfo=datetime.timezone.utc),\n",
              " \"@jacckk___ We'll never forget 😭\",\n",
              " datetime.datetime(2020, 1, 1, 12, 57, 53, tzinfo=datetime.timezone.utc),\n",
              " '2020: new decade, new direction.\\n\\nPlenty of exciting things planned and in progress for this year and the future - more to come on all of that soon!\\n\\nIn the meantime, wishing everyone a very happy and prosperous New Year! 🎆 https://t.co/z28aXxi7QD',\n",
              " datetime.datetime(2020, 1, 1, 12, 57, 26, tzinfo=datetime.timezone.utc),\n",
              " \"@SuperSaf Imagine where we'll be in the next decade 😲\",\n",
              " datetime.datetime(2020, 1, 1, 12, 55, 26, tzinfo=datetime.timezone.utc),\n",
              " 'We are excited to announce the launch of The Jamie Murray Doubles Series beginning in July 2020.\\n\\nAn independent, £30,000 Mens Doubles week, celebrating the game of doubles &amp; giving British players more earning opportunities on home soil!\\n\\nGet ready...\\n\\nhttps://t.co/MHWZjPsXEQ https://t.co/UEoFs1Q4c6',\n",
              " datetime.datetime(2020, 1, 1, 12, 36, 31, tzinfo=datetime.timezone.utc),\n",
              " 'I’ve been invited to a stag do in Southend, now that sounds like real trouble...',\n",
              " datetime.datetime(2020, 1, 1, 12, 22, 27, tzinfo=datetime.timezone.utc),\n",
              " 'Happy 2020 All 💕 https://t.co/P16oiWTeu4',\n",
              " datetime.datetime(2020, 1, 1, 12, 9, 23, tzinfo=datetime.timezone.utc),\n",
              " 'Hi I’ve got two .@I_Skream tickets by day for sale for today. Due to illness unable to attend. Cheers',\n",
              " datetime.datetime(2020, 1, 1, 11, 46, 21, tzinfo=datetime.timezone.utc),\n",
              " \"@Leon_ross93 I've a normal job with monthly remuneration &amp; during my free time I do something which pays hourly\",\n",
              " datetime.datetime(2020, 1, 1, 11, 41, 15, tzinfo=datetime.timezone.utc),\n",
              " 'Slight delay here in 17th Century A toast to 2️⃣0️⃣2️⃣0️⃣ the year of the Cavaliers! 🍷⚔🙌\\n\\n#HappyNewYear #KingCharlesI \\n#Cavaliers #CharlesI #Royals https://t.co/QSmTwhPdTX',\n",
              " datetime.datetime(2020, 1, 1, 11, 31, 7, tzinfo=datetime.timezone.utc),\n",
              " \"Pushing files na pa new year..\\nMan's gotta meet his targets by the end of the month.. \\n\\nThis 'targets thing' is really working well neh!!\",\n",
              " datetime.datetime(2020, 1, 1, 11, 30, 50, tzinfo=datetime.timezone.utc),\n",
              " 'Here’s to all our good friends and clients we’ve worked with and supported thru the past year. Looking forward to continued working with you and other people we’ve yet to meet in 2020 https://t.co/gDldhADi7Q',\n",
              " datetime.datetime(2020, 1, 1, 11, 22, 57, tzinfo=datetime.timezone.utc),\n",
              " 'Happy new year !!! https://t.co/tkq4igeMur',\n",
              " datetime.datetime(2020, 1, 1, 11, 20, 8, tzinfo=datetime.timezone.utc),\n",
              " 'Appreciation is a wonderful thing. Happy New Year! ❤️',\n",
              " datetime.datetime(2020, 1, 1, 10, 51, 19, tzinfo=datetime.timezone.utc),\n",
              " '@kash3393 Happy New year doc',\n",
              " datetime.datetime(2020, 1, 1, 10, 32, 46, tzinfo=datetime.timezone.utc),\n",
              " 'Window views. On @airBaltic approaching Gatwick Airport this morning! It was nice and sunny up above the clouds! And then London happened.... 😂😂😊 https://t.co/Z5LDskbaK9',\n",
              " datetime.datetime(2020, 1, 1, 10, 14, 17, tzinfo=datetime.timezone.utc),\n",
              " 'Happy 2020, everyone! \\n\\nStarting the new year (of a new decade) on high. \\n\\nSpecial trip. To a special place.\\n\\nCan you guess where?\\n\\n #roadTrip #Travel #travelogue #2020NewYear https://t.co/UClbbUFvuX',\n",
              " datetime.datetime(2020, 1, 1, 10, 7, 21, tzinfo=datetime.timezone.utc),\n",
              " 'We wish you all a Happy new year! #2020Vision #happynewyear2020',\n",
              " datetime.datetime(2020, 1, 1, 10, 4, 17, tzinfo=datetime.timezone.utc),\n",
              " 'Happy 7th Birthday to Stanley! 🙋\\u200d♂️🎉\\n#NewYear Baby https://t.co/JwvtIR4MlD',\n",
              " datetime.datetime(2020, 1, 1, 9, 39, 17, tzinfo=datetime.timezone.utc),\n",
              " 'So it’s 2020 and I was thinking 🤔 should I post a selfie up of myself \\nBut also, I’m a bit worried if no one will like my face 😭🥺 \\nSo do you want me to post one or not',\n",
              " datetime.datetime(2020, 1, 1, 9, 35, 58, tzinfo=datetime.timezone.utc),\n",
              " 'Happy New Year everyone! Enjoy welcoming in 2020 with a smile! #NewYear #2020 https://t.co/e6LHblEk6Y',\n",
              " datetime.datetime(2020, 1, 1, 9, 23, 1, tzinfo=datetime.timezone.utc),\n",
              " '\"I refuse to look at the experiences [of #heartfailure] I\\'ve had as anything other than positive.\"\\xa0\\xa0\\n\\nRead Pumping Marvellous ambassador  Rich Cleverley\\'s New Year post about his extraordinary 2019 achievements and his big plans for 2020! https://t.co/MN15dHxrBe\\n#TeamMarvellous20 https://t.co/tJPGEQzNW6',\n",
              " datetime.datetime(2020, 1, 1, 9, 19, 51, tzinfo=datetime.timezone.utc),\n",
              " '@babycatcheroz @KatieMagnet @WaitingForTheC2 @NHSOrganDonor @NurseBetty_FBPE @thalias_heart @Shelley_DMD @K9Finn @Melissassmile @DrAmirKhanGP @ETransplantC @Naomi_My_Story @NHSBT @CarysBarton @jay_rcw @pouringoutheart Good  morning and an exceptionally marvellous New Year and beyond to you all ❤',\n",
              " datetime.datetime(2020, 1, 1, 8, 56, 7, tzinfo=datetime.timezone.utc),\n",
              " 'Clever move to beat the challenger banks or a sign or desperation? #fintech',\n",
              " datetime.datetime(2020, 1, 1, 8, 55, 34, tzinfo=datetime.timezone.utc),\n",
              " \"Ladies if you ever want to buy your dude perfume &amp; you're not sure which one buy him this..\\n\\nThank me later 😊 https://t.co/ctIHDwp01T\",\n",
              " datetime.datetime(2020, 1, 1, 8, 41, 43, tzinfo=datetime.timezone.utc),\n",
              " 'Happy New Year from the Sedgwick Recruitment team. May the next decade prove wonderful for all! https://t.co/wK3xv5MgB8',\n",
              " datetime.datetime(2020, 1, 1, 8, 15, 1, tzinfo=datetime.timezone.utc),\n",
              " \"New Year!!\\n\\nIt's a Wednesday, business as usual.. Back in the office..\\n\\n#2020\\n#workhard\\n#SaveHard\\n#InvestHard\\n#LiveHard\\n#TravelHard\",\n",
              " datetime.datetime(2020, 1, 1, 8, 13, 25, tzinfo=datetime.timezone.utc),\n",
              " 'A big year ahead \\n\\n@UKFootgolf 🙏💪🇬🇧 \\n\\n┏━━┓┏━━┓┏━━┓┏━━┓\\n┗━┓┃┃┏┓┃┗━┓┃┃┏┓┃\\n┏━┛┃┃┃┃┃┏━┛┃┃┃┃┃\\n FIFG FOOTGOLF WORLD CUP 🇯🇵 \\n┃┏━┛┃┃┃┃┃┏━┛┃┃┃┃\\n┃┗━┓┃┗┛┃┃┗━┓┃┗┛┃\\n┗━━┛┗━━┛┗━━┛┗━━ https://t.co/Z1QZQHSFTN',\n",
              " datetime.datetime(2020, 1, 1, 8, 0, 35, tzinfo=datetime.timezone.utc),\n",
              " \"@MusengaNm It's gona be a fruitful 2020 then lol\",\n",
              " datetime.datetime(2020, 1, 1, 7, 39, 56, tzinfo=datetime.timezone.utc),\n",
              " '2020-2030 We Will see giant leap in the field of healthcare &amp; eradication of poverty. We will have challenges, but, we will be well equipped &amp; well informed to face them. India will become 5-10 Trillion Dollar Economy by 2025-2030. I am optimistic &amp; super positive about 2020 😊',\n",
              " datetime.datetime(2020, 1, 1, 7, 28, 8, tzinfo=datetime.timezone.utc),\n",
              " 'Hey!!! Look everyone, it’s squidward!!! 😱😱😱😂😂😂 @Michael5SOS https://t.co/i5WhndbAV9',\n",
              " datetime.datetime(2020, 1, 1, 7, 0, 29, tzinfo=datetime.timezone.utc),\n",
              " 'ASIAN WEDDING PHOTOGRAPHY,VIDEOGRAPHY,BRIDAL MAKEUP &amp; HENNA SERVICES IN ALL OVER UK \\nCONTACT US 03301134469\\n#asian #weddings #uk #weddingphotography #photographers #photographyinuk\\n#asianweddingphotography\\nhttps://t.co/qvLgO7FcXf https://t.co/pQcv3HrqTI',\n",
              " datetime.datetime(2020, 1, 1, 6, 12, 32, tzinfo=datetime.timezone.utc),\n",
              " 'Spirituality, for me, is acquiring and giving happiness without hurting anyone.\\n- Nana Patekar\\n #SelfHelp #SelfConfidence #Spiritual https://t.co/MuZ2C4dBra',\n",
              " datetime.datetime(2020, 1, 1, 6, 0, 7, tzinfo=datetime.timezone.utc),\n",
              " 'You shouldn’t slam the door on those seeking refuge from violence',\n",
              " datetime.datetime(2020, 1, 1, 5, 42, 1, tzinfo=datetime.timezone.utc),\n",
              " 'Happy 2020 New Year’s to all! Wish you all a successful year! #Grateful',\n",
              " datetime.datetime(2020, 1, 1, 5, 12, 21, tzinfo=datetime.timezone.utc),\n",
              " '@Jali_Cat @sxdoc Goodbye Americans 🤦',\n",
              " datetime.datetime(2020, 1, 1, 5, 4, 16, tzinfo=datetime.timezone.utc),\n",
              " '2020,\\nHappy new year from LONDON https://t.co/ceEkKdtVSH',\n",
              " datetime.datetime(2020, 1, 1, 3, 2, 49, tzinfo=datetime.timezone.utc),\n",
              " 'Happy New Year to all our followers !!!Wishing you all the very best for 2020 🎉🎇🎉',\n",
              " datetime.datetime(2020, 1, 1, 1, 57, 23, tzinfo=datetime.timezone.utc),\n",
              " '@steveaustinBSR Happy New Year',\n",
              " datetime.datetime(2020, 1, 1, 1, 32, 52, tzinfo=datetime.timezone.utc),\n",
              " '#HappyNewYear to all my followers!',\n",
              " datetime.datetime(2020, 1, 1, 1, 32, 37, tzinfo=datetime.timezone.utc),\n",
              " 'oh ooh 2020 is so cozy and warm, sorry america ooh ah',\n",
              " datetime.datetime(2020, 1, 1, 1, 5, 19, tzinfo=datetime.timezone.utc),\n",
              " 'Happy new year and decade!\\n\\n#getfit2020 #losswight #personaltraining  #improvefitness #flexibilitygoals #smarttrainer #batterseapark #nopainnogain #londoncoaching #coaching #fitlondoner #londonmotivation #newyearresolution #2020goals #2020motivation #fitness2020 https://t.co/cDqu6ty3GR',\n",
              " datetime.datetime(2020, 1, 1, 0, 49, 17, tzinfo=datetime.timezone.utc),\n",
              " 'Heres to another year of serving Queen and Country and to chasing as many egg’s as we can while we’re doing it!! Happy New Year to all from the Army Medical Services Rugby Club.🎉🍾 🐍🏉#Rugby #RugbyFamily @armyrugbyunion @ArmyMedServices #SerpentRugby @WorldRugby @Rugbyworldmag',\n",
              " datetime.datetime(2020, 1, 1, 0, 46, 30, tzinfo=datetime.timezone.utc),\n",
              " \"@MusengaNm Lol don't let him ruin your 2020 ka?\",\n",
              " datetime.datetime(2020, 1, 1, 0, 41, 58, tzinfo=datetime.timezone.utc),\n",
              " 'HAPPY NEW YEAR BITCHES!!! 🥳',\n",
              " datetime.datetime(2020, 1, 1, 0, 33, 32, tzinfo=datetime.timezone.utc),\n",
              " 'Here’s a little preview of what’s to come on Planet X 🚀🌐👽 Everyone RT!!!! 🔥🔥🔥🔥🔥🔥 https://t.co/RDBA5fAk1s',\n",
              " datetime.datetime(2020, 1, 1, 0, 33, 30, tzinfo=datetime.timezone.utc),\n",
              " '@NathanStaker1 Happy new year buddy 💙',\n",
              " datetime.datetime(2020, 1, 1, 0, 32, 25, tzinfo=datetime.timezone.utc),\n",
              " 'Happy New Year 🎉🥂 https://t.co/oZZ8hMNQaK',\n",
              " datetime.datetime(2020, 1, 1, 0, 29, 41, tzinfo=datetime.timezone.utc),\n",
              " 'Happy New Year to any of you fuckers still following me 🍻 https://t.co/NxcujUaiOa',\n",
              " datetime.datetime(2020, 1, 1, 0, 27, 23, tzinfo=datetime.timezone.utc),\n",
              " 'Happy new year from london 🇬🇧😍 https://t.co/bFjKqa9rJt',\n",
              " datetime.datetime(2020, 1, 1, 0, 25, 45, tzinfo=datetime.timezone.utc),\n",
              " 'HAPPY NEW YEAR!!! #2020NewYear https://t.co/eKKXsX5opM',\n",
              " datetime.datetime(2020, 1, 1, 0, 22, 1, tzinfo=datetime.timezone.utc),\n",
              " 'Beautiful Girls- Sean Kingston',\n",
              " datetime.datetime(2020, 1, 1, 0, 14, 54, tzinfo=datetime.timezone.utc),\n",
              " '🥳 #HappyNewYear \\n\\n🗣National Careers Week 2020\\n\\n🗓 2nd - 7th March 2020\\n\\n👥 Join us.\\n\\nhttps://t.co/P4IZFJ2V3D\\n\\n🤝Want to find out about how you can make a difference?  \\n\\n#NCW2020\\n#SLTchat \\n#ukedchat \\n#CEIAG\\n#Jobs \\n#Skills \\n#GetInvolved https://t.co/xNDr7r1WnR',\n",
              " datetime.datetime(2020, 1, 1, 0, 13, 55, tzinfo=datetime.timezone.utc),\n",
              " 'HAPPY NEW YEAR 🥂🥂\\n\\nI’m still playing the #GreatestHits on @GoldenOldies_ until 1AM, come and join me #TuneIn\\n\\nTune in link: https://t.co/kTlji5M6m6 https://t.co/NtPVKWBmCh',\n",
              " datetime.datetime(2020, 1, 1, 0, 12, 59, tzinfo=datetime.timezone.utc),\n",
              " \"#happynewyear2020 to all #LFCFamily &amp; everyone else let's hope it's another year to remember 👊 #LFC #LFCfans #YNWA #LiverpoolFC #LFC2020 https://t.co/JB7XjCivRf\",\n",
              " datetime.datetime(2020, 1, 1, 0, 10, 34, tzinfo=datetime.timezone.utc),\n",
              " '@airbusish Is that FO Lawley on the right?',\n",
              " datetime.datetime(2020, 1, 1, 0, 10, 25, tzinfo=datetime.timezone.utc),\n",
              " '@BeardedGenius That did not take long!',\n",
              " datetime.datetime(2020, 1, 1, 0, 10, 15, tzinfo=datetime.timezone.utc),\n",
              " '@FloellaBenjamin I was definitely a big fan from a very early age. My mum said I used to be over the moon whenever you appeared on the television. You continue to be an inspiration and source of great joy. Thanks @FloellaBenjamin 🥰',\n",
              " datetime.datetime(2020, 1, 1, 0, 8, 33, tzinfo=datetime.timezone.utc),\n",
              " 'Dear friends, Happy New Year 2020！🎆🎊🎉🍾️ https://t.co/barqml4wlt',\n",
              " datetime.datetime(2020, 1, 1, 0, 7, 32, tzinfo=datetime.timezone.utc),\n",
              " 'Can you imagine this devastation; folks celebrating turn of the decade in all parts of the world while such devastation as #AustraliaBurns with loss of life to humans, wildlife Koala population diminished, homes gone forever? Tragic. #ClimateChange #ClimateEmergency #environment',\n",
              " datetime.datetime(2020, 1, 1, 0, 4, 21, tzinfo=datetime.timezone.utc),\n",
              " 'Happy New Year!!! Here’s to 2020!! 🎆🎇🎉🎊🥳',\n",
              " datetime.datetime(2020, 1, 1, 0, 2, 53, tzinfo=datetime.timezone.utc),\n",
              " \"Hammy's Boomerang Adventure: https://t.co/PNMHeN8aEv via @bbciplayer\",\n",
              " datetime.datetime(2020, 1, 2, 23, 16, 15, tzinfo=datetime.timezone.utc),\n",
              " \"No Air- Jordin Sparks/CB\\n\\nEh where's Jordin Sparks? 🤔\\n\\nJeeeeeeeeeeeeeeeeez  I had a serious crush on that chic\",\n",
              " datetime.datetime(2020, 1, 2, 22, 59, 29, tzinfo=datetime.timezone.utc),\n",
              " '@MikeGamlin1 Only if the world runs out of working cocker spaniels first https://t.co/k0KXZDepTm',\n",
              " datetime.datetime(2020, 1, 2, 22, 47, 56, tzinfo=datetime.timezone.utc),\n",
              " '@DaveVescio Waiting for the Tarantino adaptation. Bwahaha',\n",
              " datetime.datetime(2020, 1, 2, 22, 45, 13, tzinfo=datetime.timezone.utc),\n",
              " '@Amyesaunders1 Happy New Year Amy 2️⃣0️⃣2️⃣0️⃣ 🎉👏 https://t.co/Cs7gfgd4v1',\n",
              " datetime.datetime(2020, 1, 2, 22, 35, 51, tzinfo=datetime.timezone.utc),\n",
              " 'Miss Independent- Ne-yo\\n\\n#TBT',\n",
              " datetime.datetime(2020, 1, 2, 22, 35, 5, tzinfo=datetime.timezone.utc),\n",
              " 'Beautiful Girls- Sean Kingston',\n",
              " datetime.datetime(2020, 1, 2, 22, 34, 17, tzinfo=datetime.timezone.utc),\n",
              " \"@Fight4Pissouri @USMarketingTips @AnastasiadesCY @Beyond_Contempt Thank you very much for the truth. It'd call it a reward for releasing the rapists &amp; intimidating the #victim for 9 hours by questioning her without the presence of her legal advice. While the interrogators took turns drilling her with 100s of questions while she was suffering 😕 https://t.co/JXP29u4wh9\",\n",
              " datetime.datetime(2020, 1, 2, 22, 29, 44, tzinfo=datetime.timezone.utc),\n",
              " '@Stevera16980031 @gondorffhenry @32Red @WayneRooney @dcfcofficial Agree with this ☝️',\n",
              " datetime.datetime(2020, 1, 2, 22, 26, 20, tzinfo=datetime.timezone.utc),\n",
              " 'Gracious is one kind word. #playonwords #stopprocrastinating #penmonkey @noshizzle2019 https://t.co/ha2mc9q8to',\n",
              " datetime.datetime(2020, 1, 2, 22, 22, 54, tzinfo=datetime.timezone.utc),\n",
              " ...]"
            ]
          },
          "metadata": {},
          "execution_count": 56
        }
      ]
    },
    {
      "cell_type": "markdown",
      "source": [
        "Call your scraping function.\n",
        "**Warning:** with 10 tweets a day this takes about 40 minutes to run and at a later stage the tweet classification task with the best model would take around 6 hours (but you can do this in batches of course)."
      ],
      "metadata": {
        "id": "Z9WZV9Rs2GDz"
      }
    },
    {
      "cell_type": "code",
      "source": [
        "# TODO - Call it.\n",
        "scrape_time_range(tweets, place_id, date_range_list, 2)"
      ],
      "metadata": {
        "id": "K5y7RyOP4Tlg"
      },
      "execution_count": null,
      "outputs": []
    },
    {
      "cell_type": "code",
      "source": [
        "def scrape_time_range(list_of_tweets, place_id, date_range, number_of_tweets):\n",
        "  scraped_tweets = sntwitter.TwitterSearchScraper(f\"lang:en place:{place_id} since:{date_range_list[0]} until:{date_range_list[-1]}\").get_items()    \n",
        "  for i, tweet in enumerate(scraped_tweets):\n",
        "    list_of_tweets.append(tweet.rawContent)\n",
        "    list_of_tweets.append(tweet.date)\n",
        "    if i == number_of_tweets - 1:\n",
        "      break\n",
        "  return list_of_tweets\n",
        "\n",
        "\n",
        "# Set up the date range\n",
        "start_date = dt.date(2020, 1, 1)\n",
        "end_date = dt.date(2022, 12, 31)\n",
        "delta = dt.timedelta(days=1)\n",
        "date_range = pd.date_range(start=start_date, end=end_date, freq='D')\n",
        "\n",
        "# Print the date range\n",
        "\n",
        "st_dat = 0\n",
        "flag_break = 0\n",
        "for date in date_range:\n",
        "  if st_dat == 0:\n",
        "    st_dat = date.strftime('%d/%m/%Y')\n",
        "    continue\n",
        "  else:\n",
        "    flag_break = flag_break + 1\n",
        "    date_range = pd.date_range(start=st_dat, end=date)\n",
        "    date_range_list = list(date_range.strftime('%Y-%m-%d'))\n",
        "    # 2. Write the scraping function.\n",
        "    date_range_list_dt = pd.to_datetime(date_range_list)\n",
        "    place_id = '6416b8512febefc9'\n",
        "    # TODO - Call it.\n",
        "    tweets = []\n",
        "    scrape_time_range(tweets, place_id, date_range_list, 10)\n",
        "    print(tweets)\n"
      ],
      "metadata": {
        "id": "h51pYfsYm4ET"
      },
      "execution_count": null,
      "outputs": []
    },
    {
      "cell_type": "markdown",
      "source": [
        "Now, we would like to convert the list of tweets to a dataframe and a CSV file to save our progress. Call the dataframe ``df_tweets`` and the CSV file ``tweets.csv``."
      ],
      "metadata": {
        "id": "VTgGgrTe2AIE"
      }
    },
    {
      "cell_type": "code",
      "source": [
        "# TODO - Convert the list of tweets to a dataframe and a CSV file.\n"
      ],
      "metadata": {
        "id": "8sNpOp3V4Q1V"
      },
      "execution_count": null,
      "outputs": []
    },
    {
      "cell_type": "markdown",
      "source": [
        "#### Classifying Tweets\n",
        "If you have left off before this chunk and your Colabs runtime has refreshed in the meantime, load the dataset below."
      ],
      "metadata": {
        "id": "zOiuZ0v8NSKA"
      }
    },
    {
      "cell_type": "code",
      "source": [
        "# Taking the first index of the list of uploaded datasets, as you only upload one.\n",
        "df_tweets = upload_datasets()[0]"
      ],
      "metadata": {
        "id": "Ter9usq7NUal"
      },
      "execution_count": null,
      "outputs": []
    },
    {
      "cell_type": "markdown",
      "source": [
        "At this stage, we need to define a function that cleans the tweets. Namely, users and tweets mentioned in tweets might confuse the classification model that we will use at a later stage. This is possible if usernames and links have words in them that would refer to a certain sentiment but are not used for that purpose in natural text. Thus, we need to neutralise these words in the tweets. Create a function that converts all users (in the form of ``@username``) to \"``@user``\" and all links (in the form of ``https://`` to \"``https``\". Call it ``neutralise_mentions_links`` and make it so that it takes one argument called ``text``.\n",
        "</br></br>\n",
        "Use the ``.split()`` function of strings in Python. Hastags start with \"#\", mentions with \"@\", links with \"https://\". "
      ],
      "metadata": {
        "id": "xtfCW3fQ5Tne"
      }
    },
    {
      "cell_type": "code",
      "source": [
        "# TODO - Write a function that removes hashtags and links from a piece of text."
      ],
      "metadata": {
        "id": "MO6uaFVH5lqf"
      },
      "execution_count": null,
      "outputs": []
    },
    {
      "cell_type": "markdown",
      "source": [
        "Apply the function to all the tweets in the dataframe."
      ],
      "metadata": {
        "id": "K0QIey716y7j"
      }
    },
    {
      "cell_type": "code",
      "source": [
        "# TODO - Apply the function to all tweets in the dataframe."
      ],
      "metadata": {
        "id": "6EmXTEYM8D_n"
      },
      "execution_count": null,
      "outputs": []
    },
    {
      "cell_type": "markdown",
      "source": [
        "Now, we would like to classify the sentiment of the tweets in our dataframe. We task an external library with this exercise. The library we will use is ``happytransformer``. First, we install the library."
      ],
      "metadata": {
        "id": "o26msxfu9cX9"
      }
    },
    {
      "cell_type": "code",
      "source": [
        "!pip install happytransformer --quiet"
      ],
      "metadata": {
        "id": "8eacejSm90vb"
      },
      "execution_count": null,
      "outputs": []
    },
    {
      "cell_type": "markdown",
      "source": [
        "Second, we import the text classification functionality from the library we installed."
      ],
      "metadata": {
        "id": "WkSvc5mO97xo"
      }
    },
    {
      "cell_type": "code",
      "source": [
        "from happytransformer import HappyTextClassification"
      ],
      "metadata": {
        "id": "vQ_7Pgwb9_0I"
      },
      "execution_count": null,
      "outputs": []
    },
    {
      "cell_type": "markdown",
      "source": [
        "Third, we load the AI model that has been trained on a large dataset of tweets with sentiment labels. We will use this for the analysis. This type of model is called a transformer model which you can read more on [here](https://en.wikipedia.org/wiki/Transformer_(machine_learning_model)."
      ],
      "metadata": {
        "id": "RXZMZTg8bJod"
      }
    },
    {
      "cell_type": "code",
      "source": [
        "happy_tc = HappyTextClassification(model_type=\"BERT\",  model_name=\"cardiffnlp/twitter-roberta-base-sentiment\", num_labels=3)"
      ],
      "metadata": {
        "id": "hKzPNn7XbTqo"
      },
      "execution_count": null,
      "outputs": []
    },
    {
      "cell_type": "markdown",
      "source": [
        "This is a demonstration of how the model can be used. Now write a function called ``classify_sentiment`` that takes in one argument of ``text`` and outputs the label in numeric form. \n",
        "</br></br>\n",
        "It is important for you to know that the label that the NLP model outputs is one of:\n",
        "* ``LABEL_0``, which corresponds to negative or the numeric form of -1.\n",
        "* ``LABEL_1``, which corresponds to neutral or the numeric form of 0.\n",
        "* ``LABEL_2``, which corresponds to positive or the numeric form of 1.\n",
        "\n",
        "The model outputs one score for each label and returns the label and score corresponding to the label with the highest score."
      ],
      "metadata": {
        "id": "LA8yizwwcU3z"
      }
    },
    {
      "cell_type": "code",
      "source": [
        "result = happy_tc.classify_text(\"I think the Python for Economics week is a great initiative.\")\n",
        "print(result.label, result.score)\n",
        "\n",
        "# TODO - Write a function that outputs the label in numeric form."
      ],
      "metadata": {
        "id": "k8pjKAeAdJCS"
      },
      "execution_count": null,
      "outputs": []
    },
    {
      "cell_type": "markdown",
      "source": [
        "Apply the ``sentiment_classifier`` function to the tweets and store the returned labels in a new column called ``sentiment``. **Warning:** doing this can be time intensive. This notebook was tested with 10 tweets per day and it took 6 hours to classify all the tweets scraped over the time range. Try doing this in chunks and downloading the results if you can't run the notebook for 6 hours straight."
      ],
      "metadata": {
        "id": "jHf31Zn_-A6A"
      }
    },
    {
      "cell_type": "code",
      "source": [
        "# TODO - Apply the sentiment classifier function to the tweets."
      ],
      "metadata": {
        "id": "IKYTWYFH-UP1"
      },
      "execution_count": null,
      "outputs": []
    },
    {
      "cell_type": "markdown",
      "source": [
        "Now, we want to calculate the average sentiment for each day. We can drop the column of tweets before we transform the dataframe. Store this new dataframe in a variable called ``df_sentiment``."
      ],
      "metadata": {
        "id": "AS7tT4sv-gjM"
      }
    },
    {
      "cell_type": "code",
      "source": [
        "# TODO - Drop the column of tweets and transform the dataframe."
      ],
      "metadata": {
        "id": "R2A3TByi-wwm"
      },
      "execution_count": null,
      "outputs": []
    },
    {
      "cell_type": "markdown",
      "source": [
        "We have now successfully generated all of our data necessary for the analysis. One last thing to do is to merge the previously merged datasets with our final dataset of average sentiment scores to create the dataframe ``df_covid_happiness``. Download the dataset of the previously merged datasets with the code below if necessary."
      ],
      "metadata": {
        "id": "XGIUa7Jv-zfj"
      }
    },
    {
      "cell_type": "code",
      "source": [
        "df_cases_stringency = upload_datasets()[0]\n",
        "\n",
        "# TODO - Merge the stringency and cases dataset with the sentiment dataset."
      ],
      "metadata": {
        "id": "uxtkaQbI_Q2c"
      },
      "execution_count": null,
      "outputs": []
    },
    {
      "cell_type": "markdown",
      "source": [
        "Finally, we save the generated dataset."
      ],
      "metadata": {
        "id": "zJkAZLOs_wX-"
      }
    },
    {
      "cell_type": "code",
      "source": [
        "filename = \"covid_happiness.csv\"\n",
        "df_covid_happiness.to_csv(filename, index=False)\n",
        "files.download(filename)"
      ],
      "metadata": {
        "id": "z03uKSyn_yWY"
      },
      "execution_count": null,
      "outputs": []
    },
    {
      "cell_type": "markdown",
      "source": [
        "## Running Regressions\n",
        "In this section you will have to run the following regression and report the results:\n",
        "$average\\_sentiment_t = \\beta positive\\_cases_t + \\gamma stringency_t + \\eta_t + \\varepsilon_t$\n",
        "</br></br>\n",
        "Before running this regression, think of the interpretation of the coefficient $\\beta$ if you run this regression. Would you want to rescale the corresponding variable $positive\\_cases$ with some proportion to improve the interpretability of this regression?\n",
        "</br></br>\n",
        "When interpreting the regression results you should make sure you understand the definitions of the variables used in the regression. For example, the number of confirmed cases for our purposes is actually the 7-day rolling average.\n",
        "</br></br>\n",
        "First we load our dataset if not loaded yet."
      ],
      "metadata": {
        "id": "1wSD_8JrKslV"
      }
    },
    {
      "cell_type": "code",
      "source": [
        "df_covid_happiness = upload_datasets()[0]"
      ],
      "metadata": {
        "id": "2qOTTUTGK3Fi"
      },
      "execution_count": null,
      "outputs": []
    },
    {
      "cell_type": "markdown",
      "source": [
        "Weight the number of cases by some constant."
      ],
      "metadata": {
        "id": "3XtPB1Z1vGXb"
      }
    },
    {
      "cell_type": "code",
      "source": [
        "# TODO - Weight the variable to improve the interpretability of the coefficient."
      ],
      "metadata": {
        "id": "nmWsxA_3vIp8"
      },
      "execution_count": null,
      "outputs": []
    },
    {
      "cell_type": "markdown",
      "source": [
        "We now install the required packages for running regressions and generating the corresponding regression tables."
      ],
      "metadata": {
        "id": "W4dlwNVFAUP3"
      }
    },
    {
      "cell_type": "code",
      "source": [
        "!pip install linearmodels --quiet"
      ],
      "metadata": {
        "id": "28Sx08QQAbhq"
      },
      "execution_count": null,
      "outputs": []
    },
    {
      "cell_type": "markdown",
      "source": [
        "We then import the installed libraries."
      ],
      "metadata": {
        "id": "WO4OvB2DAer0"
      }
    },
    {
      "cell_type": "code",
      "source": [
        "from linearmodels.panel import PanelOLS"
      ],
      "metadata": {
        "id": "rRA_fkvfAi30"
      },
      "execution_count": null,
      "outputs": []
    },
    {
      "cell_type": "markdown",
      "source": [
        "Suppose we want to use month fixed effects in our regression. We will need to create a variable of month first in order to take this up in our final regression. Create a column that takes a different index for each month-year pair and wrap this in the function ``pd.Categorical()``."
      ],
      "metadata": {
        "id": "RARD-xurvTH-"
      }
    },
    {
      "cell_type": "code",
      "source": [
        "# TODO - Create a column that takes a different index for each month-year pair."
      ],
      "metadata": {
        "id": "dwdYsRynzjoS"
      },
      "execution_count": null,
      "outputs": []
    },
    {
      "cell_type": "markdown",
      "source": [
        "Now, save and download the time series dataframe as ``covid_happiness_timeseries.csv``."
      ],
      "metadata": {
        "id": "bcAssm96mVSj"
      }
    },
    {
      "cell_type": "code",
      "source": [
        "# TODO - Save and download the dataframe."
      ],
      "metadata": {
        "id": "LbrFE92Zz0cp"
      },
      "execution_count": null,
      "outputs": []
    },
    {
      "cell_type": "markdown",
      "source": [
        "Specifying the model. This is not an exercise because I am of the opinion that one should not learn to do their econometrics in Python and that the time spent searching the code to do this can be seen as suboptimally spent. Namely, documentation on econometric methods in Stata is arguably better and more intuitive to use for people with a background in economics."
      ],
      "metadata": {
        "id": "GDO8ivlwxRLe"
      }
    },
    {
      "cell_type": "code",
      "source": [
        "# Adding the date to the index as is required by the package of use.\n",
        "# Also, placing the index of dates in the first column.\n",
        "df_covid_happiness = df_covid_happiness.set_index(\"date\", append=True)\n",
        "df_covid_happiness.index = df_covid_happiness.index.swaplevel(0, 1)\n",
        "\n",
        "# Specifying the model.\n",
        "regression_model = PanelOLS(dependent=df_covid_happiness['sentiment'],\n",
        "                            exog=df_covid_happiness[[\"cases\", \"stringency_index\"]],\n",
        "                            entity_effects=False,\n",
        "                            time_effects=False,\n",
        "                            other_effects=df_covid_happiness['month'])"
      ],
      "metadata": {
        "id": "1I21FhoZxSU6"
      },
      "execution_count": null,
      "outputs": []
    },
    {
      "cell_type": "markdown",
      "source": [
        "Running the regression."
      ],
      "metadata": {
        "id": "nQuBPKQ2SUf0"
      }
    },
    {
      "cell_type": "code",
      "source": [
        "regression_results_summary = regression_model.fit(cov_type='clustered', cluster_entity=True).summary"
      ],
      "metadata": {
        "id": "_O1EGvq8SVz1"
      },
      "execution_count": null,
      "outputs": []
    },
    {
      "cell_type": "markdown",
      "source": [
        "Creating a regression table with the results."
      ],
      "metadata": {
        "id": "5Y3O-SHaSWKr"
      }
    },
    {
      "cell_type": "code",
      "source": [
        "pd.options.display.latex.repr = True\n",
        "print(regression_results_summary)\n",
        "print(regression_results_summary.as_latex())"
      ],
      "metadata": {
        "id": "xKiQ_DjfSZE2"
      },
      "execution_count": null,
      "outputs": []
    },
    {
      "cell_type": "markdown",
      "source": [
        "Storing and downloading the regression table in ``LaTeX`` format."
      ],
      "metadata": {
        "id": "eZxVWkwjSalu"
      }
    },
    {
      "cell_type": "code",
      "source": [
        "regression_table = open(\"regression_table.tex\", \"w\")\n",
        "regression_table = print(regression_results_summary.as_latex(), file=regression_table)\n",
        "files.download(\"regression_table.tex\")"
      ],
      "metadata": {
        "id": "ZwkHoFHxxk5K"
      },
      "execution_count": null,
      "outputs": []
    },
    {
      "cell_type": "markdown",
      "source": [
        "## Further Exercises\n",
        "1. One option is to expand this analysis to different countries. Here, it is important to realise that comparing the coefficients of different countries is not justified. Namely, different countries may confirm cases in different ways. Looking at proportional increases in the number of cases will remove this problem, but will disregard the base level of new cases in the country which of course influences the magnitude of the effect on the average sentiment for a given proportional increase in the number of cases.\n",
        "2. Data visualisation: plot the comovement of the variables of interest over time or something else you are interested in seeing that can give a new insight into the problem.\n",
        "3. There may be other confounders present in the regression that I can't think of right now. If you can think of any, download the data for these, clean that data and create a new variable to run the regression with again.\n",
        "4. Scrape tweets from random time intervals to reduce bias induced by Twitter's feed selection methods. Documentation available for some of the keywords necessary in the Twitter search query to do this can be found [here](https://github.com/igorbrigadir/twitter-advanced-search).\n",
        "5. Filtering out spam tweets. You can approach this Natural Language Processing (NLP) problem in various ways, from as advanced as using AI classification methods as looking for duplicated tweets in your list of scraped tweets. You can always combine methods like these, of course.\n",
        "6. Improving the tweet cleaning function.\n",
        "7. Running the regression with different model specifications of how the confounder affects the outcome variable and the dependent variable. Namely, it may be the case that the start of heavy restrictions is not so bad yet, but that people get tired of it the longer these heavy restrictions are in place. You would need to transform the restriction variable to carry out the regression with this different definition of the control variable."
      ],
      "metadata": {
        "id": "HIx-MyVcN7Vh"
      }
    },
    {
      "cell_type": "markdown",
      "source": [
        "\n",
        "## References\n",
        "* Edouard Mathieu, Hannah Ritchie, Lucas Rodés-Guirao, Cameron Appel, Charlie Giattino, Joe Hasell, Bobbie Macdonald, Saloni Dattani, Diana Beltekian, Esteban Ortiz-Ospina and Max Roser (2020) - \"Coronavirus Pandemic (COVID-19)\". Published online at OurWorldInData.org. Retrieved from: 'https://ourworldindata.org/coronavirus' [Online Resource].\n",
        "* Ensheng Dong, Hongru Du, Lauren Gardner, An interactive web-based dashboard to track COVID-19 in real time, The Lancet Infectious Diseases, Volume 20, Issue 5, 2020, Pages 533-534, ISSN 1473-3099, https://doi.org/10.1016/S1473-3099(20)30120-1. (https://www.sciencedirect.com/science/article/pii/S1473309920301201).\n",
        "* JustAnotherArchivist, snscrape, (2023), GitHub repository, https://github.com/JustAnotherArchivist/snscrape.\n",
        "* igorbrigadir, Twitter Advanced Search, (2023), GitHub repository, https://github.com/igorbrigadir/twitter-advanced-search.\n",
        "* Wide and Narrow Data, Wikipedia, (12 Feb 2023), https://en.wikipedia.org/wiki/Wide_and_narrow_data.\n",
        "* Advanced Filtering for Geo Data, (2023), https://developer.twitter.com/en/docs/tutorials/advanced-filtering-for-geo-data.\n",
        "* Get Places Near a Location, (2023), https://developer.twitter.com/en/docs/twitter-api/v1/geo/places-near-location/api-reference/get-geo-reverse_geocode.\n",
        "\n"
      ],
      "metadata": {
        "id": "GTQjBctvVLWv"
      }
    }
  ]
}
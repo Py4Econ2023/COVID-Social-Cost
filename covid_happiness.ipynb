{
  "nbformat": 4,
  "nbformat_minor": 0,
  "metadata": {
    "colab": {
      "provenance": []
    },
    "kernelspec": {
      "name": "python3",
      "display_name": "Python 3"
    },
    "language_info": {
      "name": "python"
    },
    "widgets": {
      "application/vnd.jupyter.widget-state+json": {
        "415a933611a545a387e9fa8f9b475e19": {
          "model_module": "@jupyter-widgets/controls",
          "model_name": "HBoxModel",
          "model_module_version": "1.5.0",
          "state": {
            "_dom_classes": [],
            "_model_module": "@jupyter-widgets/controls",
            "_model_module_version": "1.5.0",
            "_model_name": "HBoxModel",
            "_view_count": null,
            "_view_module": "@jupyter-widgets/controls",
            "_view_module_version": "1.5.0",
            "_view_name": "HBoxView",
            "box_style": "",
            "children": [
              "IPY_MODEL_d4948854e13540b3ae55b8ebb78cf46b",
              "IPY_MODEL_83900caf6beb4f8ebfbe0f20da33b2db",
              "IPY_MODEL_c49f19e283734fae8f3e68d609576a9e"
            ],
            "layout": "IPY_MODEL_d6a41c0b4117499e9faa925878ad98c7"
          }
        },
        "d4948854e13540b3ae55b8ebb78cf46b": {
          "model_module": "@jupyter-widgets/controls",
          "model_name": "HTMLModel",
          "model_module_version": "1.5.0",
          "state": {
            "_dom_classes": [],
            "_model_module": "@jupyter-widgets/controls",
            "_model_module_version": "1.5.0",
            "_model_name": "HTMLModel",
            "_view_count": null,
            "_view_module": "@jupyter-widgets/controls",
            "_view_module_version": "1.5.0",
            "_view_name": "HTMLView",
            "description": "",
            "description_tooltip": null,
            "layout": "IPY_MODEL_2d502a7360634141943b2129dadc7bd6",
            "placeholder": "​",
            "style": "IPY_MODEL_a88b9e8cbce14e23b7d2ce236a5ca44d",
            "value": "Downloading (…)lve/main/config.json: 100%"
          }
        },
        "83900caf6beb4f8ebfbe0f20da33b2db": {
          "model_module": "@jupyter-widgets/controls",
          "model_name": "FloatProgressModel",
          "model_module_version": "1.5.0",
          "state": {
            "_dom_classes": [],
            "_model_module": "@jupyter-widgets/controls",
            "_model_module_version": "1.5.0",
            "_model_name": "FloatProgressModel",
            "_view_count": null,
            "_view_module": "@jupyter-widgets/controls",
            "_view_module_version": "1.5.0",
            "_view_name": "ProgressView",
            "bar_style": "success",
            "description": "",
            "description_tooltip": null,
            "layout": "IPY_MODEL_4fbd12038ce24feab052c83a1ab66c15",
            "max": 747,
            "min": 0,
            "orientation": "horizontal",
            "style": "IPY_MODEL_dfaad856e29c44829fd68588673fa4e8",
            "value": 747
          }
        },
        "c49f19e283734fae8f3e68d609576a9e": {
          "model_module": "@jupyter-widgets/controls",
          "model_name": "HTMLModel",
          "model_module_version": "1.5.0",
          "state": {
            "_dom_classes": [],
            "_model_module": "@jupyter-widgets/controls",
            "_model_module_version": "1.5.0",
            "_model_name": "HTMLModel",
            "_view_count": null,
            "_view_module": "@jupyter-widgets/controls",
            "_view_module_version": "1.5.0",
            "_view_name": "HTMLView",
            "description": "",
            "description_tooltip": null,
            "layout": "IPY_MODEL_1550a874c786489f8353086a3ceb8fc3",
            "placeholder": "​",
            "style": "IPY_MODEL_1156bf25c3f04bd786ec742993ad5a10",
            "value": " 747/747 [00:00&lt;00:00, 20.2kB/s]"
          }
        },
        "d6a41c0b4117499e9faa925878ad98c7": {
          "model_module": "@jupyter-widgets/base",
          "model_name": "LayoutModel",
          "model_module_version": "1.2.0",
          "state": {
            "_model_module": "@jupyter-widgets/base",
            "_model_module_version": "1.2.0",
            "_model_name": "LayoutModel",
            "_view_count": null,
            "_view_module": "@jupyter-widgets/base",
            "_view_module_version": "1.2.0",
            "_view_name": "LayoutView",
            "align_content": null,
            "align_items": null,
            "align_self": null,
            "border": null,
            "bottom": null,
            "display": null,
            "flex": null,
            "flex_flow": null,
            "grid_area": null,
            "grid_auto_columns": null,
            "grid_auto_flow": null,
            "grid_auto_rows": null,
            "grid_column": null,
            "grid_gap": null,
            "grid_row": null,
            "grid_template_areas": null,
            "grid_template_columns": null,
            "grid_template_rows": null,
            "height": null,
            "justify_content": null,
            "justify_items": null,
            "left": null,
            "margin": null,
            "max_height": null,
            "max_width": null,
            "min_height": null,
            "min_width": null,
            "object_fit": null,
            "object_position": null,
            "order": null,
            "overflow": null,
            "overflow_x": null,
            "overflow_y": null,
            "padding": null,
            "right": null,
            "top": null,
            "visibility": null,
            "width": null
          }
        },
        "2d502a7360634141943b2129dadc7bd6": {
          "model_module": "@jupyter-widgets/base",
          "model_name": "LayoutModel",
          "model_module_version": "1.2.0",
          "state": {
            "_model_module": "@jupyter-widgets/base",
            "_model_module_version": "1.2.0",
            "_model_name": "LayoutModel",
            "_view_count": null,
            "_view_module": "@jupyter-widgets/base",
            "_view_module_version": "1.2.0",
            "_view_name": "LayoutView",
            "align_content": null,
            "align_items": null,
            "align_self": null,
            "border": null,
            "bottom": null,
            "display": null,
            "flex": null,
            "flex_flow": null,
            "grid_area": null,
            "grid_auto_columns": null,
            "grid_auto_flow": null,
            "grid_auto_rows": null,
            "grid_column": null,
            "grid_gap": null,
            "grid_row": null,
            "grid_template_areas": null,
            "grid_template_columns": null,
            "grid_template_rows": null,
            "height": null,
            "justify_content": null,
            "justify_items": null,
            "left": null,
            "margin": null,
            "max_height": null,
            "max_width": null,
            "min_height": null,
            "min_width": null,
            "object_fit": null,
            "object_position": null,
            "order": null,
            "overflow": null,
            "overflow_x": null,
            "overflow_y": null,
            "padding": null,
            "right": null,
            "top": null,
            "visibility": null,
            "width": null
          }
        },
        "a88b9e8cbce14e23b7d2ce236a5ca44d": {
          "model_module": "@jupyter-widgets/controls",
          "model_name": "DescriptionStyleModel",
          "model_module_version": "1.5.0",
          "state": {
            "_model_module": "@jupyter-widgets/controls",
            "_model_module_version": "1.5.0",
            "_model_name": "DescriptionStyleModel",
            "_view_count": null,
            "_view_module": "@jupyter-widgets/base",
            "_view_module_version": "1.2.0",
            "_view_name": "StyleView",
            "description_width": ""
          }
        },
        "4fbd12038ce24feab052c83a1ab66c15": {
          "model_module": "@jupyter-widgets/base",
          "model_name": "LayoutModel",
          "model_module_version": "1.2.0",
          "state": {
            "_model_module": "@jupyter-widgets/base",
            "_model_module_version": "1.2.0",
            "_model_name": "LayoutModel",
            "_view_count": null,
            "_view_module": "@jupyter-widgets/base",
            "_view_module_version": "1.2.0",
            "_view_name": "LayoutView",
            "align_content": null,
            "align_items": null,
            "align_self": null,
            "border": null,
            "bottom": null,
            "display": null,
            "flex": null,
            "flex_flow": null,
            "grid_area": null,
            "grid_auto_columns": null,
            "grid_auto_flow": null,
            "grid_auto_rows": null,
            "grid_column": null,
            "grid_gap": null,
            "grid_row": null,
            "grid_template_areas": null,
            "grid_template_columns": null,
            "grid_template_rows": null,
            "height": null,
            "justify_content": null,
            "justify_items": null,
            "left": null,
            "margin": null,
            "max_height": null,
            "max_width": null,
            "min_height": null,
            "min_width": null,
            "object_fit": null,
            "object_position": null,
            "order": null,
            "overflow": null,
            "overflow_x": null,
            "overflow_y": null,
            "padding": null,
            "right": null,
            "top": null,
            "visibility": null,
            "width": null
          }
        },
        "dfaad856e29c44829fd68588673fa4e8": {
          "model_module": "@jupyter-widgets/controls",
          "model_name": "ProgressStyleModel",
          "model_module_version": "1.5.0",
          "state": {
            "_model_module": "@jupyter-widgets/controls",
            "_model_module_version": "1.5.0",
            "_model_name": "ProgressStyleModel",
            "_view_count": null,
            "_view_module": "@jupyter-widgets/base",
            "_view_module_version": "1.2.0",
            "_view_name": "StyleView",
            "bar_color": null,
            "description_width": ""
          }
        },
        "1550a874c786489f8353086a3ceb8fc3": {
          "model_module": "@jupyter-widgets/base",
          "model_name": "LayoutModel",
          "model_module_version": "1.2.0",
          "state": {
            "_model_module": "@jupyter-widgets/base",
            "_model_module_version": "1.2.0",
            "_model_name": "LayoutModel",
            "_view_count": null,
            "_view_module": "@jupyter-widgets/base",
            "_view_module_version": "1.2.0",
            "_view_name": "LayoutView",
            "align_content": null,
            "align_items": null,
            "align_self": null,
            "border": null,
            "bottom": null,
            "display": null,
            "flex": null,
            "flex_flow": null,
            "grid_area": null,
            "grid_auto_columns": null,
            "grid_auto_flow": null,
            "grid_auto_rows": null,
            "grid_column": null,
            "grid_gap": null,
            "grid_row": null,
            "grid_template_areas": null,
            "grid_template_columns": null,
            "grid_template_rows": null,
            "height": null,
            "justify_content": null,
            "justify_items": null,
            "left": null,
            "margin": null,
            "max_height": null,
            "max_width": null,
            "min_height": null,
            "min_width": null,
            "object_fit": null,
            "object_position": null,
            "order": null,
            "overflow": null,
            "overflow_x": null,
            "overflow_y": null,
            "padding": null,
            "right": null,
            "top": null,
            "visibility": null,
            "width": null
          }
        },
        "1156bf25c3f04bd786ec742993ad5a10": {
          "model_module": "@jupyter-widgets/controls",
          "model_name": "DescriptionStyleModel",
          "model_module_version": "1.5.0",
          "state": {
            "_model_module": "@jupyter-widgets/controls",
            "_model_module_version": "1.5.0",
            "_model_name": "DescriptionStyleModel",
            "_view_count": null,
            "_view_module": "@jupyter-widgets/base",
            "_view_module_version": "1.2.0",
            "_view_name": "StyleView",
            "description_width": ""
          }
        },
        "0b806610b29946c9b3a9dcf1ae96563a": {
          "model_module": "@jupyter-widgets/controls",
          "model_name": "HBoxModel",
          "model_module_version": "1.5.0",
          "state": {
            "_dom_classes": [],
            "_model_module": "@jupyter-widgets/controls",
            "_model_module_version": "1.5.0",
            "_model_name": "HBoxModel",
            "_view_count": null,
            "_view_module": "@jupyter-widgets/controls",
            "_view_module_version": "1.5.0",
            "_view_name": "HBoxView",
            "box_style": "",
            "children": [
              "IPY_MODEL_16cc8abc0f2d4eba998843855a0d7b42",
              "IPY_MODEL_56c7d0a4418747348e3f3df4cad1b358",
              "IPY_MODEL_a36cbe96a5644e97b847847817fe707b"
            ],
            "layout": "IPY_MODEL_e5747b3f59344464af4a262a8d12bd30"
          }
        },
        "16cc8abc0f2d4eba998843855a0d7b42": {
          "model_module": "@jupyter-widgets/controls",
          "model_name": "HTMLModel",
          "model_module_version": "1.5.0",
          "state": {
            "_dom_classes": [],
            "_model_module": "@jupyter-widgets/controls",
            "_model_module_version": "1.5.0",
            "_model_name": "HTMLModel",
            "_view_count": null,
            "_view_module": "@jupyter-widgets/controls",
            "_view_module_version": "1.5.0",
            "_view_name": "HTMLView",
            "description": "",
            "description_tooltip": null,
            "layout": "IPY_MODEL_a5fe54ad4fdb4d2f8f79c4cc4d131420",
            "placeholder": "​",
            "style": "IPY_MODEL_3d6c68400b3945b698896840ed6baaaf",
            "value": "Downloading (…)&quot;pytorch_model.bin&quot;;: 100%"
          }
        },
        "56c7d0a4418747348e3f3df4cad1b358": {
          "model_module": "@jupyter-widgets/controls",
          "model_name": "FloatProgressModel",
          "model_module_version": "1.5.0",
          "state": {
            "_dom_classes": [],
            "_model_module": "@jupyter-widgets/controls",
            "_model_module_version": "1.5.0",
            "_model_name": "FloatProgressModel",
            "_view_count": null,
            "_view_module": "@jupyter-widgets/controls",
            "_view_module_version": "1.5.0",
            "_view_name": "ProgressView",
            "bar_style": "success",
            "description": "",
            "description_tooltip": null,
            "layout": "IPY_MODEL_f4fd213ce5fe4e96955a97b6330b3ab5",
            "max": 498679497,
            "min": 0,
            "orientation": "horizontal",
            "style": "IPY_MODEL_5096511ed5dd42b58e40f6af47b40bf0",
            "value": 498679497
          }
        },
        "a36cbe96a5644e97b847847817fe707b": {
          "model_module": "@jupyter-widgets/controls",
          "model_name": "HTMLModel",
          "model_module_version": "1.5.0",
          "state": {
            "_dom_classes": [],
            "_model_module": "@jupyter-widgets/controls",
            "_model_module_version": "1.5.0",
            "_model_name": "HTMLModel",
            "_view_count": null,
            "_view_module": "@jupyter-widgets/controls",
            "_view_module_version": "1.5.0",
            "_view_name": "HTMLView",
            "description": "",
            "description_tooltip": null,
            "layout": "IPY_MODEL_6df4f04f3ad244e8bd688730a7b219bc",
            "placeholder": "​",
            "style": "IPY_MODEL_e99d05be81cb477daeb129ec6bf96bca",
            "value": " 499M/499M [00:02&lt;00:00, 202MB/s]"
          }
        },
        "e5747b3f59344464af4a262a8d12bd30": {
          "model_module": "@jupyter-widgets/base",
          "model_name": "LayoutModel",
          "model_module_version": "1.2.0",
          "state": {
            "_model_module": "@jupyter-widgets/base",
            "_model_module_version": "1.2.0",
            "_model_name": "LayoutModel",
            "_view_count": null,
            "_view_module": "@jupyter-widgets/base",
            "_view_module_version": "1.2.0",
            "_view_name": "LayoutView",
            "align_content": null,
            "align_items": null,
            "align_self": null,
            "border": null,
            "bottom": null,
            "display": null,
            "flex": null,
            "flex_flow": null,
            "grid_area": null,
            "grid_auto_columns": null,
            "grid_auto_flow": null,
            "grid_auto_rows": null,
            "grid_column": null,
            "grid_gap": null,
            "grid_row": null,
            "grid_template_areas": null,
            "grid_template_columns": null,
            "grid_template_rows": null,
            "height": null,
            "justify_content": null,
            "justify_items": null,
            "left": null,
            "margin": null,
            "max_height": null,
            "max_width": null,
            "min_height": null,
            "min_width": null,
            "object_fit": null,
            "object_position": null,
            "order": null,
            "overflow": null,
            "overflow_x": null,
            "overflow_y": null,
            "padding": null,
            "right": null,
            "top": null,
            "visibility": null,
            "width": null
          }
        },
        "a5fe54ad4fdb4d2f8f79c4cc4d131420": {
          "model_module": "@jupyter-widgets/base",
          "model_name": "LayoutModel",
          "model_module_version": "1.2.0",
          "state": {
            "_model_module": "@jupyter-widgets/base",
            "_model_module_version": "1.2.0",
            "_model_name": "LayoutModel",
            "_view_count": null,
            "_view_module": "@jupyter-widgets/base",
            "_view_module_version": "1.2.0",
            "_view_name": "LayoutView",
            "align_content": null,
            "align_items": null,
            "align_self": null,
            "border": null,
            "bottom": null,
            "display": null,
            "flex": null,
            "flex_flow": null,
            "grid_area": null,
            "grid_auto_columns": null,
            "grid_auto_flow": null,
            "grid_auto_rows": null,
            "grid_column": null,
            "grid_gap": null,
            "grid_row": null,
            "grid_template_areas": null,
            "grid_template_columns": null,
            "grid_template_rows": null,
            "height": null,
            "justify_content": null,
            "justify_items": null,
            "left": null,
            "margin": null,
            "max_height": null,
            "max_width": null,
            "min_height": null,
            "min_width": null,
            "object_fit": null,
            "object_position": null,
            "order": null,
            "overflow": null,
            "overflow_x": null,
            "overflow_y": null,
            "padding": null,
            "right": null,
            "top": null,
            "visibility": null,
            "width": null
          }
        },
        "3d6c68400b3945b698896840ed6baaaf": {
          "model_module": "@jupyter-widgets/controls",
          "model_name": "DescriptionStyleModel",
          "model_module_version": "1.5.0",
          "state": {
            "_model_module": "@jupyter-widgets/controls",
            "_model_module_version": "1.5.0",
            "_model_name": "DescriptionStyleModel",
            "_view_count": null,
            "_view_module": "@jupyter-widgets/base",
            "_view_module_version": "1.2.0",
            "_view_name": "StyleView",
            "description_width": ""
          }
        },
        "f4fd213ce5fe4e96955a97b6330b3ab5": {
          "model_module": "@jupyter-widgets/base",
          "model_name": "LayoutModel",
          "model_module_version": "1.2.0",
          "state": {
            "_model_module": "@jupyter-widgets/base",
            "_model_module_version": "1.2.0",
            "_model_name": "LayoutModel",
            "_view_count": null,
            "_view_module": "@jupyter-widgets/base",
            "_view_module_version": "1.2.0",
            "_view_name": "LayoutView",
            "align_content": null,
            "align_items": null,
            "align_self": null,
            "border": null,
            "bottom": null,
            "display": null,
            "flex": null,
            "flex_flow": null,
            "grid_area": null,
            "grid_auto_columns": null,
            "grid_auto_flow": null,
            "grid_auto_rows": null,
            "grid_column": null,
            "grid_gap": null,
            "grid_row": null,
            "grid_template_areas": null,
            "grid_template_columns": null,
            "grid_template_rows": null,
            "height": null,
            "justify_content": null,
            "justify_items": null,
            "left": null,
            "margin": null,
            "max_height": null,
            "max_width": null,
            "min_height": null,
            "min_width": null,
            "object_fit": null,
            "object_position": null,
            "order": null,
            "overflow": null,
            "overflow_x": null,
            "overflow_y": null,
            "padding": null,
            "right": null,
            "top": null,
            "visibility": null,
            "width": null
          }
        },
        "5096511ed5dd42b58e40f6af47b40bf0": {
          "model_module": "@jupyter-widgets/controls",
          "model_name": "ProgressStyleModel",
          "model_module_version": "1.5.0",
          "state": {
            "_model_module": "@jupyter-widgets/controls",
            "_model_module_version": "1.5.0",
            "_model_name": "ProgressStyleModel",
            "_view_count": null,
            "_view_module": "@jupyter-widgets/base",
            "_view_module_version": "1.2.0",
            "_view_name": "StyleView",
            "bar_color": null,
            "description_width": ""
          }
        },
        "6df4f04f3ad244e8bd688730a7b219bc": {
          "model_module": "@jupyter-widgets/base",
          "model_name": "LayoutModel",
          "model_module_version": "1.2.0",
          "state": {
            "_model_module": "@jupyter-widgets/base",
            "_model_module_version": "1.2.0",
            "_model_name": "LayoutModel",
            "_view_count": null,
            "_view_module": "@jupyter-widgets/base",
            "_view_module_version": "1.2.0",
            "_view_name": "LayoutView",
            "align_content": null,
            "align_items": null,
            "align_self": null,
            "border": null,
            "bottom": null,
            "display": null,
            "flex": null,
            "flex_flow": null,
            "grid_area": null,
            "grid_auto_columns": null,
            "grid_auto_flow": null,
            "grid_auto_rows": null,
            "grid_column": null,
            "grid_gap": null,
            "grid_row": null,
            "grid_template_areas": null,
            "grid_template_columns": null,
            "grid_template_rows": null,
            "height": null,
            "justify_content": null,
            "justify_items": null,
            "left": null,
            "margin": null,
            "max_height": null,
            "max_width": null,
            "min_height": null,
            "min_width": null,
            "object_fit": null,
            "object_position": null,
            "order": null,
            "overflow": null,
            "overflow_x": null,
            "overflow_y": null,
            "padding": null,
            "right": null,
            "top": null,
            "visibility": null,
            "width": null
          }
        },
        "e99d05be81cb477daeb129ec6bf96bca": {
          "model_module": "@jupyter-widgets/controls",
          "model_name": "DescriptionStyleModel",
          "model_module_version": "1.5.0",
          "state": {
            "_model_module": "@jupyter-widgets/controls",
            "_model_module_version": "1.5.0",
            "_model_name": "DescriptionStyleModel",
            "_view_count": null,
            "_view_module": "@jupyter-widgets/base",
            "_view_module_version": "1.2.0",
            "_view_name": "StyleView",
            "description_width": ""
          }
        },
        "3eeb16870524451cb62de43b4d0ded80": {
          "model_module": "@jupyter-widgets/controls",
          "model_name": "HBoxModel",
          "model_module_version": "1.5.0",
          "state": {
            "_dom_classes": [],
            "_model_module": "@jupyter-widgets/controls",
            "_model_module_version": "1.5.0",
            "_model_name": "HBoxModel",
            "_view_count": null,
            "_view_module": "@jupyter-widgets/controls",
            "_view_module_version": "1.5.0",
            "_view_name": "HBoxView",
            "box_style": "",
            "children": [
              "IPY_MODEL_ec05ae51b13740e2839fe2ed3ee94c53",
              "IPY_MODEL_cbfa4d137b414bd481b78e0c02536241",
              "IPY_MODEL_15f5c17ba7254415a27c74086d147121"
            ],
            "layout": "IPY_MODEL_880b81611e8549eaaedc28274620d89d"
          }
        },
        "ec05ae51b13740e2839fe2ed3ee94c53": {
          "model_module": "@jupyter-widgets/controls",
          "model_name": "HTMLModel",
          "model_module_version": "1.5.0",
          "state": {
            "_dom_classes": [],
            "_model_module": "@jupyter-widgets/controls",
            "_model_module_version": "1.5.0",
            "_model_name": "HTMLModel",
            "_view_count": null,
            "_view_module": "@jupyter-widgets/controls",
            "_view_module_version": "1.5.0",
            "_view_name": "HTMLView",
            "description": "",
            "description_tooltip": null,
            "layout": "IPY_MODEL_c9958e340d654bcba0e11c5bf47c0b52",
            "placeholder": "​",
            "style": "IPY_MODEL_a36a232e3a1c4dd1929e5957f78c0988",
            "value": "Downloading (…)olve/main/vocab.json: 100%"
          }
        },
        "cbfa4d137b414bd481b78e0c02536241": {
          "model_module": "@jupyter-widgets/controls",
          "model_name": "FloatProgressModel",
          "model_module_version": "1.5.0",
          "state": {
            "_dom_classes": [],
            "_model_module": "@jupyter-widgets/controls",
            "_model_module_version": "1.5.0",
            "_model_name": "FloatProgressModel",
            "_view_count": null,
            "_view_module": "@jupyter-widgets/controls",
            "_view_module_version": "1.5.0",
            "_view_name": "ProgressView",
            "bar_style": "success",
            "description": "",
            "description_tooltip": null,
            "layout": "IPY_MODEL_4ab33c3e4a424449b0fe0c7edc058cdb",
            "max": 898822,
            "min": 0,
            "orientation": "horizontal",
            "style": "IPY_MODEL_8934a215283e4254ad9f06f43ed9bee0",
            "value": 898822
          }
        },
        "15f5c17ba7254415a27c74086d147121": {
          "model_module": "@jupyter-widgets/controls",
          "model_name": "HTMLModel",
          "model_module_version": "1.5.0",
          "state": {
            "_dom_classes": [],
            "_model_module": "@jupyter-widgets/controls",
            "_model_module_version": "1.5.0",
            "_model_name": "HTMLModel",
            "_view_count": null,
            "_view_module": "@jupyter-widgets/controls",
            "_view_module_version": "1.5.0",
            "_view_name": "HTMLView",
            "description": "",
            "description_tooltip": null,
            "layout": "IPY_MODEL_d3b5fe61d30d4e7e84f41a0b43e5deef",
            "placeholder": "​",
            "style": "IPY_MODEL_85da0889969f4a74a2e3a711259e5a66",
            "value": " 899k/899k [00:00&lt;00:00, 2.89MB/s]"
          }
        },
        "880b81611e8549eaaedc28274620d89d": {
          "model_module": "@jupyter-widgets/base",
          "model_name": "LayoutModel",
          "model_module_version": "1.2.0",
          "state": {
            "_model_module": "@jupyter-widgets/base",
            "_model_module_version": "1.2.0",
            "_model_name": "LayoutModel",
            "_view_count": null,
            "_view_module": "@jupyter-widgets/base",
            "_view_module_version": "1.2.0",
            "_view_name": "LayoutView",
            "align_content": null,
            "align_items": null,
            "align_self": null,
            "border": null,
            "bottom": null,
            "display": null,
            "flex": null,
            "flex_flow": null,
            "grid_area": null,
            "grid_auto_columns": null,
            "grid_auto_flow": null,
            "grid_auto_rows": null,
            "grid_column": null,
            "grid_gap": null,
            "grid_row": null,
            "grid_template_areas": null,
            "grid_template_columns": null,
            "grid_template_rows": null,
            "height": null,
            "justify_content": null,
            "justify_items": null,
            "left": null,
            "margin": null,
            "max_height": null,
            "max_width": null,
            "min_height": null,
            "min_width": null,
            "object_fit": null,
            "object_position": null,
            "order": null,
            "overflow": null,
            "overflow_x": null,
            "overflow_y": null,
            "padding": null,
            "right": null,
            "top": null,
            "visibility": null,
            "width": null
          }
        },
        "c9958e340d654bcba0e11c5bf47c0b52": {
          "model_module": "@jupyter-widgets/base",
          "model_name": "LayoutModel",
          "model_module_version": "1.2.0",
          "state": {
            "_model_module": "@jupyter-widgets/base",
            "_model_module_version": "1.2.0",
            "_model_name": "LayoutModel",
            "_view_count": null,
            "_view_module": "@jupyter-widgets/base",
            "_view_module_version": "1.2.0",
            "_view_name": "LayoutView",
            "align_content": null,
            "align_items": null,
            "align_self": null,
            "border": null,
            "bottom": null,
            "display": null,
            "flex": null,
            "flex_flow": null,
            "grid_area": null,
            "grid_auto_columns": null,
            "grid_auto_flow": null,
            "grid_auto_rows": null,
            "grid_column": null,
            "grid_gap": null,
            "grid_row": null,
            "grid_template_areas": null,
            "grid_template_columns": null,
            "grid_template_rows": null,
            "height": null,
            "justify_content": null,
            "justify_items": null,
            "left": null,
            "margin": null,
            "max_height": null,
            "max_width": null,
            "min_height": null,
            "min_width": null,
            "object_fit": null,
            "object_position": null,
            "order": null,
            "overflow": null,
            "overflow_x": null,
            "overflow_y": null,
            "padding": null,
            "right": null,
            "top": null,
            "visibility": null,
            "width": null
          }
        },
        "a36a232e3a1c4dd1929e5957f78c0988": {
          "model_module": "@jupyter-widgets/controls",
          "model_name": "DescriptionStyleModel",
          "model_module_version": "1.5.0",
          "state": {
            "_model_module": "@jupyter-widgets/controls",
            "_model_module_version": "1.5.0",
            "_model_name": "DescriptionStyleModel",
            "_view_count": null,
            "_view_module": "@jupyter-widgets/base",
            "_view_module_version": "1.2.0",
            "_view_name": "StyleView",
            "description_width": ""
          }
        },
        "4ab33c3e4a424449b0fe0c7edc058cdb": {
          "model_module": "@jupyter-widgets/base",
          "model_name": "LayoutModel",
          "model_module_version": "1.2.0",
          "state": {
            "_model_module": "@jupyter-widgets/base",
            "_model_module_version": "1.2.0",
            "_model_name": "LayoutModel",
            "_view_count": null,
            "_view_module": "@jupyter-widgets/base",
            "_view_module_version": "1.2.0",
            "_view_name": "LayoutView",
            "align_content": null,
            "align_items": null,
            "align_self": null,
            "border": null,
            "bottom": null,
            "display": null,
            "flex": null,
            "flex_flow": null,
            "grid_area": null,
            "grid_auto_columns": null,
            "grid_auto_flow": null,
            "grid_auto_rows": null,
            "grid_column": null,
            "grid_gap": null,
            "grid_row": null,
            "grid_template_areas": null,
            "grid_template_columns": null,
            "grid_template_rows": null,
            "height": null,
            "justify_content": null,
            "justify_items": null,
            "left": null,
            "margin": null,
            "max_height": null,
            "max_width": null,
            "min_height": null,
            "min_width": null,
            "object_fit": null,
            "object_position": null,
            "order": null,
            "overflow": null,
            "overflow_x": null,
            "overflow_y": null,
            "padding": null,
            "right": null,
            "top": null,
            "visibility": null,
            "width": null
          }
        },
        "8934a215283e4254ad9f06f43ed9bee0": {
          "model_module": "@jupyter-widgets/controls",
          "model_name": "ProgressStyleModel",
          "model_module_version": "1.5.0",
          "state": {
            "_model_module": "@jupyter-widgets/controls",
            "_model_module_version": "1.5.0",
            "_model_name": "ProgressStyleModel",
            "_view_count": null,
            "_view_module": "@jupyter-widgets/base",
            "_view_module_version": "1.2.0",
            "_view_name": "StyleView",
            "bar_color": null,
            "description_width": ""
          }
        },
        "d3b5fe61d30d4e7e84f41a0b43e5deef": {
          "model_module": "@jupyter-widgets/base",
          "model_name": "LayoutModel",
          "model_module_version": "1.2.0",
          "state": {
            "_model_module": "@jupyter-widgets/base",
            "_model_module_version": "1.2.0",
            "_model_name": "LayoutModel",
            "_view_count": null,
            "_view_module": "@jupyter-widgets/base",
            "_view_module_version": "1.2.0",
            "_view_name": "LayoutView",
            "align_content": null,
            "align_items": null,
            "align_self": null,
            "border": null,
            "bottom": null,
            "display": null,
            "flex": null,
            "flex_flow": null,
            "grid_area": null,
            "grid_auto_columns": null,
            "grid_auto_flow": null,
            "grid_auto_rows": null,
            "grid_column": null,
            "grid_gap": null,
            "grid_row": null,
            "grid_template_areas": null,
            "grid_template_columns": null,
            "grid_template_rows": null,
            "height": null,
            "justify_content": null,
            "justify_items": null,
            "left": null,
            "margin": null,
            "max_height": null,
            "max_width": null,
            "min_height": null,
            "min_width": null,
            "object_fit": null,
            "object_position": null,
            "order": null,
            "overflow": null,
            "overflow_x": null,
            "overflow_y": null,
            "padding": null,
            "right": null,
            "top": null,
            "visibility": null,
            "width": null
          }
        },
        "85da0889969f4a74a2e3a711259e5a66": {
          "model_module": "@jupyter-widgets/controls",
          "model_name": "DescriptionStyleModel",
          "model_module_version": "1.5.0",
          "state": {
            "_model_module": "@jupyter-widgets/controls",
            "_model_module_version": "1.5.0",
            "_model_name": "DescriptionStyleModel",
            "_view_count": null,
            "_view_module": "@jupyter-widgets/base",
            "_view_module_version": "1.2.0",
            "_view_name": "StyleView",
            "description_width": ""
          }
        },
        "7065031f44184809a70ee0aa82dc9d3d": {
          "model_module": "@jupyter-widgets/controls",
          "model_name": "HBoxModel",
          "model_module_version": "1.5.0",
          "state": {
            "_dom_classes": [],
            "_model_module": "@jupyter-widgets/controls",
            "_model_module_version": "1.5.0",
            "_model_name": "HBoxModel",
            "_view_count": null,
            "_view_module": "@jupyter-widgets/controls",
            "_view_module_version": "1.5.0",
            "_view_name": "HBoxView",
            "box_style": "",
            "children": [
              "IPY_MODEL_5c61dcc18c42455084cfb4ff1f78af3d",
              "IPY_MODEL_554e3407e2744a7e96a088b84cf79b58",
              "IPY_MODEL_663e21184a6449dfadafdfb346370968"
            ],
            "layout": "IPY_MODEL_dbeb2096a34a49739fe5aef99b1b40b4"
          }
        },
        "5c61dcc18c42455084cfb4ff1f78af3d": {
          "model_module": "@jupyter-widgets/controls",
          "model_name": "HTMLModel",
          "model_module_version": "1.5.0",
          "state": {
            "_dom_classes": [],
            "_model_module": "@jupyter-widgets/controls",
            "_model_module_version": "1.5.0",
            "_model_name": "HTMLModel",
            "_view_count": null,
            "_view_module": "@jupyter-widgets/controls",
            "_view_module_version": "1.5.0",
            "_view_name": "HTMLView",
            "description": "",
            "description_tooltip": null,
            "layout": "IPY_MODEL_d5f856044ea14e94aaf05514cd81e4a1",
            "placeholder": "​",
            "style": "IPY_MODEL_60875185ea334fd4b85d236e5e5c77d4",
            "value": "Downloading (…)olve/main/merges.txt: 100%"
          }
        },
        "554e3407e2744a7e96a088b84cf79b58": {
          "model_module": "@jupyter-widgets/controls",
          "model_name": "FloatProgressModel",
          "model_module_version": "1.5.0",
          "state": {
            "_dom_classes": [],
            "_model_module": "@jupyter-widgets/controls",
            "_model_module_version": "1.5.0",
            "_model_name": "FloatProgressModel",
            "_view_count": null,
            "_view_module": "@jupyter-widgets/controls",
            "_view_module_version": "1.5.0",
            "_view_name": "ProgressView",
            "bar_style": "success",
            "description": "",
            "description_tooltip": null,
            "layout": "IPY_MODEL_671936a899cb439a8e6ae9c5454aace8",
            "max": 456318,
            "min": 0,
            "orientation": "horizontal",
            "style": "IPY_MODEL_ae83e55ec8e3410eb809928ab5da6b04",
            "value": 456318
          }
        },
        "663e21184a6449dfadafdfb346370968": {
          "model_module": "@jupyter-widgets/controls",
          "model_name": "HTMLModel",
          "model_module_version": "1.5.0",
          "state": {
            "_dom_classes": [],
            "_model_module": "@jupyter-widgets/controls",
            "_model_module_version": "1.5.0",
            "_model_name": "HTMLModel",
            "_view_count": null,
            "_view_module": "@jupyter-widgets/controls",
            "_view_module_version": "1.5.0",
            "_view_name": "HTMLView",
            "description": "",
            "description_tooltip": null,
            "layout": "IPY_MODEL_339ce9dd429543d7bdbe06188121beff",
            "placeholder": "​",
            "style": "IPY_MODEL_ced95e58098f491588b11e8d8dc8e238",
            "value": " 456k/456k [00:00&lt;00:00, 1.58MB/s]"
          }
        },
        "dbeb2096a34a49739fe5aef99b1b40b4": {
          "model_module": "@jupyter-widgets/base",
          "model_name": "LayoutModel",
          "model_module_version": "1.2.0",
          "state": {
            "_model_module": "@jupyter-widgets/base",
            "_model_module_version": "1.2.0",
            "_model_name": "LayoutModel",
            "_view_count": null,
            "_view_module": "@jupyter-widgets/base",
            "_view_module_version": "1.2.0",
            "_view_name": "LayoutView",
            "align_content": null,
            "align_items": null,
            "align_self": null,
            "border": null,
            "bottom": null,
            "display": null,
            "flex": null,
            "flex_flow": null,
            "grid_area": null,
            "grid_auto_columns": null,
            "grid_auto_flow": null,
            "grid_auto_rows": null,
            "grid_column": null,
            "grid_gap": null,
            "grid_row": null,
            "grid_template_areas": null,
            "grid_template_columns": null,
            "grid_template_rows": null,
            "height": null,
            "justify_content": null,
            "justify_items": null,
            "left": null,
            "margin": null,
            "max_height": null,
            "max_width": null,
            "min_height": null,
            "min_width": null,
            "object_fit": null,
            "object_position": null,
            "order": null,
            "overflow": null,
            "overflow_x": null,
            "overflow_y": null,
            "padding": null,
            "right": null,
            "top": null,
            "visibility": null,
            "width": null
          }
        },
        "d5f856044ea14e94aaf05514cd81e4a1": {
          "model_module": "@jupyter-widgets/base",
          "model_name": "LayoutModel",
          "model_module_version": "1.2.0",
          "state": {
            "_model_module": "@jupyter-widgets/base",
            "_model_module_version": "1.2.0",
            "_model_name": "LayoutModel",
            "_view_count": null,
            "_view_module": "@jupyter-widgets/base",
            "_view_module_version": "1.2.0",
            "_view_name": "LayoutView",
            "align_content": null,
            "align_items": null,
            "align_self": null,
            "border": null,
            "bottom": null,
            "display": null,
            "flex": null,
            "flex_flow": null,
            "grid_area": null,
            "grid_auto_columns": null,
            "grid_auto_flow": null,
            "grid_auto_rows": null,
            "grid_column": null,
            "grid_gap": null,
            "grid_row": null,
            "grid_template_areas": null,
            "grid_template_columns": null,
            "grid_template_rows": null,
            "height": null,
            "justify_content": null,
            "justify_items": null,
            "left": null,
            "margin": null,
            "max_height": null,
            "max_width": null,
            "min_height": null,
            "min_width": null,
            "object_fit": null,
            "object_position": null,
            "order": null,
            "overflow": null,
            "overflow_x": null,
            "overflow_y": null,
            "padding": null,
            "right": null,
            "top": null,
            "visibility": null,
            "width": null
          }
        },
        "60875185ea334fd4b85d236e5e5c77d4": {
          "model_module": "@jupyter-widgets/controls",
          "model_name": "DescriptionStyleModel",
          "model_module_version": "1.5.0",
          "state": {
            "_model_module": "@jupyter-widgets/controls",
            "_model_module_version": "1.5.0",
            "_model_name": "DescriptionStyleModel",
            "_view_count": null,
            "_view_module": "@jupyter-widgets/base",
            "_view_module_version": "1.2.0",
            "_view_name": "StyleView",
            "description_width": ""
          }
        },
        "671936a899cb439a8e6ae9c5454aace8": {
          "model_module": "@jupyter-widgets/base",
          "model_name": "LayoutModel",
          "model_module_version": "1.2.0",
          "state": {
            "_model_module": "@jupyter-widgets/base",
            "_model_module_version": "1.2.0",
            "_model_name": "LayoutModel",
            "_view_count": null,
            "_view_module": "@jupyter-widgets/base",
            "_view_module_version": "1.2.0",
            "_view_name": "LayoutView",
            "align_content": null,
            "align_items": null,
            "align_self": null,
            "border": null,
            "bottom": null,
            "display": null,
            "flex": null,
            "flex_flow": null,
            "grid_area": null,
            "grid_auto_columns": null,
            "grid_auto_flow": null,
            "grid_auto_rows": null,
            "grid_column": null,
            "grid_gap": null,
            "grid_row": null,
            "grid_template_areas": null,
            "grid_template_columns": null,
            "grid_template_rows": null,
            "height": null,
            "justify_content": null,
            "justify_items": null,
            "left": null,
            "margin": null,
            "max_height": null,
            "max_width": null,
            "min_height": null,
            "min_width": null,
            "object_fit": null,
            "object_position": null,
            "order": null,
            "overflow": null,
            "overflow_x": null,
            "overflow_y": null,
            "padding": null,
            "right": null,
            "top": null,
            "visibility": null,
            "width": null
          }
        },
        "ae83e55ec8e3410eb809928ab5da6b04": {
          "model_module": "@jupyter-widgets/controls",
          "model_name": "ProgressStyleModel",
          "model_module_version": "1.5.0",
          "state": {
            "_model_module": "@jupyter-widgets/controls",
            "_model_module_version": "1.5.0",
            "_model_name": "ProgressStyleModel",
            "_view_count": null,
            "_view_module": "@jupyter-widgets/base",
            "_view_module_version": "1.2.0",
            "_view_name": "StyleView",
            "bar_color": null,
            "description_width": ""
          }
        },
        "339ce9dd429543d7bdbe06188121beff": {
          "model_module": "@jupyter-widgets/base",
          "model_name": "LayoutModel",
          "model_module_version": "1.2.0",
          "state": {
            "_model_module": "@jupyter-widgets/base",
            "_model_module_version": "1.2.0",
            "_model_name": "LayoutModel",
            "_view_count": null,
            "_view_module": "@jupyter-widgets/base",
            "_view_module_version": "1.2.0",
            "_view_name": "LayoutView",
            "align_content": null,
            "align_items": null,
            "align_self": null,
            "border": null,
            "bottom": null,
            "display": null,
            "flex": null,
            "flex_flow": null,
            "grid_area": null,
            "grid_auto_columns": null,
            "grid_auto_flow": null,
            "grid_auto_rows": null,
            "grid_column": null,
            "grid_gap": null,
            "grid_row": null,
            "grid_template_areas": null,
            "grid_template_columns": null,
            "grid_template_rows": null,
            "height": null,
            "justify_content": null,
            "justify_items": null,
            "left": null,
            "margin": null,
            "max_height": null,
            "max_width": null,
            "min_height": null,
            "min_width": null,
            "object_fit": null,
            "object_position": null,
            "order": null,
            "overflow": null,
            "overflow_x": null,
            "overflow_y": null,
            "padding": null,
            "right": null,
            "top": null,
            "visibility": null,
            "width": null
          }
        },
        "ced95e58098f491588b11e8d8dc8e238": {
          "model_module": "@jupyter-widgets/controls",
          "model_name": "DescriptionStyleModel",
          "model_module_version": "1.5.0",
          "state": {
            "_model_module": "@jupyter-widgets/controls",
            "_model_module_version": "1.5.0",
            "_model_name": "DescriptionStyleModel",
            "_view_count": null,
            "_view_module": "@jupyter-widgets/base",
            "_view_module_version": "1.2.0",
            "_view_name": "StyleView",
            "description_width": ""
          }
        },
        "71e6ee8e9ece41488ac0dc8f2b86bf9d": {
          "model_module": "@jupyter-widgets/controls",
          "model_name": "HBoxModel",
          "model_module_version": "1.5.0",
          "state": {
            "_dom_classes": [],
            "_model_module": "@jupyter-widgets/controls",
            "_model_module_version": "1.5.0",
            "_model_name": "HBoxModel",
            "_view_count": null,
            "_view_module": "@jupyter-widgets/controls",
            "_view_module_version": "1.5.0",
            "_view_name": "HBoxView",
            "box_style": "",
            "children": [
              "IPY_MODEL_a4c717c4c3ad464c9d187907fb56951f",
              "IPY_MODEL_a06a1c7056484832819ab7e7d2ad3779",
              "IPY_MODEL_af63a630fd554bd1b43ca65f255f2d53"
            ],
            "layout": "IPY_MODEL_e45fe38b16764ac799dcaf714a8d433d"
          }
        },
        "a4c717c4c3ad464c9d187907fb56951f": {
          "model_module": "@jupyter-widgets/controls",
          "model_name": "HTMLModel",
          "model_module_version": "1.5.0",
          "state": {
            "_dom_classes": [],
            "_model_module": "@jupyter-widgets/controls",
            "_model_module_version": "1.5.0",
            "_model_name": "HTMLModel",
            "_view_count": null,
            "_view_module": "@jupyter-widgets/controls",
            "_view_module_version": "1.5.0",
            "_view_name": "HTMLView",
            "description": "",
            "description_tooltip": null,
            "layout": "IPY_MODEL_5f2b0968d78a4a96ab66b7e942772ca1",
            "placeholder": "​",
            "style": "IPY_MODEL_6e847f6d5a6f45bba952dadd7cf19f78",
            "value": "Downloading (…)cial_tokens_map.json: 100%"
          }
        },
        "a06a1c7056484832819ab7e7d2ad3779": {
          "model_module": "@jupyter-widgets/controls",
          "model_name": "FloatProgressModel",
          "model_module_version": "1.5.0",
          "state": {
            "_dom_classes": [],
            "_model_module": "@jupyter-widgets/controls",
            "_model_module_version": "1.5.0",
            "_model_name": "FloatProgressModel",
            "_view_count": null,
            "_view_module": "@jupyter-widgets/controls",
            "_view_module_version": "1.5.0",
            "_view_name": "ProgressView",
            "bar_style": "success",
            "description": "",
            "description_tooltip": null,
            "layout": "IPY_MODEL_5749fabaca6e4cca8842f3abdd062b1b",
            "max": 150,
            "min": 0,
            "orientation": "horizontal",
            "style": "IPY_MODEL_449b3752d5054b6ba9687dc36eb6968c",
            "value": 150
          }
        },
        "af63a630fd554bd1b43ca65f255f2d53": {
          "model_module": "@jupyter-widgets/controls",
          "model_name": "HTMLModel",
          "model_module_version": "1.5.0",
          "state": {
            "_dom_classes": [],
            "_model_module": "@jupyter-widgets/controls",
            "_model_module_version": "1.5.0",
            "_model_name": "HTMLModel",
            "_view_count": null,
            "_view_module": "@jupyter-widgets/controls",
            "_view_module_version": "1.5.0",
            "_view_name": "HTMLView",
            "description": "",
            "description_tooltip": null,
            "layout": "IPY_MODEL_28b31661b3a44d42ab60626c78df90da",
            "placeholder": "​",
            "style": "IPY_MODEL_d25fd69f7b32420c81ad19e9fb5ea1a7",
            "value": " 150/150 [00:00&lt;00:00, 4.20kB/s]"
          }
        },
        "e45fe38b16764ac799dcaf714a8d433d": {
          "model_module": "@jupyter-widgets/base",
          "model_name": "LayoutModel",
          "model_module_version": "1.2.0",
          "state": {
            "_model_module": "@jupyter-widgets/base",
            "_model_module_version": "1.2.0",
            "_model_name": "LayoutModel",
            "_view_count": null,
            "_view_module": "@jupyter-widgets/base",
            "_view_module_version": "1.2.0",
            "_view_name": "LayoutView",
            "align_content": null,
            "align_items": null,
            "align_self": null,
            "border": null,
            "bottom": null,
            "display": null,
            "flex": null,
            "flex_flow": null,
            "grid_area": null,
            "grid_auto_columns": null,
            "grid_auto_flow": null,
            "grid_auto_rows": null,
            "grid_column": null,
            "grid_gap": null,
            "grid_row": null,
            "grid_template_areas": null,
            "grid_template_columns": null,
            "grid_template_rows": null,
            "height": null,
            "justify_content": null,
            "justify_items": null,
            "left": null,
            "margin": null,
            "max_height": null,
            "max_width": null,
            "min_height": null,
            "min_width": null,
            "object_fit": null,
            "object_position": null,
            "order": null,
            "overflow": null,
            "overflow_x": null,
            "overflow_y": null,
            "padding": null,
            "right": null,
            "top": null,
            "visibility": null,
            "width": null
          }
        },
        "5f2b0968d78a4a96ab66b7e942772ca1": {
          "model_module": "@jupyter-widgets/base",
          "model_name": "LayoutModel",
          "model_module_version": "1.2.0",
          "state": {
            "_model_module": "@jupyter-widgets/base",
            "_model_module_version": "1.2.0",
            "_model_name": "LayoutModel",
            "_view_count": null,
            "_view_module": "@jupyter-widgets/base",
            "_view_module_version": "1.2.0",
            "_view_name": "LayoutView",
            "align_content": null,
            "align_items": null,
            "align_self": null,
            "border": null,
            "bottom": null,
            "display": null,
            "flex": null,
            "flex_flow": null,
            "grid_area": null,
            "grid_auto_columns": null,
            "grid_auto_flow": null,
            "grid_auto_rows": null,
            "grid_column": null,
            "grid_gap": null,
            "grid_row": null,
            "grid_template_areas": null,
            "grid_template_columns": null,
            "grid_template_rows": null,
            "height": null,
            "justify_content": null,
            "justify_items": null,
            "left": null,
            "margin": null,
            "max_height": null,
            "max_width": null,
            "min_height": null,
            "min_width": null,
            "object_fit": null,
            "object_position": null,
            "order": null,
            "overflow": null,
            "overflow_x": null,
            "overflow_y": null,
            "padding": null,
            "right": null,
            "top": null,
            "visibility": null,
            "width": null
          }
        },
        "6e847f6d5a6f45bba952dadd7cf19f78": {
          "model_module": "@jupyter-widgets/controls",
          "model_name": "DescriptionStyleModel",
          "model_module_version": "1.5.0",
          "state": {
            "_model_module": "@jupyter-widgets/controls",
            "_model_module_version": "1.5.0",
            "_model_name": "DescriptionStyleModel",
            "_view_count": null,
            "_view_module": "@jupyter-widgets/base",
            "_view_module_version": "1.2.0",
            "_view_name": "StyleView",
            "description_width": ""
          }
        },
        "5749fabaca6e4cca8842f3abdd062b1b": {
          "model_module": "@jupyter-widgets/base",
          "model_name": "LayoutModel",
          "model_module_version": "1.2.0",
          "state": {
            "_model_module": "@jupyter-widgets/base",
            "_model_module_version": "1.2.0",
            "_model_name": "LayoutModel",
            "_view_count": null,
            "_view_module": "@jupyter-widgets/base",
            "_view_module_version": "1.2.0",
            "_view_name": "LayoutView",
            "align_content": null,
            "align_items": null,
            "align_self": null,
            "border": null,
            "bottom": null,
            "display": null,
            "flex": null,
            "flex_flow": null,
            "grid_area": null,
            "grid_auto_columns": null,
            "grid_auto_flow": null,
            "grid_auto_rows": null,
            "grid_column": null,
            "grid_gap": null,
            "grid_row": null,
            "grid_template_areas": null,
            "grid_template_columns": null,
            "grid_template_rows": null,
            "height": null,
            "justify_content": null,
            "justify_items": null,
            "left": null,
            "margin": null,
            "max_height": null,
            "max_width": null,
            "min_height": null,
            "min_width": null,
            "object_fit": null,
            "object_position": null,
            "order": null,
            "overflow": null,
            "overflow_x": null,
            "overflow_y": null,
            "padding": null,
            "right": null,
            "top": null,
            "visibility": null,
            "width": null
          }
        },
        "449b3752d5054b6ba9687dc36eb6968c": {
          "model_module": "@jupyter-widgets/controls",
          "model_name": "ProgressStyleModel",
          "model_module_version": "1.5.0",
          "state": {
            "_model_module": "@jupyter-widgets/controls",
            "_model_module_version": "1.5.0",
            "_model_name": "ProgressStyleModel",
            "_view_count": null,
            "_view_module": "@jupyter-widgets/base",
            "_view_module_version": "1.2.0",
            "_view_name": "StyleView",
            "bar_color": null,
            "description_width": ""
          }
        },
        "28b31661b3a44d42ab60626c78df90da": {
          "model_module": "@jupyter-widgets/base",
          "model_name": "LayoutModel",
          "model_module_version": "1.2.0",
          "state": {
            "_model_module": "@jupyter-widgets/base",
            "_model_module_version": "1.2.0",
            "_model_name": "LayoutModel",
            "_view_count": null,
            "_view_module": "@jupyter-widgets/base",
            "_view_module_version": "1.2.0",
            "_view_name": "LayoutView",
            "align_content": null,
            "align_items": null,
            "align_self": null,
            "border": null,
            "bottom": null,
            "display": null,
            "flex": null,
            "flex_flow": null,
            "grid_area": null,
            "grid_auto_columns": null,
            "grid_auto_flow": null,
            "grid_auto_rows": null,
            "grid_column": null,
            "grid_gap": null,
            "grid_row": null,
            "grid_template_areas": null,
            "grid_template_columns": null,
            "grid_template_rows": null,
            "height": null,
            "justify_content": null,
            "justify_items": null,
            "left": null,
            "margin": null,
            "max_height": null,
            "max_width": null,
            "min_height": null,
            "min_width": null,
            "object_fit": null,
            "object_position": null,
            "order": null,
            "overflow": null,
            "overflow_x": null,
            "overflow_y": null,
            "padding": null,
            "right": null,
            "top": null,
            "visibility": null,
            "width": null
          }
        },
        "d25fd69f7b32420c81ad19e9fb5ea1a7": {
          "model_module": "@jupyter-widgets/controls",
          "model_name": "DescriptionStyleModel",
          "model_module_version": "1.5.0",
          "state": {
            "_model_module": "@jupyter-widgets/controls",
            "_model_module_version": "1.5.0",
            "_model_name": "DescriptionStyleModel",
            "_view_count": null,
            "_view_module": "@jupyter-widgets/base",
            "_view_module_version": "1.2.0",
            "_view_name": "StyleView",
            "description_width": ""
          }
        }
      }
    }
  },
  "cells": [
    {
      "cell_type": "markdown",
      "source": [
        "# COVID-19 Infections and Happiness\n",
        "This is the notebook for the Python for Economics Project at the London  School of Economics analysing the effect of COVID-19 infections on happiness.\n"
      ],
      "metadata": {
        "id": "M_2dLRCIIqv9"
      }
    },
    {
      "cell_type": "markdown",
      "source": [
        "## Introduction\n",
        "\n",
        "As policy-making during an epidemic is all about making economic tradeoffs, one would like to quantify the gains and losses in the factors a government is is trading off between. The trade-offs to monetary factors and other classical economic factors are well documented, of course. However, the social costs of viral cases less so (among other forms of social costs involved in a pandemic). One may make an attempt to quantify the social costs of the number of cases of such a virus in your country by looking at the causal effect of COVID-19 cases on the average sentiment of how people express themselves online."
      ],
      "metadata": {
        "id": "c3t9AWywlLa_"
      }
    },
    {
      "cell_type": "markdown",
      "source": [
        "## Overview Project\n",
        "In this project the main goal is to run a regression of the number of COVID-19 infections on the average sentiment of how people express themselves online. You will start by carrying out this analysis for the UK. A clear confounder here are government restrictions to curb the spread of the virus. You will control for this confounder in the regression alongside time-fixed effects that deal with the biases caused by new ways of measuring cases, changes in testing accuracy and availability, among other possible biases.\n",
        "</br></br>\n",
        "To be able to run this final regression, though, you will need to collect the data. This notebook will walk you through the steps associated with this and the final step of running the regression.\n"
      ],
      "metadata": {
        "id": "hpTdOHFalo5C"
      }
    },
    {
      "cell_type": "markdown",
      "source": [
        "## Table of Contents"
      ],
      "metadata": {
        "id": "loLc9eEEVSsP"
      }
    },
    {
      "cell_type": "markdown",
      "source": [
        ">[COVID-19 Infections and Happiness](#scrollTo=M_2dLRCIIqv9)\n",
        "\n",
        ">>[Introduction](#scrollTo=c3t9AWywlLa_)\n",
        "\n",
        ">>[Overview Project](#scrollTo=hpTdOHFalo5C)\n",
        "\n",
        ">>[Table of Contents](#scrollTo=loLc9eEEVSsP)\n",
        "\n",
        ">>[Preparation](#scrollTo=5kqfEAq9S8KC)\n",
        "\n",
        ">>[Data Collection](#scrollTo=Xviu1_5NnsrF)\n",
        "\n",
        ">>>[Loading Datasets](#scrollTo=3gOgjpQpKGoe)\n",
        "\n",
        ">>>[Cleaning Datasets](#scrollTo=Xzmo0WIbKtrk)\n",
        "\n",
        ">>>>[Preparation](#scrollTo=Xzmo0WIbKtrk)\n",
        "\n",
        ">>>>[Stringency](#scrollTo=KB_HFVFsdT5H)\n",
        "\n",
        ">>>>[Cases](#scrollTo=6zlemmyxk2JT)\n",
        "\n",
        ">>>[Merging Dataframes](#scrollTo=8UXSCwxHg1Gi)\n",
        "\n",
        ">>>[Average Sentiment](#scrollTo=C_Wv1iKpmdo6)\n",
        "\n",
        ">>>>[Scraping Tweets](#scrollTo=UVZi_0ONKq5p)\n",
        "\n",
        ">>>>[Classifying Tweets](#scrollTo=zOiuZ0v8NSKA)\n",
        "\n",
        ">>[Running Regressions](#scrollTo=1wSD_8JrKslV)\n",
        "\n",
        ">>[Further Exercises](#scrollTo=HIx-MyVcN7Vh)\n",
        "\n",
        ">>[References](#scrollTo=GTQjBctvVLWv)\n",
        "\n"
      ],
      "metadata": {
        "colab_type": "toc",
        "id": "nWLxb9_5S6Hk"
      }
    },
    {
      "cell_type": "markdown",
      "source": [
        "\n",
        "## Preparation\n",
        "First, you will need to install a few libraries for this project. To install a library, write ``!pip install`` in a code block followed by ``name-library`` and the optional ``--quiet`` keyword to suppress the logs. For example, installing the package ``pandas`` can be done by running ``!pip install pandas --quiet`` in a code block.\n",
        "\n",
        "(note: between countries the definitions and methods of confirming cases differs. maybe look at percentual change in infections but then not the absolute size of infections. maybe ONS positive rates)."
      ],
      "metadata": {
        "id": "5kqfEAq9S8KC"
      }
    },
    {
      "cell_type": "code",
      "source": [
        "# TODO - Install the following packages: pandas, datetime.\n",
        "!pip install pandas --quiet \n",
        "!pip install datetime --quiet"
      ],
      "metadata": {
        "id": "zM3N6_a9gPMX"
      },
      "execution_count": 5,
      "outputs": []
    },
    {
      "cell_type": "markdown",
      "source": [
        "Now, you have to import the packages you installed. Additionally, import the preinstalled package ``numpy`` as ``np``."
      ],
      "metadata": {
        "id": "bJkVLg9KJyNW"
      }
    },
    {
      "cell_type": "code",
      "source": [
        "# TODO - Import the installed packages.\n",
        "# One additional library necessary for CSV uploads is already given (no need to install this one, it is installed by default on Colabs).\n",
        "from google.colab import files\n",
        "import io\n",
        "import numpy as np \n",
        "import pandas as pd \n",
        "import datetime as dt \n",
        "\n"
      ],
      "metadata": {
        "id": "LnuPMkjlJ_5L"
      },
      "execution_count": 7,
      "outputs": []
    },
    {
      "cell_type": "markdown",
      "source": [
        "## Data Collection\n",
        "We can now start collecting our data."
      ],
      "metadata": {
        "id": "Xviu1_5NnsrF"
      }
    },
    {
      "cell_type": "markdown",
      "source": [
        "### Loading Datasets\n",
        "The data we will use for this analysis will come from the John Hopkins University Center for Systems Science and Engineering, Our World in Data and, of course, Twitter. \n",
        "\n",
        "\n",
        "* The dataset on confirmed cases per country (including the UK) can be found and downloaded [here](https://github.com/CSSEGISandData/COVID-19/tree/master/csse_covid_19_data/csse_covid_19_time_series).\n",
        "* The dataset on COVID-19 government restriction stringency can be found and downloaded [here](https://ourworldindata.org/covid-stringency-index).\n",
        "* We will get into the Tweets later.\n",
        "\n",
        "Once you have downloaded the datasets, you can upload one of them to to Colabs by running the comands below which will store a dataset as a Pandas dataframe (sort of like a spreadsheet). It is a good coding practice to wrap commands like this in a function. Do this and make the function output both datasets in a list. Then, call the function and assign the result to a variable ``dataframes``, storing the two dataframes in a list."
      ],
      "metadata": {
        "id": "3gOgjpQpKGoe"
      }
    },
    {
      "cell_type": "code",
      "source": [
        "# This command will prompt you with an upload screen and store the uploaded files in a dictionary.\n",
        "# You can upload multiple files at once.\n",
        "uploaded = files.upload()\n",
        "\n",
        "# This command stores the filenames in a list.\n",
        "filenames = list(uploaded.keys())\n",
        "\n",
        "# This command selects the filename of the first file in the files you uploaded.\n",
        "filename = filenames[0]\n",
        "\n",
        "# This command stores a dataset in a variable as a Pandas dataframe.\n",
        "df_stringency = pd.read_csv('owid-covid-data.csv')\n",
        "df_cases = pd.read_csv('time_series_covid19_confirmed_global.csv')\n",
        "\n",
        "# TODO - Create and call the function.\n",
        "print(dataset)"
      ],
      "metadata": {
        "id": "OaBrHMLZbnVY",
        "colab": {
          "base_uri": "https://localhost:8080/",
          "height": 823
        },
        "outputId": "93fdd8a1-724b-4eb6-a8a0-ecc0ef6b132e"
      },
      "execution_count": 11,
      "outputs": [
        {
          "output_type": "display_data",
          "data": {
            "text/plain": [
              "<IPython.core.display.HTML object>"
            ],
            "text/html": [
              "\n",
              "     <input type=\"file\" id=\"files-9b2f8b7b-11ab-42dd-a3a4-895c61779337\" name=\"files[]\" multiple disabled\n",
              "        style=\"border:none\" />\n",
              "     <output id=\"result-9b2f8b7b-11ab-42dd-a3a4-895c61779337\">\n",
              "      Upload widget is only available when the cell has been executed in the\n",
              "      current browser session. Please rerun this cell to enable.\n",
              "      </output>\n",
              "      <script>// Copyright 2017 Google LLC\n",
              "//\n",
              "// Licensed under the Apache License, Version 2.0 (the \"License\");\n",
              "// you may not use this file except in compliance with the License.\n",
              "// You may obtain a copy of the License at\n",
              "//\n",
              "//      http://www.apache.org/licenses/LICENSE-2.0\n",
              "//\n",
              "// Unless required by applicable law or agreed to in writing, software\n",
              "// distributed under the License is distributed on an \"AS IS\" BASIS,\n",
              "// WITHOUT WARRANTIES OR CONDITIONS OF ANY KIND, either express or implied.\n",
              "// See the License for the specific language governing permissions and\n",
              "// limitations under the License.\n",
              "\n",
              "/**\n",
              " * @fileoverview Helpers for google.colab Python module.\n",
              " */\n",
              "(function(scope) {\n",
              "function span(text, styleAttributes = {}) {\n",
              "  const element = document.createElement('span');\n",
              "  element.textContent = text;\n",
              "  for (const key of Object.keys(styleAttributes)) {\n",
              "    element.style[key] = styleAttributes[key];\n",
              "  }\n",
              "  return element;\n",
              "}\n",
              "\n",
              "// Max number of bytes which will be uploaded at a time.\n",
              "const MAX_PAYLOAD_SIZE = 100 * 1024;\n",
              "\n",
              "function _uploadFiles(inputId, outputId) {\n",
              "  const steps = uploadFilesStep(inputId, outputId);\n",
              "  const outputElement = document.getElementById(outputId);\n",
              "  // Cache steps on the outputElement to make it available for the next call\n",
              "  // to uploadFilesContinue from Python.\n",
              "  outputElement.steps = steps;\n",
              "\n",
              "  return _uploadFilesContinue(outputId);\n",
              "}\n",
              "\n",
              "// This is roughly an async generator (not supported in the browser yet),\n",
              "// where there are multiple asynchronous steps and the Python side is going\n",
              "// to poll for completion of each step.\n",
              "// This uses a Promise to block the python side on completion of each step,\n",
              "// then passes the result of the previous step as the input to the next step.\n",
              "function _uploadFilesContinue(outputId) {\n",
              "  const outputElement = document.getElementById(outputId);\n",
              "  const steps = outputElement.steps;\n",
              "\n",
              "  const next = steps.next(outputElement.lastPromiseValue);\n",
              "  return Promise.resolve(next.value.promise).then((value) => {\n",
              "    // Cache the last promise value to make it available to the next\n",
              "    // step of the generator.\n",
              "    outputElement.lastPromiseValue = value;\n",
              "    return next.value.response;\n",
              "  });\n",
              "}\n",
              "\n",
              "/**\n",
              " * Generator function which is called between each async step of the upload\n",
              " * process.\n",
              " * @param {string} inputId Element ID of the input file picker element.\n",
              " * @param {string} outputId Element ID of the output display.\n",
              " * @return {!Iterable<!Object>} Iterable of next steps.\n",
              " */\n",
              "function* uploadFilesStep(inputId, outputId) {\n",
              "  const inputElement = document.getElementById(inputId);\n",
              "  inputElement.disabled = false;\n",
              "\n",
              "  const outputElement = document.getElementById(outputId);\n",
              "  outputElement.innerHTML = '';\n",
              "\n",
              "  const pickedPromise = new Promise((resolve) => {\n",
              "    inputElement.addEventListener('change', (e) => {\n",
              "      resolve(e.target.files);\n",
              "    });\n",
              "  });\n",
              "\n",
              "  const cancel = document.createElement('button');\n",
              "  inputElement.parentElement.appendChild(cancel);\n",
              "  cancel.textContent = 'Cancel upload';\n",
              "  const cancelPromise = new Promise((resolve) => {\n",
              "    cancel.onclick = () => {\n",
              "      resolve(null);\n",
              "    };\n",
              "  });\n",
              "\n",
              "  // Wait for the user to pick the files.\n",
              "  const files = yield {\n",
              "    promise: Promise.race([pickedPromise, cancelPromise]),\n",
              "    response: {\n",
              "      action: 'starting',\n",
              "    }\n",
              "  };\n",
              "\n",
              "  cancel.remove();\n",
              "\n",
              "  // Disable the input element since further picks are not allowed.\n",
              "  inputElement.disabled = true;\n",
              "\n",
              "  if (!files) {\n",
              "    return {\n",
              "      response: {\n",
              "        action: 'complete',\n",
              "      }\n",
              "    };\n",
              "  }\n",
              "\n",
              "  for (const file of files) {\n",
              "    const li = document.createElement('li');\n",
              "    li.append(span(file.name, {fontWeight: 'bold'}));\n",
              "    li.append(span(\n",
              "        `(${file.type || 'n/a'}) - ${file.size} bytes, ` +\n",
              "        `last modified: ${\n",
              "            file.lastModifiedDate ? file.lastModifiedDate.toLocaleDateString() :\n",
              "                                    'n/a'} - `));\n",
              "    const percent = span('0% done');\n",
              "    li.appendChild(percent);\n",
              "\n",
              "    outputElement.appendChild(li);\n",
              "\n",
              "    const fileDataPromise = new Promise((resolve) => {\n",
              "      const reader = new FileReader();\n",
              "      reader.onload = (e) => {\n",
              "        resolve(e.target.result);\n",
              "      };\n",
              "      reader.readAsArrayBuffer(file);\n",
              "    });\n",
              "    // Wait for the data to be ready.\n",
              "    let fileData = yield {\n",
              "      promise: fileDataPromise,\n",
              "      response: {\n",
              "        action: 'continue',\n",
              "      }\n",
              "    };\n",
              "\n",
              "    // Use a chunked sending to avoid message size limits. See b/62115660.\n",
              "    let position = 0;\n",
              "    do {\n",
              "      const length = Math.min(fileData.byteLength - position, MAX_PAYLOAD_SIZE);\n",
              "      const chunk = new Uint8Array(fileData, position, length);\n",
              "      position += length;\n",
              "\n",
              "      const base64 = btoa(String.fromCharCode.apply(null, chunk));\n",
              "      yield {\n",
              "        response: {\n",
              "          action: 'append',\n",
              "          file: file.name,\n",
              "          data: base64,\n",
              "        },\n",
              "      };\n",
              "\n",
              "      let percentDone = fileData.byteLength === 0 ?\n",
              "          100 :\n",
              "          Math.round((position / fileData.byteLength) * 100);\n",
              "      percent.textContent = `${percentDone}% done`;\n",
              "\n",
              "    } while (position < fileData.byteLength);\n",
              "  }\n",
              "\n",
              "  // All done.\n",
              "  yield {\n",
              "    response: {\n",
              "      action: 'complete',\n",
              "    }\n",
              "  };\n",
              "}\n",
              "\n",
              "scope.google = scope.google || {};\n",
              "scope.google.colab = scope.google.colab || {};\n",
              "scope.google.colab._files = {\n",
              "  _uploadFiles,\n",
              "  _uploadFilesContinue,\n",
              "};\n",
              "})(self);\n",
              "</script> "
            ]
          },
          "metadata": {}
        },
        {
          "output_type": "stream",
          "name": "stdout",
          "text": [
            "Saving time_series_covid19_confirmed_global.csv to time_series_covid19_confirmed_global (1).csv\n",
            "Saving owid-covid-data.csv to owid-covid-data (1).csv\n",
            "    Province/State        Country/Region        Lat        Long  1/22/20  \\\n",
            "0              NaN           Afghanistan  33.939110   67.709953        0   \n",
            "1              NaN               Albania  41.153300   20.168300        0   \n",
            "2              NaN               Algeria  28.033900    1.659600        0   \n",
            "3              NaN               Andorra  42.506300    1.521800        0   \n",
            "4              NaN                Angola -11.202700   17.873900        0   \n",
            "..             ...                   ...        ...         ...      ...   \n",
            "284            NaN    West Bank and Gaza  31.952200   35.233200        0   \n",
            "285            NaN  Winter Olympics 2022  39.904200  116.407400        0   \n",
            "286            NaN                 Yemen  15.552727   48.516388        0   \n",
            "287            NaN                Zambia -13.133897   27.849332        0   \n",
            "288            NaN              Zimbabwe -19.015438   29.154857        0   \n",
            "\n",
            "     1/23/20  1/24/20  1/25/20  1/26/20  1/27/20  ...  2/12/23  2/13/23  \\\n",
            "0          0        0        0        0        0  ...   208982   209011   \n",
            "1          0        0        0        0        0  ...   334255   334255   \n",
            "2          0        0        0        0        0  ...   271409   271409   \n",
            "3          0        0        0        0        0  ...    47860    47860   \n",
            "4          0        0        0        0        0  ...   105184   105184   \n",
            "..       ...      ...      ...      ...      ...  ...      ...      ...   \n",
            "284        0        0        0        0        0  ...   703228   703228   \n",
            "285        0        0        0        0        0  ...      535      535   \n",
            "286        0        0        0        0        0  ...    11945    11945   \n",
            "287        0        0        0        0        0  ...   342288   342317   \n",
            "288        0        0        0        0        0  ...   263083   263083   \n",
            "\n",
            "     2/14/23  2/15/23  2/16/23  2/17/23  2/18/23  2/19/23  2/20/23  2/21/23  \n",
            "0     209036   209056   209072   209083   209084   209107   209153   209181  \n",
            "1     334264   334264   334273   334291   334305   334314   334315   334336  \n",
            "2     271409   271421   271424   271424   271425   271425   271426   271428  \n",
            "3      47860    47860    47866    47866    47866    47866    47866    47866  \n",
            "4     105184   105184   105184   105184   105184   105184   105184   105184  \n",
            "..       ...      ...      ...      ...      ...      ...      ...      ...  \n",
            "284   703228   703228   703228   703228   703228   703228   703228   703228  \n",
            "285      535      535      535      535      535      535      535      535  \n",
            "286    11945    11945    11945    11945    11945    11945    11945    11945  \n",
            "287   342317   342317   342317   342317   342317   342317   342724   342782  \n",
            "288   263083   263642   263642   263642   263642   263642   263642   263642  \n",
            "\n",
            "[289 rows x 1131 columns]\n"
          ]
        }
      ]
    },
    {
      "cell_type": "markdown",
      "source": [],
      "metadata": {
        "id": "96L5kXAoXT3x"
      }
    },
    {
      "cell_type": "markdown",
      "source": [
        "### Cleaning Datasets\n",
        "#### Preparation\n",
        "First, it would be nice to have each of the datasets stored in a variable with a corresponding name. Below I show a trick to assign two variables at once. Use this trick to assign your datasets to the variables ``df_cases`` and ``df_stringency``."
      ],
      "metadata": {
        "id": "Xzmo0WIbKtrk"
      }
    },
    {
      "cell_type": "code",
      "source": [
        "\n",
        "# TODO - Replicate the trick with the variable names given.\n",
        "df_stringency = pd.read_csv('owid-covid-data.csv')\n",
        "print(df_stringency)\n",
        "df_cases = pd.read_csv('time_series_covid19_confirmed_global.csv')\n",
        "print(df_cases)"
      ],
      "metadata": {
        "id": "PzYAFEKgd8aF",
        "colab": {
          "base_uri": "https://localhost:8080/"
        },
        "outputId": "446b474f-8125-49e0-d4b7-e9c7260a09b6"
      },
      "execution_count": 74,
      "outputs": [
        {
          "output_type": "stream",
          "name": "stdout",
          "text": [
            "       iso_code continent     location        date  total_cases  new_cases  \\\n",
            "0           AFG      Asia  Afghanistan  2020-02-24          5.0        5.0   \n",
            "1           AFG      Asia  Afghanistan  2020-02-25          5.0        0.0   \n",
            "2           AFG      Asia  Afghanistan  2020-02-26          5.0        0.0   \n",
            "3           AFG      Asia  Afghanistan  2020-02-27          5.0        0.0   \n",
            "4           AFG      Asia  Afghanistan  2020-02-28          5.0        0.0   \n",
            "...         ...       ...          ...         ...          ...        ...   \n",
            "258511      ZWE    Africa     Zimbabwe  2023-02-14     263083.0        0.0   \n",
            "258512      ZWE    Africa     Zimbabwe  2023-02-15     263642.0      559.0   \n",
            "258513      ZWE    Africa     Zimbabwe  2023-02-16     263642.0        NaN   \n",
            "258514      ZWE    Africa     Zimbabwe  2023-02-17     263642.0        NaN   \n",
            "258515      ZWE    Africa     Zimbabwe  2023-02-18     263642.0        NaN   \n",
            "\n",
            "        new_cases_smoothed  total_deaths  new_deaths  new_deaths_smoothed  \\\n",
            "0                      NaN           NaN         NaN                  NaN   \n",
            "1                      NaN           NaN         NaN                  NaN   \n",
            "2                      NaN           NaN         NaN                  NaN   \n",
            "3                      NaN           NaN         NaN                  NaN   \n",
            "4                      NaN           NaN         NaN                  NaN   \n",
            "...                    ...           ...         ...                  ...   \n",
            "258511             108.429        5659.0         0.0                0.143   \n",
            "258512              79.857        5662.0         3.0                0.429   \n",
            "258513                 NaN        5662.0         0.0                0.429   \n",
            "258514                 NaN        5662.0         0.0                0.429   \n",
            "258515                 NaN        5662.0         0.0                0.429   \n",
            "\n",
            "        ...  male_smokers  handwashing_facilities  hospital_beds_per_thousand  \\\n",
            "0       ...           NaN                  37.746                         0.5   \n",
            "1       ...           NaN                  37.746                         0.5   \n",
            "2       ...           NaN                  37.746                         0.5   \n",
            "3       ...           NaN                  37.746                         0.5   \n",
            "4       ...           NaN                  37.746                         0.5   \n",
            "...     ...           ...                     ...                         ...   \n",
            "258511  ...          30.7                  36.791                         1.7   \n",
            "258512  ...          30.7                  36.791                         1.7   \n",
            "258513  ...          30.7                  36.791                         1.7   \n",
            "258514  ...          30.7                  36.791                         1.7   \n",
            "258515  ...          30.7                  36.791                         1.7   \n",
            "\n",
            "        life_expectancy  human_development_index  population  \\\n",
            "0                 64.83                    0.511  41128772.0   \n",
            "1                 64.83                    0.511  41128772.0   \n",
            "2                 64.83                    0.511  41128772.0   \n",
            "3                 64.83                    0.511  41128772.0   \n",
            "4                 64.83                    0.511  41128772.0   \n",
            "...                 ...                      ...         ...   \n",
            "258511            61.49                    0.571  16320539.0   \n",
            "258512            61.49                    0.571  16320539.0   \n",
            "258513            61.49                    0.571  16320539.0   \n",
            "258514            61.49                    0.571  16320539.0   \n",
            "258515            61.49                    0.571  16320539.0   \n",
            "\n",
            "        excess_mortality_cumulative_absolute  excess_mortality_cumulative  \\\n",
            "0                                        NaN                          NaN   \n",
            "1                                        NaN                          NaN   \n",
            "2                                        NaN                          NaN   \n",
            "3                                        NaN                          NaN   \n",
            "4                                        NaN                          NaN   \n",
            "...                                      ...                          ...   \n",
            "258511                                   NaN                          NaN   \n",
            "258512                                   NaN                          NaN   \n",
            "258513                                   NaN                          NaN   \n",
            "258514                                   NaN                          NaN   \n",
            "258515                                   NaN                          NaN   \n",
            "\n",
            "        excess_mortality  excess_mortality_cumulative_per_million  \n",
            "0                    NaN                                      NaN  \n",
            "1                    NaN                                      NaN  \n",
            "2                    NaN                                      NaN  \n",
            "3                    NaN                                      NaN  \n",
            "4                    NaN                                      NaN  \n",
            "...                  ...                                      ...  \n",
            "258511               NaN                                      NaN  \n",
            "258512               NaN                                      NaN  \n",
            "258513               NaN                                      NaN  \n",
            "258514               NaN                                      NaN  \n",
            "258515               NaN                                      NaN  \n",
            "\n",
            "[258516 rows x 67 columns]\n",
            "    Province/State        Country/Region        Lat        Long  1/22/20  \\\n",
            "0              NaN           Afghanistan  33.939110   67.709953        0   \n",
            "1              NaN               Albania  41.153300   20.168300        0   \n",
            "2              NaN               Algeria  28.033900    1.659600        0   \n",
            "3              NaN               Andorra  42.506300    1.521800        0   \n",
            "4              NaN                Angola -11.202700   17.873900        0   \n",
            "..             ...                   ...        ...         ...      ...   \n",
            "284            NaN    West Bank and Gaza  31.952200   35.233200        0   \n",
            "285            NaN  Winter Olympics 2022  39.904200  116.407400        0   \n",
            "286            NaN                 Yemen  15.552727   48.516388        0   \n",
            "287            NaN                Zambia -13.133897   27.849332        0   \n",
            "288            NaN              Zimbabwe -19.015438   29.154857        0   \n",
            "\n",
            "     1/23/20  1/24/20  1/25/20  1/26/20  1/27/20  ...  2/12/23  2/13/23  \\\n",
            "0          0        0        0        0        0  ...   208982   209011   \n",
            "1          0        0        0        0        0  ...   334255   334255   \n",
            "2          0        0        0        0        0  ...   271409   271409   \n",
            "3          0        0        0        0        0  ...    47860    47860   \n",
            "4          0        0        0        0        0  ...   105184   105184   \n",
            "..       ...      ...      ...      ...      ...  ...      ...      ...   \n",
            "284        0        0        0        0        0  ...   703228   703228   \n",
            "285        0        0        0        0        0  ...      535      535   \n",
            "286        0        0        0        0        0  ...    11945    11945   \n",
            "287        0        0        0        0        0  ...   342288   342317   \n",
            "288        0        0        0        0        0  ...   263083   263083   \n",
            "\n",
            "     2/14/23  2/15/23  2/16/23  2/17/23  2/18/23  2/19/23  2/20/23  2/21/23  \n",
            "0     209036   209056   209072   209083   209084   209107   209153   209181  \n",
            "1     334264   334264   334273   334291   334305   334314   334315   334336  \n",
            "2     271409   271421   271424   271424   271425   271425   271426   271428  \n",
            "3      47860    47860    47866    47866    47866    47866    47866    47866  \n",
            "4     105184   105184   105184   105184   105184   105184   105184   105184  \n",
            "..       ...      ...      ...      ...      ...      ...      ...      ...  \n",
            "284   703228   703228   703228   703228   703228   703228   703228   703228  \n",
            "285      535      535      535      535      535      535      535      535  \n",
            "286    11945    11945    11945    11945    11945    11945    11945    11945  \n",
            "287   342317   342317   342317   342317   342317   342317   342724   342782  \n",
            "288   263083   263642   263642   263642   263642   263642   263642   263642  \n",
            "\n",
            "[289 rows x 1131 columns]\n"
          ]
        }
      ]
    },
    {
      "cell_type": "markdown",
      "source": [
        "#### Stringency\n",
        "Let's start with the easiest dataset first. Inspect the structure of the dataset by printing the dataframe."
      ],
      "metadata": {
        "id": "KB_HFVFsdT5H"
      }
    },
    {
      "cell_type": "code",
      "source": [
        "# TODO - print the dataframe and inspect the structure.\n",
        "print(df_stringency)\n",
        "\n",
        "#Print the first 5 rows of the stringency dataset \n",
        "df_stringency.head()\n",
        "\n",
        "#Print the last 5 rows of the dataset \n",
        "df_stringency.tail()\n",
        "\n",
        "#Print the description of the stringency dataset\n",
        "df_stringency.describe()\n"
      ],
      "metadata": {
        "id": "ZR-VoJcBKv6V",
        "colab": {
          "base_uri": "https://localhost:8080/",
          "height": 1000
        },
        "outputId": "7bb93c9b-94b2-4d8a-a2dc-3c162377786e"
      },
      "execution_count": 53,
      "outputs": [
        {
          "output_type": "stream",
          "name": "stdout",
          "text": [
            "       iso_code continent     location        date  total_cases  new_cases  \\\n",
            "0           AFG      Asia  Afghanistan  2020-02-24          5.0        5.0   \n",
            "1           AFG      Asia  Afghanistan  2020-02-25          5.0        0.0   \n",
            "2           AFG      Asia  Afghanistan  2020-02-26          5.0        0.0   \n",
            "3           AFG      Asia  Afghanistan  2020-02-27          5.0        0.0   \n",
            "4           AFG      Asia  Afghanistan  2020-02-28          5.0        0.0   \n",
            "...         ...       ...          ...         ...          ...        ...   \n",
            "258511      ZWE    Africa     Zimbabwe  2023-02-14     263083.0        0.0   \n",
            "258512      ZWE    Africa     Zimbabwe  2023-02-15     263642.0      559.0   \n",
            "258513      ZWE    Africa     Zimbabwe  2023-02-16     263642.0        NaN   \n",
            "258514      ZWE    Africa     Zimbabwe  2023-02-17     263642.0        NaN   \n",
            "258515      ZWE    Africa     Zimbabwe  2023-02-18     263642.0        NaN   \n",
            "\n",
            "        new_cases_smoothed  total_deaths  new_deaths  new_deaths_smoothed  \\\n",
            "0                      NaN           NaN         NaN                  NaN   \n",
            "1                      NaN           NaN         NaN                  NaN   \n",
            "2                      NaN           NaN         NaN                  NaN   \n",
            "3                      NaN           NaN         NaN                  NaN   \n",
            "4                      NaN           NaN         NaN                  NaN   \n",
            "...                    ...           ...         ...                  ...   \n",
            "258511             108.429        5659.0         0.0                0.143   \n",
            "258512              79.857        5662.0         3.0                0.429   \n",
            "258513                 NaN        5662.0         0.0                0.429   \n",
            "258514                 NaN        5662.0         0.0                0.429   \n",
            "258515                 NaN        5662.0         0.0                0.429   \n",
            "\n",
            "        ...  male_smokers  handwashing_facilities  hospital_beds_per_thousand  \\\n",
            "0       ...           NaN                  37.746                         0.5   \n",
            "1       ...           NaN                  37.746                         0.5   \n",
            "2       ...           NaN                  37.746                         0.5   \n",
            "3       ...           NaN                  37.746                         0.5   \n",
            "4       ...           NaN                  37.746                         0.5   \n",
            "...     ...           ...                     ...                         ...   \n",
            "258511  ...          30.7                  36.791                         1.7   \n",
            "258512  ...          30.7                  36.791                         1.7   \n",
            "258513  ...          30.7                  36.791                         1.7   \n",
            "258514  ...          30.7                  36.791                         1.7   \n",
            "258515  ...          30.7                  36.791                         1.7   \n",
            "\n",
            "        life_expectancy  human_development_index  population  \\\n",
            "0                 64.83                    0.511  41128772.0   \n",
            "1                 64.83                    0.511  41128772.0   \n",
            "2                 64.83                    0.511  41128772.0   \n",
            "3                 64.83                    0.511  41128772.0   \n",
            "4                 64.83                    0.511  41128772.0   \n",
            "...                 ...                      ...         ...   \n",
            "258511            61.49                    0.571  16320539.0   \n",
            "258512            61.49                    0.571  16320539.0   \n",
            "258513            61.49                    0.571  16320539.0   \n",
            "258514            61.49                    0.571  16320539.0   \n",
            "258515            61.49                    0.571  16320539.0   \n",
            "\n",
            "        excess_mortality_cumulative_absolute  excess_mortality_cumulative  \\\n",
            "0                                        NaN                          NaN   \n",
            "1                                        NaN                          NaN   \n",
            "2                                        NaN                          NaN   \n",
            "3                                        NaN                          NaN   \n",
            "4                                        NaN                          NaN   \n",
            "...                                      ...                          ...   \n",
            "258511                                   NaN                          NaN   \n",
            "258512                                   NaN                          NaN   \n",
            "258513                                   NaN                          NaN   \n",
            "258514                                   NaN                          NaN   \n",
            "258515                                   NaN                          NaN   \n",
            "\n",
            "        excess_mortality  excess_mortality_cumulative_per_million  \n",
            "0                    NaN                                      NaN  \n",
            "1                    NaN                                      NaN  \n",
            "2                    NaN                                      NaN  \n",
            "3                    NaN                                      NaN  \n",
            "4                    NaN                                      NaN  \n",
            "...                  ...                                      ...  \n",
            "258511               NaN                                      NaN  \n",
            "258512               NaN                                      NaN  \n",
            "258513               NaN                                      NaN  \n",
            "258514               NaN                                      NaN  \n",
            "258515               NaN                                      NaN  \n",
            "\n",
            "[258516 rows x 67 columns]\n"
          ]
        },
        {
          "output_type": "execute_result",
          "data": {
            "text/plain": [
              "        total_cases     new_cases  new_cases_smoothed  total_deaths  \\\n",
              "count  2.439480e+05  2.436210e+05        2.424170e+05  2.242790e+05   \n",
              "mean   5.290891e+06  1.179333e+04        1.184046e+04  7.986945e+04   \n",
              "std    3.253577e+07  8.208076e+04        7.979520e+04  4.069163e+05   \n",
              "min    1.000000e+00  0.000000e+00        0.000000e+00  1.000000e+00   \n",
              "25%    5.735750e+03  0.000000e+00        4.429000e+00  1.240000e+02   \n",
              "50%    6.209300e+04  3.700000e+01        7.728600e+01  1.361000e+03   \n",
              "75%    6.435215e+05  8.230000e+02        1.004000e+03  1.099600e+04   \n",
              "max    6.738557e+08  4.082890e+06        3.436562e+06  6.862372e+06   \n",
              "\n",
              "          new_deaths  new_deaths_smoothed  total_cases_per_million  \\\n",
              "count  224170.000000        222984.000000            242840.000000   \n",
              "mean      127.193335           127.757142             73594.100152   \n",
              "std       737.462636           683.596676            124190.390592   \n",
              "min         0.000000             0.000000                 0.001000   \n",
              "25%         0.000000             0.000000              1377.905000   \n",
              "50%         0.000000             1.143000             13989.105000   \n",
              "75%        11.000000            13.429000             87537.883750   \n",
              "max     60900.000000         14860.286000            722127.171000   \n",
              "\n",
              "       new_cases_per_million  new_cases_smoothed_per_million  \\\n",
              "count          242513.000000                   241314.000000   \n",
              "mean              177.918929                      178.450590   \n",
              "std              1127.520696                      667.251533   \n",
              "min                 0.000000                        0.000000   \n",
              "25%                 0.000000                        0.927000   \n",
              "50%                 4.794000                       16.082000   \n",
              "75%                83.965000                      123.182750   \n",
              "max            228872.025000                    36421.827000   \n",
              "\n",
              "       total_deaths_per_million  ...   male_smokers  handwashing_facilities  \\\n",
              "count             223184.000000  ...  155365.000000           102513.000000   \n",
              "mean                 752.996359  ...      32.820836               50.927371   \n",
              "std                 1029.095497  ...      13.539208               31.897345   \n",
              "min                    0.000000  ...       7.700000                1.188000   \n",
              "25%                   34.427000  ...      21.600000               20.859000   \n",
              "50%                  250.145500  ...      33.100000               49.839000   \n",
              "75%                 1134.265000  ...      41.300000               83.241000   \n",
              "max                 6441.135000  ...      78.100000              100.000000   \n",
              "\n",
              "       hospital_beds_per_thousand  life_expectancy  human_development_index  \\\n",
              "count               185243.000000    237276.000000            203076.000000   \n",
              "mean                     3.090670        73.596559                 0.724535   \n",
              "std                      2.552299         7.445844                 0.149530   \n",
              "min                      0.100000        53.280000                 0.394000   \n",
              "25%                      1.300000        69.500000                 0.602000   \n",
              "50%                      2.500000        75.050000                 0.742000   \n",
              "75%                      4.200000        79.070000                 0.838000   \n",
              "max                     13.800000        86.750000                 0.957000   \n",
              "\n",
              "         population  excess_mortality_cumulative_absolute  \\\n",
              "count  2.574080e+05                          8.649000e+03   \n",
              "mean   1.404975e+08                          5.273396e+04   \n",
              "std    6.915815e+08                          1.433321e+05   \n",
              "min    4.700000e+01                         -3.772610e+04   \n",
              "25%    8.367830e+05                          9.320001e+01   \n",
              "50%    6.871547e+06                          7.149899e+03   \n",
              "75%    3.369661e+07                          3.811930e+04   \n",
              "max    7.975105e+09                          1.273323e+06   \n",
              "\n",
              "       excess_mortality_cumulative  excess_mortality  \\\n",
              "count                  8649.000000       8649.000000   \n",
              "mean                     10.335603         14.090851   \n",
              "std                      13.192857         25.875053   \n",
              "min                     -28.450000        -95.920000   \n",
              "25%                       1.080000          0.190000   \n",
              "50%                       8.010000          7.620000   \n",
              "75%                      16.310000         19.230000   \n",
              "max                      76.550000        376.770000   \n",
              "\n",
              "       excess_mortality_cumulative_per_million  \n",
              "count                              8649.000000  \n",
              "mean                               1514.390390  \n",
              "std                                1856.830173  \n",
              "min                               -1984.281600  \n",
              "25%                                  56.186893  \n",
              "50%                                 944.000850  \n",
              "75%                                2428.449000  \n",
              "max                               10251.770000  \n",
              "\n",
              "[8 rows x 62 columns]"
            ],
            "text/html": [
              "\n",
              "  <div id=\"df-d39999d3-7d00-46be-86b8-d561b93bdba2\">\n",
              "    <div class=\"colab-df-container\">\n",
              "      <div>\n",
              "<style scoped>\n",
              "    .dataframe tbody tr th:only-of-type {\n",
              "        vertical-align: middle;\n",
              "    }\n",
              "\n",
              "    .dataframe tbody tr th {\n",
              "        vertical-align: top;\n",
              "    }\n",
              "\n",
              "    .dataframe thead th {\n",
              "        text-align: right;\n",
              "    }\n",
              "</style>\n",
              "<table border=\"1\" class=\"dataframe\">\n",
              "  <thead>\n",
              "    <tr style=\"text-align: right;\">\n",
              "      <th></th>\n",
              "      <th>total_cases</th>\n",
              "      <th>new_cases</th>\n",
              "      <th>new_cases_smoothed</th>\n",
              "      <th>total_deaths</th>\n",
              "      <th>new_deaths</th>\n",
              "      <th>new_deaths_smoothed</th>\n",
              "      <th>total_cases_per_million</th>\n",
              "      <th>new_cases_per_million</th>\n",
              "      <th>new_cases_smoothed_per_million</th>\n",
              "      <th>total_deaths_per_million</th>\n",
              "      <th>...</th>\n",
              "      <th>male_smokers</th>\n",
              "      <th>handwashing_facilities</th>\n",
              "      <th>hospital_beds_per_thousand</th>\n",
              "      <th>life_expectancy</th>\n",
              "      <th>human_development_index</th>\n",
              "      <th>population</th>\n",
              "      <th>excess_mortality_cumulative_absolute</th>\n",
              "      <th>excess_mortality_cumulative</th>\n",
              "      <th>excess_mortality</th>\n",
              "      <th>excess_mortality_cumulative_per_million</th>\n",
              "    </tr>\n",
              "  </thead>\n",
              "  <tbody>\n",
              "    <tr>\n",
              "      <th>count</th>\n",
              "      <td>2.439480e+05</td>\n",
              "      <td>2.436210e+05</td>\n",
              "      <td>2.424170e+05</td>\n",
              "      <td>2.242790e+05</td>\n",
              "      <td>224170.000000</td>\n",
              "      <td>222984.000000</td>\n",
              "      <td>242840.000000</td>\n",
              "      <td>242513.000000</td>\n",
              "      <td>241314.000000</td>\n",
              "      <td>223184.000000</td>\n",
              "      <td>...</td>\n",
              "      <td>155365.000000</td>\n",
              "      <td>102513.000000</td>\n",
              "      <td>185243.000000</td>\n",
              "      <td>237276.000000</td>\n",
              "      <td>203076.000000</td>\n",
              "      <td>2.574080e+05</td>\n",
              "      <td>8.649000e+03</td>\n",
              "      <td>8649.000000</td>\n",
              "      <td>8649.000000</td>\n",
              "      <td>8649.000000</td>\n",
              "    </tr>\n",
              "    <tr>\n",
              "      <th>mean</th>\n",
              "      <td>5.290891e+06</td>\n",
              "      <td>1.179333e+04</td>\n",
              "      <td>1.184046e+04</td>\n",
              "      <td>7.986945e+04</td>\n",
              "      <td>127.193335</td>\n",
              "      <td>127.757142</td>\n",
              "      <td>73594.100152</td>\n",
              "      <td>177.918929</td>\n",
              "      <td>178.450590</td>\n",
              "      <td>752.996359</td>\n",
              "      <td>...</td>\n",
              "      <td>32.820836</td>\n",
              "      <td>50.927371</td>\n",
              "      <td>3.090670</td>\n",
              "      <td>73.596559</td>\n",
              "      <td>0.724535</td>\n",
              "      <td>1.404975e+08</td>\n",
              "      <td>5.273396e+04</td>\n",
              "      <td>10.335603</td>\n",
              "      <td>14.090851</td>\n",
              "      <td>1514.390390</td>\n",
              "    </tr>\n",
              "    <tr>\n",
              "      <th>std</th>\n",
              "      <td>3.253577e+07</td>\n",
              "      <td>8.208076e+04</td>\n",
              "      <td>7.979520e+04</td>\n",
              "      <td>4.069163e+05</td>\n",
              "      <td>737.462636</td>\n",
              "      <td>683.596676</td>\n",
              "      <td>124190.390592</td>\n",
              "      <td>1127.520696</td>\n",
              "      <td>667.251533</td>\n",
              "      <td>1029.095497</td>\n",
              "      <td>...</td>\n",
              "      <td>13.539208</td>\n",
              "      <td>31.897345</td>\n",
              "      <td>2.552299</td>\n",
              "      <td>7.445844</td>\n",
              "      <td>0.149530</td>\n",
              "      <td>6.915815e+08</td>\n",
              "      <td>1.433321e+05</td>\n",
              "      <td>13.192857</td>\n",
              "      <td>25.875053</td>\n",
              "      <td>1856.830173</td>\n",
              "    </tr>\n",
              "    <tr>\n",
              "      <th>min</th>\n",
              "      <td>1.000000e+00</td>\n",
              "      <td>0.000000e+00</td>\n",
              "      <td>0.000000e+00</td>\n",
              "      <td>1.000000e+00</td>\n",
              "      <td>0.000000</td>\n",
              "      <td>0.000000</td>\n",
              "      <td>0.001000</td>\n",
              "      <td>0.000000</td>\n",
              "      <td>0.000000</td>\n",
              "      <td>0.000000</td>\n",
              "      <td>...</td>\n",
              "      <td>7.700000</td>\n",
              "      <td>1.188000</td>\n",
              "      <td>0.100000</td>\n",
              "      <td>53.280000</td>\n",
              "      <td>0.394000</td>\n",
              "      <td>4.700000e+01</td>\n",
              "      <td>-3.772610e+04</td>\n",
              "      <td>-28.450000</td>\n",
              "      <td>-95.920000</td>\n",
              "      <td>-1984.281600</td>\n",
              "    </tr>\n",
              "    <tr>\n",
              "      <th>25%</th>\n",
              "      <td>5.735750e+03</td>\n",
              "      <td>0.000000e+00</td>\n",
              "      <td>4.429000e+00</td>\n",
              "      <td>1.240000e+02</td>\n",
              "      <td>0.000000</td>\n",
              "      <td>0.000000</td>\n",
              "      <td>1377.905000</td>\n",
              "      <td>0.000000</td>\n",
              "      <td>0.927000</td>\n",
              "      <td>34.427000</td>\n",
              "      <td>...</td>\n",
              "      <td>21.600000</td>\n",
              "      <td>20.859000</td>\n",
              "      <td>1.300000</td>\n",
              "      <td>69.500000</td>\n",
              "      <td>0.602000</td>\n",
              "      <td>8.367830e+05</td>\n",
              "      <td>9.320001e+01</td>\n",
              "      <td>1.080000</td>\n",
              "      <td>0.190000</td>\n",
              "      <td>56.186893</td>\n",
              "    </tr>\n",
              "    <tr>\n",
              "      <th>50%</th>\n",
              "      <td>6.209300e+04</td>\n",
              "      <td>3.700000e+01</td>\n",
              "      <td>7.728600e+01</td>\n",
              "      <td>1.361000e+03</td>\n",
              "      <td>0.000000</td>\n",
              "      <td>1.143000</td>\n",
              "      <td>13989.105000</td>\n",
              "      <td>4.794000</td>\n",
              "      <td>16.082000</td>\n",
              "      <td>250.145500</td>\n",
              "      <td>...</td>\n",
              "      <td>33.100000</td>\n",
              "      <td>49.839000</td>\n",
              "      <td>2.500000</td>\n",
              "      <td>75.050000</td>\n",
              "      <td>0.742000</td>\n",
              "      <td>6.871547e+06</td>\n",
              "      <td>7.149899e+03</td>\n",
              "      <td>8.010000</td>\n",
              "      <td>7.620000</td>\n",
              "      <td>944.000850</td>\n",
              "    </tr>\n",
              "    <tr>\n",
              "      <th>75%</th>\n",
              "      <td>6.435215e+05</td>\n",
              "      <td>8.230000e+02</td>\n",
              "      <td>1.004000e+03</td>\n",
              "      <td>1.099600e+04</td>\n",
              "      <td>11.000000</td>\n",
              "      <td>13.429000</td>\n",
              "      <td>87537.883750</td>\n",
              "      <td>83.965000</td>\n",
              "      <td>123.182750</td>\n",
              "      <td>1134.265000</td>\n",
              "      <td>...</td>\n",
              "      <td>41.300000</td>\n",
              "      <td>83.241000</td>\n",
              "      <td>4.200000</td>\n",
              "      <td>79.070000</td>\n",
              "      <td>0.838000</td>\n",
              "      <td>3.369661e+07</td>\n",
              "      <td>3.811930e+04</td>\n",
              "      <td>16.310000</td>\n",
              "      <td>19.230000</td>\n",
              "      <td>2428.449000</td>\n",
              "    </tr>\n",
              "    <tr>\n",
              "      <th>max</th>\n",
              "      <td>6.738557e+08</td>\n",
              "      <td>4.082890e+06</td>\n",
              "      <td>3.436562e+06</td>\n",
              "      <td>6.862372e+06</td>\n",
              "      <td>60900.000000</td>\n",
              "      <td>14860.286000</td>\n",
              "      <td>722127.171000</td>\n",
              "      <td>228872.025000</td>\n",
              "      <td>36421.827000</td>\n",
              "      <td>6441.135000</td>\n",
              "      <td>...</td>\n",
              "      <td>78.100000</td>\n",
              "      <td>100.000000</td>\n",
              "      <td>13.800000</td>\n",
              "      <td>86.750000</td>\n",
              "      <td>0.957000</td>\n",
              "      <td>7.975105e+09</td>\n",
              "      <td>1.273323e+06</td>\n",
              "      <td>76.550000</td>\n",
              "      <td>376.770000</td>\n",
              "      <td>10251.770000</td>\n",
              "    </tr>\n",
              "  </tbody>\n",
              "</table>\n",
              "<p>8 rows × 62 columns</p>\n",
              "</div>\n",
              "      <button class=\"colab-df-convert\" onclick=\"convertToInteractive('df-d39999d3-7d00-46be-86b8-d561b93bdba2')\"\n",
              "              title=\"Convert this dataframe to an interactive table.\"\n",
              "              style=\"display:none;\">\n",
              "        \n",
              "  <svg xmlns=\"http://www.w3.org/2000/svg\" height=\"24px\"viewBox=\"0 0 24 24\"\n",
              "       width=\"24px\">\n",
              "    <path d=\"M0 0h24v24H0V0z\" fill=\"none\"/>\n",
              "    <path d=\"M18.56 5.44l.94 2.06.94-2.06 2.06-.94-2.06-.94-.94-2.06-.94 2.06-2.06.94zm-11 1L8.5 8.5l.94-2.06 2.06-.94-2.06-.94L8.5 2.5l-.94 2.06-2.06.94zm10 10l.94 2.06.94-2.06 2.06-.94-2.06-.94-.94-2.06-.94 2.06-2.06.94z\"/><path d=\"M17.41 7.96l-1.37-1.37c-.4-.4-.92-.59-1.43-.59-.52 0-1.04.2-1.43.59L10.3 9.45l-7.72 7.72c-.78.78-.78 2.05 0 2.83L4 21.41c.39.39.9.59 1.41.59.51 0 1.02-.2 1.41-.59l7.78-7.78 2.81-2.81c.8-.78.8-2.07 0-2.86zM5.41 20L4 18.59l7.72-7.72 1.47 1.35L5.41 20z\"/>\n",
              "  </svg>\n",
              "      </button>\n",
              "      \n",
              "  <style>\n",
              "    .colab-df-container {\n",
              "      display:flex;\n",
              "      flex-wrap:wrap;\n",
              "      gap: 12px;\n",
              "    }\n",
              "\n",
              "    .colab-df-convert {\n",
              "      background-color: #E8F0FE;\n",
              "      border: none;\n",
              "      border-radius: 50%;\n",
              "      cursor: pointer;\n",
              "      display: none;\n",
              "      fill: #1967D2;\n",
              "      height: 32px;\n",
              "      padding: 0 0 0 0;\n",
              "      width: 32px;\n",
              "    }\n",
              "\n",
              "    .colab-df-convert:hover {\n",
              "      background-color: #E2EBFA;\n",
              "      box-shadow: 0px 1px 2px rgba(60, 64, 67, 0.3), 0px 1px 3px 1px rgba(60, 64, 67, 0.15);\n",
              "      fill: #174EA6;\n",
              "    }\n",
              "\n",
              "    [theme=dark] .colab-df-convert {\n",
              "      background-color: #3B4455;\n",
              "      fill: #D2E3FC;\n",
              "    }\n",
              "\n",
              "    [theme=dark] .colab-df-convert:hover {\n",
              "      background-color: #434B5C;\n",
              "      box-shadow: 0px 1px 3px 1px rgba(0, 0, 0, 0.15);\n",
              "      filter: drop-shadow(0px 1px 2px rgba(0, 0, 0, 0.3));\n",
              "      fill: #FFFFFF;\n",
              "    }\n",
              "  </style>\n",
              "\n",
              "      <script>\n",
              "        const buttonEl =\n",
              "          document.querySelector('#df-d39999d3-7d00-46be-86b8-d561b93bdba2 button.colab-df-convert');\n",
              "        buttonEl.style.display =\n",
              "          google.colab.kernel.accessAllowed ? 'block' : 'none';\n",
              "\n",
              "        async function convertToInteractive(key) {\n",
              "          const element = document.querySelector('#df-d39999d3-7d00-46be-86b8-d561b93bdba2');\n",
              "          const dataTable =\n",
              "            await google.colab.kernel.invokeFunction('convertToInteractive',\n",
              "                                                     [key], {});\n",
              "          if (!dataTable) return;\n",
              "\n",
              "          const docLinkHtml = 'Like what you see? Visit the ' +\n",
              "            '<a target=\"_blank\" href=https://colab.research.google.com/notebooks/data_table.ipynb>data table notebook</a>'\n",
              "            + ' to learn more about interactive tables.';\n",
              "          element.innerHTML = '';\n",
              "          dataTable['output_type'] = 'display_data';\n",
              "          await google.colab.output.renderOutput(dataTable, element);\n",
              "          const docLink = document.createElement('div');\n",
              "          docLink.innerHTML = docLinkHtml;\n",
              "          element.appendChild(docLink);\n",
              "        }\n",
              "      </script>\n",
              "    </div>\n",
              "  </div>\n",
              "  "
            ]
          },
          "metadata": {},
          "execution_count": 53
        }
      ]
    },
    {
      "cell_type": "markdown",
      "source": [
        "Clearly, there are lots of variables and countries of which we do not need the data. Therefore, we would like to drop the redundant entries. Do this by selecting only the date and stringency index values for just the United Kingdom. Overwrite ``df_stringency`` with this transformed dataframe. As a final nit-picky step, reset the index of the dataframe."
      ],
      "metadata": {
        "id": "cUWOFexDgayH"
      }
    },
    {
      "cell_type": "code",
      "source": [
        "# TODO - Overwrite the dataframe with the filtered version.\n",
        "#Let's choose as a filter the column location, and modify it to include only the date and stringecy index. Our filter would be 'United Kingdom'\n",
        "df_stringency = df_stringency.loc[df_stringency['location'] == 'United Kingdom', ['date', 'stringency_index']]\n",
        "\n",
        "#Reset the index of the dataframe without adding a new column\n",
        "df_stringency = df_stringency.reset_index(drop = True)\n",
        "\n",
        "#Check and pray that it works \n",
        "print(df_stringency)\n",
        "\n"
      ],
      "metadata": {
        "id": "xLjnB4JNhwBf",
        "colab": {
          "base_uri": "https://localhost:8080/"
        },
        "outputId": "e31681a2-5e1b-4de9-c536-2a38c7bc2951"
      },
      "execution_count": 54,
      "outputs": [
        {
          "output_type": "stream",
          "name": "stdout",
          "text": [
            "            date  stringency_index\n",
            "0     2020-01-30              5.56\n",
            "1     2020-01-31              8.33\n",
            "2     2020-02-01              8.33\n",
            "3     2020-02-02             11.11\n",
            "4     2020-02-03             11.11\n",
            "...          ...               ...\n",
            "1111  2023-02-14               NaN\n",
            "1112  2023-02-15               NaN\n",
            "1113  2023-02-16               NaN\n",
            "1114  2023-02-17               NaN\n",
            "1115  2023-02-18               NaN\n",
            "\n",
            "[1116 rows x 2 columns]\n"
          ]
        }
      ]
    },
    {
      "cell_type": "markdown",
      "source": [
        "We would like to have our data of suitable data types, so it is easiest to work with down the line. For example, we would like the values in our ``date`` column to be of the ``datetime`` data type. Also, we would like the values in our ``stringency_index`` column to be of the ``float`` data type. Check if this is the case and if not, convert the column values to the desired data type."
      ],
      "metadata": {
        "id": "qRnW1do6ioC1"
      }
    },
    {
      "cell_type": "code",
      "source": [
        "# TODO - Check if the column values data types are correct and convert them if not.\n",
        "\n",
        "#Check the type of date\n",
        "print(df_stringency['date'].dtype)\n",
        "\n",
        "#Right, we see that it's type is object. Let's convert it to datetime. \n",
        "df_stringency['date'] = pd.to_datetime(df_stringency['date'])\n",
        "\n",
        "#Check\n",
        "print(df_stringency['date'].dtype)\n",
        "\n",
        "#Check the type of stringency_index\n",
        "print(df_stringency['stringency_index'].dtype)\n",
        "\n",
        "#The data type of the stringency_index is float64\n",
        "\n"
      ],
      "metadata": {
        "id": "0KEX5HEsjbRD",
        "colab": {
          "base_uri": "https://localhost:8080/"
        },
        "outputId": "32ed5803-10d8-40eb-9962-6d2417c7f151"
      },
      "execution_count": 55,
      "outputs": [
        {
          "output_type": "stream",
          "name": "stdout",
          "text": [
            "object\n",
            "datetime64[ns]\n",
            "float64\n"
          ]
        }
      ]
    },
    {
      "cell_type": "code",
      "source": [
        "df_stringency_filter = df_stringency.iloc[:1067]\n",
        "print(df_stringency_filter)"
      ],
      "metadata": {
        "colab": {
          "base_uri": "https://localhost:8080/"
        },
        "id": "BOzyjCaPt3MM",
        "outputId": "3c6af424-d54e-4a73-b586-a701379215f6"
      },
      "execution_count": 56,
      "outputs": [
        {
          "output_type": "stream",
          "name": "stdout",
          "text": [
            "           date  stringency_index\n",
            "0    2020-01-30              5.56\n",
            "1    2020-01-31              8.33\n",
            "2    2020-02-01              8.33\n",
            "3    2020-02-02             11.11\n",
            "4    2020-02-03             11.11\n",
            "...         ...               ...\n",
            "1062 2022-12-27              5.56\n",
            "1063 2022-12-28              5.56\n",
            "1064 2022-12-29              5.56\n",
            "1065 2022-12-30              5.56\n",
            "1066 2022-12-31              5.56\n",
            "\n",
            "[1067 rows x 2 columns]\n"
          ]
        }
      ]
    },
    {
      "cell_type": "markdown",
      "source": [
        "#### Cases\n",
        "Now on to the harder dataset. Inspect the structure of the dataset by printing the dataframe."
      ],
      "metadata": {
        "id": "6zlemmyxk2JT"
      }
    },
    {
      "cell_type": "code",
      "source": [
        "# TODO - print the dataframe and inspect the structure.\n",
        "df_cases = df_cases.fillna('N/A')\n",
        "print(df_cases)\n",
        "print(df_cases.info())"
      ],
      "metadata": {
        "id": "0Yvhn1snloQx",
        "colab": {
          "base_uri": "https://localhost:8080/"
        },
        "outputId": "66cb9fba-50aa-47d4-fcd7-7e4762dfe59d"
      },
      "execution_count": 75,
      "outputs": [
        {
          "output_type": "stream",
          "name": "stdout",
          "text": [
            "    Province/State        Country/Region        Lat       Long  1/22/20  \\\n",
            "0              N/A           Afghanistan   33.93911  67.709953        0   \n",
            "1              N/A               Albania    41.1533    20.1683        0   \n",
            "2              N/A               Algeria    28.0339     1.6596        0   \n",
            "3              N/A               Andorra    42.5063     1.5218        0   \n",
            "4              N/A                Angola   -11.2027    17.8739        0   \n",
            "..             ...                   ...        ...        ...      ...   \n",
            "284            N/A    West Bank and Gaza    31.9522    35.2332        0   \n",
            "285            N/A  Winter Olympics 2022    39.9042   116.4074        0   \n",
            "286            N/A                 Yemen  15.552727  48.516388        0   \n",
            "287            N/A                Zambia -13.133897  27.849332        0   \n",
            "288            N/A              Zimbabwe -19.015438  29.154857        0   \n",
            "\n",
            "     1/23/20  1/24/20  1/25/20  1/26/20  1/27/20  ...  2/12/23  2/13/23  \\\n",
            "0          0        0        0        0        0  ...   208982   209011   \n",
            "1          0        0        0        0        0  ...   334255   334255   \n",
            "2          0        0        0        0        0  ...   271409   271409   \n",
            "3          0        0        0        0        0  ...    47860    47860   \n",
            "4          0        0        0        0        0  ...   105184   105184   \n",
            "..       ...      ...      ...      ...      ...  ...      ...      ...   \n",
            "284        0        0        0        0        0  ...   703228   703228   \n",
            "285        0        0        0        0        0  ...      535      535   \n",
            "286        0        0        0        0        0  ...    11945    11945   \n",
            "287        0        0        0        0        0  ...   342288   342317   \n",
            "288        0        0        0        0        0  ...   263083   263083   \n",
            "\n",
            "     2/14/23  2/15/23  2/16/23  2/17/23  2/18/23  2/19/23  2/20/23  2/21/23  \n",
            "0     209036   209056   209072   209083   209084   209107   209153   209181  \n",
            "1     334264   334264   334273   334291   334305   334314   334315   334336  \n",
            "2     271409   271421   271424   271424   271425   271425   271426   271428  \n",
            "3      47860    47860    47866    47866    47866    47866    47866    47866  \n",
            "4     105184   105184   105184   105184   105184   105184   105184   105184  \n",
            "..       ...      ...      ...      ...      ...      ...      ...      ...  \n",
            "284   703228   703228   703228   703228   703228   703228   703228   703228  \n",
            "285      535      535      535      535      535      535      535      535  \n",
            "286    11945    11945    11945    11945    11945    11945    11945    11945  \n",
            "287   342317   342317   342317   342317   342317   342317   342724   342782  \n",
            "288   263083   263642   263642   263642   263642   263642   263642   263642  \n",
            "\n",
            "[289 rows x 1131 columns]\n",
            "<class 'pandas.core.frame.DataFrame'>\n",
            "RangeIndex: 289 entries, 0 to 288\n",
            "Columns: 1131 entries, Province/State to 2/21/23\n",
            "dtypes: int64(1127), object(4)\n",
            "memory usage: 2.5+ MB\n",
            "None\n"
          ]
        }
      ]
    },
    {
      "cell_type": "markdown",
      "source": [
        "Again, there are a lot of countries we do not need the data of. Filter the dataframe to only contain records of the UK (be precise here) and overwrite the original dataframe with the filtered one."
      ],
      "metadata": {
        "id": "D9BK4l8Wl6-e"
      }
    },
    {
      "cell_type": "code",
      "source": [
        "# TODO - Filter and overwrite the dataframe of cases.\n",
        "df_cases = df_cases.loc[(df_cases['Province/State'] == 'N/A') & (df_cases['Country/Region'] == 'United Kingdom')]\n",
        "print(df_cases)"
      ],
      "metadata": {
        "id": "pOa0oe0-oDd6",
        "colab": {
          "base_uri": "https://localhost:8080/"
        },
        "outputId": "6ca91595-878f-4654-9c80-60d0f497d3e2"
      },
      "execution_count": 76,
      "outputs": [
        {
          "output_type": "stream",
          "name": "stdout",
          "text": [
            "    Province/State  Country/Region      Lat   Long  1/22/20  1/23/20  1/24/20  \\\n",
            "278            N/A  United Kingdom  55.3781 -3.436        0        0        0   \n",
            "\n",
            "     1/25/20  1/26/20  1/27/20  ...   2/12/23   2/13/23   2/14/23   2/15/23  \\\n",
            "278        0        0        0  ...  24315979  24315979  24315979  24315979   \n",
            "\n",
            "      2/16/23   2/17/23   2/18/23   2/19/23   2/20/23   2/21/23  \n",
            "278  24341611  24341611  24341611  24341611  24341611  24341611  \n",
            "\n",
            "[1 rows x 1131 columns]\n"
          ]
        }
      ]
    },
    {
      "cell_type": "markdown",
      "source": [
        "Some might think we are done now with this dataset, but this dataset has a nasty characteristic. Namely, it is [*wide*](https://en.wikipedia.org/wiki/Wide_and_narrow_data), and quite *wide*, to say the least. Libraries written for Python and other programming languages hardly support this kind of data shape. Therefore, we want to change the shape of the data to the *narrow* format.\n",
        "</br></br>\n",
        "In essence, we would like one column for the date and one column for the confirmed cases. Thus, we need to put the column names in a new variable name called ``date`` and link the corresponding case numbers to the right row.\n",
        "</br></br>\n",
        "Convert the dataframe to a *narrow* format. After understanding the concepts by reading the Wikipedia page linked before, use Pandas' [``melt``](https://pandas.pydata.org/docs/reference/api/pandas.melt.html) implementation to achieve this."
      ],
      "metadata": {
        "id": "oSMiKE20n8Va"
      }
    },
    {
      "cell_type": "code",
      "source": [
        "# TODO - Convert the dataframe from wide to narrow format.\n",
        "id_vars = df_cases.loc[:, ['Province/State']]\n",
        "value_vars = df_cases.loc[:, df_cases.columns != 'Province/State']\n",
        "df_cases = pd.melt(df_cases, id_vars == id_vars, value_vars == value_vars, var_name='date', value_name='Cases', ignore_index=True)\n",
        "print(df_cases)"
      ],
      "metadata": {
        "id": "4289VUhkrPdh",
        "colab": {
          "base_uri": "https://localhost:8080/"
        },
        "outputId": "01bf5586-ce20-46d0-c0b8-4494a67045b1"
      },
      "execution_count": 77,
      "outputs": [
        {
          "output_type": "stream",
          "name": "stdout",
          "text": [
            "     Province/State            date           Cases\n",
            "0               N/A  Country/Region  United Kingdom\n",
            "1               N/A             Lat         55.3781\n",
            "2               N/A            Long          -3.436\n",
            "3               N/A         1/22/20               0\n",
            "4               N/A         1/23/20               0\n",
            "...             ...             ...             ...\n",
            "1125            N/A         2/17/23        24341611\n",
            "1126            N/A         2/18/23        24341611\n",
            "1127            N/A         2/19/23        24341611\n",
            "1128            N/A         2/20/23        24341611\n",
            "1129            N/A         2/21/23        24341611\n",
            "\n",
            "[1130 rows x 3 columns]\n"
          ]
        }
      ]
    },
    {
      "cell_type": "code",
      "source": [
        "df_casesdropped = df_cases.drop(columns=['Province/State'])\n",
        "print(df_casesdropped)"
      ],
      "metadata": {
        "colab": {
          "base_uri": "https://localhost:8080/"
        },
        "id": "0zjdFFkFtZF5",
        "outputId": "d91ce541-df37-4578-cb87-234c38568547"
      },
      "execution_count": 78,
      "outputs": [
        {
          "output_type": "stream",
          "name": "stdout",
          "text": [
            "                date           Cases\n",
            "0     Country/Region  United Kingdom\n",
            "1                Lat         55.3781\n",
            "2               Long          -3.436\n",
            "3            1/22/20               0\n",
            "4            1/23/20               0\n",
            "...              ...             ...\n",
            "1125         2/17/23        24341611\n",
            "1126         2/18/23        24341611\n",
            "1127         2/19/23        24341611\n",
            "1128         2/20/23        24341611\n",
            "1129         2/21/23        24341611\n",
            "\n",
            "[1130 rows x 2 columns]\n"
          ]
        }
      ]
    },
    {
      "cell_type": "code",
      "source": [
        "df_rowdropped = df_casesdropped.iloc[11:]\n",
        "print(df_rowdropped)"
      ],
      "metadata": {
        "colab": {
          "base_uri": "https://localhost:8080/"
        },
        "id": "aA45RjkNtcWf",
        "outputId": "4a367719-2f07-4982-8414-f48829328fc8"
      },
      "execution_count": 79,
      "outputs": [
        {
          "output_type": "stream",
          "name": "stdout",
          "text": [
            "         date     Cases\n",
            "11    1/30/20         0\n",
            "12    1/31/20         2\n",
            "13     2/1/20         2\n",
            "14     2/2/20         2\n",
            "15     2/3/20         8\n",
            "...       ...       ...\n",
            "1125  2/17/23  24341611\n",
            "1126  2/18/23  24341611\n",
            "1127  2/19/23  24341611\n",
            "1128  2/20/23  24341611\n",
            "1129  2/21/23  24341611\n",
            "\n",
            "[1119 rows x 2 columns]\n"
          ]
        }
      ]
    },
    {
      "cell_type": "code",
      "source": [
        "df_cases_filter= df_rowdropped.iloc[:1067]\n",
        "df_cases_filter = df_cases_filter.reset_index(drop = True)\n",
        "print(df_cases_filter)\n"
      ],
      "metadata": {
        "colab": {
          "base_uri": "https://localhost:8080/"
        },
        "id": "QWsPrsx4tsfC",
        "outputId": "6f7b86fb-d5e1-4bc9-9f70-d2c8b4c027fe"
      },
      "execution_count": 80,
      "outputs": [
        {
          "output_type": "stream",
          "name": "stdout",
          "text": [
            "          date     Cases\n",
            "0      1/30/20         0\n",
            "1      1/31/20         2\n",
            "2       2/1/20         2\n",
            "3       2/2/20         2\n",
            "4       2/3/20         8\n",
            "...        ...       ...\n",
            "1062  12/27/22  24135080\n",
            "1063  12/28/22  24135080\n",
            "1064  12/29/22  24135080\n",
            "1065  12/30/22  24135080\n",
            "1066  12/31/22  24135080\n",
            "\n",
            "[1067 rows x 2 columns]\n"
          ]
        }
      ]
    },
    {
      "cell_type": "markdown",
      "source": [
        "Now, we would like to convert the date column of data type ``string`` to the data type ``datetime``, because we want to link the time series datasets that we now have parsed to each other and make one big, complete dataset. This is not as easy as it was for the previous dataset, and you will probably find out why."
      ],
      "metadata": {
        "id": "spfwZAvLcQSs"
      }
    },
    {
      "cell_type": "code",
      "source": [
        "# TODO - Convert the values of the date column to the datetime data type.\n",
        "df_cases_filter['date'] = pd.to_datetime(df_cases_filter['date'])\n",
        "print(df_cases_filter)\n",
        "print(df_cases_filter.dtypes)\n",
        "     \n"
      ],
      "metadata": {
        "id": "fPc3C3lvdJTE",
        "colab": {
          "base_uri": "https://localhost:8080/"
        },
        "outputId": "15a20a6c-a084-427f-ab98-ec6b50aa8358"
      },
      "execution_count": 81,
      "outputs": [
        {
          "output_type": "stream",
          "name": "stdout",
          "text": [
            "           date     Cases\n",
            "0    2020-01-30         0\n",
            "1    2020-01-31         2\n",
            "2    2020-02-01         2\n",
            "3    2020-02-02         2\n",
            "4    2020-02-03         8\n",
            "...         ...       ...\n",
            "1062 2022-12-27  24135080\n",
            "1063 2022-12-28  24135080\n",
            "1064 2022-12-29  24135080\n",
            "1065 2022-12-30  24135080\n",
            "1066 2022-12-31  24135080\n",
            "\n",
            "[1067 rows x 2 columns]\n",
            "date     datetime64[ns]\n",
            "Cases            object\n",
            "dtype: object\n"
          ]
        }
      ]
    },
    {
      "cell_type": "markdown",
      "source": [
        "### Merging Dataframes\n",
        "Now, we would like to merge the dataframes of the COVID-19 cases and COVID-19 policy stringency with eachother, so that for each date that is present in both dataframes we have one observation for the stringency and the number of cases. We will use [Pandas' implementation](https://pandas.pydata.org/docs/reference/api/pandas.DataFrame.merge.html) of a merge function."
      ],
      "metadata": {
        "id": "8UXSCwxHg1Gi"
      }
    },
    {
      "cell_type": "code",
      "source": [
        "# TODO - Merge \"df_cases\" with \"df_stringency\" and save the result in a variable called \"df_cases_stringency\".\n",
        "df_cases_stringency = pd.merge(df_cases_filter, df_stringency_filter, on = ['date'])\n",
        "\n",
        "print(df_cases_stringency)"
      ],
      "metadata": {
        "id": "kgyVsh8zhYkP",
        "colab": {
          "base_uri": "https://localhost:8080/"
        },
        "outputId": "7fba56c6-a632-401d-dbdd-63b0d8a3b59c"
      },
      "execution_count": 82,
      "outputs": [
        {
          "output_type": "stream",
          "name": "stdout",
          "text": [
            "           date     Cases  stringency_index\n",
            "0    2020-01-30         0              5.56\n",
            "1    2020-01-31         2              8.33\n",
            "2    2020-02-01         2              8.33\n",
            "3    2020-02-02         2             11.11\n",
            "4    2020-02-03         8             11.11\n",
            "...         ...       ...               ...\n",
            "1062 2022-12-27  24135080              5.56\n",
            "1063 2022-12-28  24135080              5.56\n",
            "1064 2022-12-29  24135080              5.56\n",
            "1065 2022-12-30  24135080              5.56\n",
            "1066 2022-12-31  24135080              5.56\n",
            "\n",
            "[1067 rows x 3 columns]\n"
          ]
        }
      ]
    },
    {
      "cell_type": "markdown",
      "source": [
        "Upon inspecting the data, we can see that there are some missing observations for the stringency index, probably because the stringency data does not go as far in time as the cases dataset. To clean this up, we would like to drop these missing values."
      ],
      "metadata": {
        "id": "2v8hP7FCiN-I"
      }
    },
    {
      "cell_type": "code",
      "source": [
        "# TODO - Drop the missing values in the dataset.\n",
        "# Done that above "
      ],
      "metadata": {
        "id": "OzT7B2VQi597"
      },
      "execution_count": null,
      "outputs": []
    },
    {
      "cell_type": "markdown",
      "source": [
        "After having edited data with code that takes a bit to run, you usually want to save your progress by downloading the dataset. (In more advanced projects, you would maybe use a database when using computationally expensive operations). Thus, download your dataset. You can use the previously installed ``files`` Colabs library for this. Download the dataset as ``cases_stringency.csv``. Make sure to exclude the index in the dataframe to CSV conversion step."
      ],
      "metadata": {
        "id": "u6QfU6-3i9kn"
      }
    },
    {
      "cell_type": "code",
      "source": [
        "# TODO - Convert the dataframe to a CSV file and download it.\n",
        "from google.colab import files\n",
        "df_cases_stringency.to_csv('COVID_cases_and_stringency.csv', encoding = 'utf-8-sig') \n",
        "files.download('COVID_cases_and_stringency.csv')"
      ],
      "metadata": {
        "id": "XdaUbltCldrK",
        "colab": {
          "base_uri": "https://localhost:8080/",
          "height": 17
        },
        "outputId": "99f37bb1-fe0b-41db-ee0a-b623001087a5"
      },
      "execution_count": 83,
      "outputs": [
        {
          "output_type": "display_data",
          "data": {
            "text/plain": [
              "<IPython.core.display.Javascript object>"
            ],
            "application/javascript": [
              "\n",
              "    async function download(id, filename, size) {\n",
              "      if (!google.colab.kernel.accessAllowed) {\n",
              "        return;\n",
              "      }\n",
              "      const div = document.createElement('div');\n",
              "      const label = document.createElement('label');\n",
              "      label.textContent = `Downloading \"${filename}\": `;\n",
              "      div.appendChild(label);\n",
              "      const progress = document.createElement('progress');\n",
              "      progress.max = size;\n",
              "      div.appendChild(progress);\n",
              "      document.body.appendChild(div);\n",
              "\n",
              "      const buffers = [];\n",
              "      let downloaded = 0;\n",
              "\n",
              "      const channel = await google.colab.kernel.comms.open(id);\n",
              "      // Send a message to notify the kernel that we're ready.\n",
              "      channel.send({})\n",
              "\n",
              "      for await (const message of channel.messages) {\n",
              "        // Send a message to notify the kernel that we're ready.\n",
              "        channel.send({})\n",
              "        if (message.buffers) {\n",
              "          for (const buffer of message.buffers) {\n",
              "            buffers.push(buffer);\n",
              "            downloaded += buffer.byteLength;\n",
              "            progress.value = downloaded;\n",
              "          }\n",
              "        }\n",
              "      }\n",
              "      const blob = new Blob(buffers, {type: 'application/binary'});\n",
              "      const a = document.createElement('a');\n",
              "      a.href = window.URL.createObjectURL(blob);\n",
              "      a.download = filename;\n",
              "      div.appendChild(a);\n",
              "      a.click();\n",
              "      div.remove();\n",
              "    }\n",
              "  "
            ]
          },
          "metadata": {}
        },
        {
          "output_type": "display_data",
          "data": {
            "text/plain": [
              "<IPython.core.display.Javascript object>"
            ],
            "application/javascript": [
              "download(\"download_c68bfc0a-553d-4e44-a32d-d5c4e5d2dc30\", \"COVID_cases_and_stringency.csv\", 30573)"
            ]
          },
          "metadata": {}
        }
      ]
    },
    {
      "cell_type": "markdown",
      "source": [
        "### Average Sentiment\n",
        "Now, in the data collection part of this project we only have left the task of collecting data on the average sentiment of how people express themselves online."
      ],
      "metadata": {
        "id": "C_Wv1iKpmdo6"
      }
    },
    {
      "cell_type": "markdown",
      "source": [
        "#### Scraping Tweets\n",
        "In this section, we will start scraping tweets from the UK in the same time period as variables ``stringency_index`` and ``cases`` are recorded in. In an academic setting, you might prefer to use an official Twitter API, but this can take a while to be admitted to. Additionally, few compromises are made by using an unofficial Twitter scraper.\n",
        "</br></br>\n",
        "If you have left off since everything before this code chunk and your Google Colabs runtime has restarted, you can optionally load the dataset you created in the previous parts with the code below."
      ],
      "metadata": {
        "id": "UVZi_0ONKq5p"
      }
    },
    {
      "cell_type": "code",
      "source": [
        "df_cases_stringency = upload_datasets()[0]"
      ],
      "metadata": {
        "id": "VBqdIVq2fM0V",
        "colab": {
          "base_uri": "https://localhost:8080/",
          "height": 169
        },
        "outputId": "a8835be0-66f6-4b72-ffda-1c40fe44e37b"
      },
      "execution_count": 84,
      "outputs": [
        {
          "output_type": "error",
          "ename": "NameError",
          "evalue": "ignored",
          "traceback": [
            "\u001b[0;31m---------------------------------------------------------------------------\u001b[0m",
            "\u001b[0;31mNameError\u001b[0m                                 Traceback (most recent call last)",
            "\u001b[0;32m<ipython-input-84-bf58088eb4b2>\u001b[0m in \u001b[0;36m<module>\u001b[0;34m\u001b[0m\n\u001b[0;32m----> 1\u001b[0;31m \u001b[0mdf_cases_stringency\u001b[0m \u001b[0;34m=\u001b[0m \u001b[0mupload_datasets\u001b[0m\u001b[0;34m(\u001b[0m\u001b[0;34m)\u001b[0m\u001b[0;34m[\u001b[0m\u001b[0;36m0\u001b[0m\u001b[0;34m]\u001b[0m\u001b[0;34m\u001b[0m\u001b[0;34m\u001b[0m\u001b[0m\n\u001b[0m",
            "\u001b[0;31mNameError\u001b[0m: name 'upload_datasets' is not defined"
          ]
        }
      ]
    },
    {
      "cell_type": "markdown",
      "source": [
        "First, we install a library that allows us to easily scrape tweets from Twitter."
      ],
      "metadata": {
        "id": "IvQYiYAGfLum"
      }
    },
    {
      "cell_type": "code",
      "source": [
        "!pip install snscrape --quiet"
      ],
      "metadata": {
        "id": "PgF_HqaSKsTp",
        "colab": {
          "base_uri": "https://localhost:8080/"
        },
        "outputId": "00e8e908-c046-41c3-9216-da2fddb8430e"
      },
      "execution_count": 86,
      "outputs": [
        {
          "output_type": "stream",
          "name": "stdout",
          "text": [
            "\u001b[?25l     \u001b[90m━━━━━━━━━━━━━━━━━━━━━━━━━━━━━━━━━━━━━━━━\u001b[0m \u001b[32m0.0/69.2 KB\u001b[0m \u001b[31m?\u001b[0m eta \u001b[36m-:--:--\u001b[0m\r\u001b[2K     \u001b[90m━━━━━━━━━━━━━━━━━━━━━━━━━━━━━━━━━━━━━━━━\u001b[0m \u001b[32m69.2/69.2 KB\u001b[0m \u001b[31m3.5 MB/s\u001b[0m eta \u001b[36m0:00:00\u001b[0m\n",
            "\u001b[?25h"
          ]
        }
      ]
    },
    {
      "cell_type": "markdown",
      "source": [
        "Importing the scraping library."
      ],
      "metadata": {
        "id": "qEL1YIa3Vzx4"
      }
    },
    {
      "cell_type": "code",
      "source": [
        "import snscrape.modules.twitter as sntwitter"
      ],
      "metadata": {
        "id": "LjaDhGWXV8xd"
      },
      "execution_count": 87,
      "outputs": []
    },
    {
      "cell_type": "markdown",
      "source": [
        "We will have to define the date range we want to scrape data from before we start scraping tweets. A useful function for this is Pandas' [``date_range``](https://pandas.pydata.org/docs/reference/api/pandas.date_range.html). Define a date range that starts from the earliest date all the way to the last date in your dataframe ``df_cases_stringency``. Store this range of dates in a variable called ``date_range``."
      ],
      "metadata": {
        "id": "FBNc2EKonkt2"
      }
    },
    {
      "cell_type": "code",
      "source": [
        "# TODO - Define the date range.\n",
        "date_range = pd.date_range(start='1/1/2020', end='1/1/2023')"
      ],
      "metadata": {
        "id": "oqIFugCXoSu6"
      },
      "execution_count": 88,
      "outputs": []
    },
    {
      "cell_type": "markdown",
      "source": [
        "Defining a list to store the tweets in."
      ],
      "metadata": {
        "id": "X7H18ZOUo5ZT"
      }
    },
    {
      "cell_type": "code",
      "source": [
        "tweets = []"
      ],
      "metadata": {
        "id": "fGRwhtEho7ba"
      },
      "execution_count": 89,
      "outputs": []
    },
    {
      "cell_type": "markdown",
      "source": [
        "Defining the number of tweets to be scraped per day. You can change this number to your liking. I would recommend to try running the code with this number first and possibly increasing it later when sure the code works so wasting computation time can be prevented."
      ],
      "metadata": {
        "id": "7k2LoAa6ovnd"
      }
    },
    {
      "cell_type": "code",
      "source": [
        "tweets_per_day = 10"
      ],
      "metadata": {
        "id": "bUNAgrzTo-tH"
      },
      "execution_count": 90,
      "outputs": []
    },
    {
      "cell_type": "markdown",
      "source": [
        "As we want to scrape tweets published from the UK, we need to tell this to our scraper. As it so happens, Twitter uses geographic tags users can choose to attach to their tweets. (There are some problems of representativeness with this approach discussed [here](https://developer.twitter.com/en/docs/tutorials/advanced-filtering-for-geo-data) if you are interested.) The UK tag is ``6416b8512febefc9``. If needed while exploring the **optional** further exercises, you can find tags of other countries via the following Twitter API: ``f\"https://api.twitter.com/1.1/geo/reverse_geocode.json?lat={latitude}&lon={longitude}&granularity=country\"``. You would format the string based on your latitude and longitude variables before plugging the link in your browser or Python API module of choice. Documentation for this API can be found [here](https://developer.twitter.com/en/docs/twitter-api/v1/geo/places-near-location/api-reference/get-geo-reverse_geocode)."
      ],
      "metadata": {
        "id": "5MG-Qse2pfPB"
      }
    },
    {
      "cell_type": "markdown",
      "source": [
        "Now, we can start scraping. To get you started with the functionality of the ``snscrape`` module, I have written a simple piece of code that you can run to understand how this module can be used."
      ],
      "metadata": {
        "id": "pdPZ4bs7pDtY"
      }
    },
    {
      "cell_type": "code",
      "source": [
        "# Demonstrating the working of the \"enumerate\" function.\n",
        "text_list = [\"This\", \"is\", \"how\", \"enumerate\", \"works.\"]\n",
        "for i, text in enumerate(text_list):\n",
        "  print(i, text)\n",
        "\n",
        "# Storing the place ID for the UK.\n",
        "place_id = \"6416b8512febefc9\"\n",
        "\n",
        "# Defining the search query for our Twitter scraper.\n",
        "# The keyword \"lang:en\" will filter for English tweets only.\n",
        "# The keywords \"since:date\" and \"until:date\" define the time range the tweet has to be from.\n",
        "# \"until\" is exclusive, meaning no tweets are scraped from \"2020-05-20\". \"since\" is inclusive.\n",
        "scraped_tweets = sntwitter.TwitterSearchScraper(f\"lang:en place:{place_id} since:2020-05-19 until:2020-05-20\").get_items()\n",
        "\n",
        "# This piece of code will print 5 tweets.\n",
        "# For each iteration in the loop, the scraper will scroll to the next tweet in the feed returned by Twitter.\n",
        "for i, tweet in enumerate(scraped_tweets):\n",
        "  print(tweet.rawContent)\n",
        "  print(tweet.date)\n",
        "  # We will only need the rawContent and date properties of the tweet.\n",
        "  # tweet.rawContent gives the text of the tweet (string)\n",
        "  # tweet.date gives the date and time of the tweet (datetime)\n",
        "  # For more properties, see line 60 and onwards of https://github.com/JustAnotherArchivist/snscrape/blob/master/snscrape/modules/twitter.py.\n",
        "\n",
        "  # Stopping the loop.\n",
        "  if i == 4:\n",
        "    break"
      ],
      "metadata": {
        "id": "1YAfwwvwnt3j",
        "colab": {
          "base_uri": "https://localhost:8080/"
        },
        "outputId": "ee8e168a-29e5-4c7c-bdc3-022acd473f19"
      },
      "execution_count": 91,
      "outputs": [
        {
          "output_type": "stream",
          "name": "stdout",
          "text": [
            "0 This\n",
            "1 is\n",
            "2 how\n",
            "3 enumerate\n",
            "4 works.\n",
            "@OrinKerr I hope they don’t honour the subpoenas. Take it all the way to the Supreme Court, just like these scoundrels have done.\n",
            "2020-05-19 23:38:39+00:00\n",
            "Almost at 500 followers this is exciting 😁 We are feeling the love 😍\n",
            ".\n",
            ".\n",
            "#ChihuahuaLover #twitterdogs #milonmily\n",
            "#lockdown #dogcelebration #dog #dogs #doggy #dogsduringlockdown #doglover #dogsoftwitter #doglovers #Chihuahua #cute #RETWEEET #RT https://t.co/GAmHwJTLBk\n",
            "2020-05-19 22:59:36+00:00\n",
            "Conscious Co. #Gin is a rather eye-catching gin distilled from surplus potatoes that weren't so eye-catching and would have otherwise gone to waste! Plus, six local botanicals make for one fragrant tipple.\n",
            "\n",
            "https://t.co/45a8IPB6Rv https://t.co/BgtYbKLvrf\n",
            "2020-05-19 22:31:02+00:00\n",
            "@carolynewart @BASW_UK @BASW_NI Unity is strength, great contributions tonight, all messages highlightied the importance of being part of the international community of social work. Thank you @ScotsSW @AngieBartoli\n",
            "@BASW_Cymru @IFSW\n",
            "2020-05-19 21:53:01+00:00\n",
            "@MoorghenGavin @BASW_UK Very powerful presentation Bekki, thank you for sharing your  personal and professional social work journey @BASW_UK\n",
            "2020-05-19 21:26:24+00:00\n"
          ]
        }
      ]
    },
    {
      "cell_type": "markdown",
      "source": [
        "Now that you hopefully understand how this module works, I want you to write a function called ``scrape_time_range``.  This function will have to return a list of scraped tweets, containing the raw content and date for each tweet in the list.\n",
        "</br></br>\n",
        "This function should take four arguments:\n",
        "1. A list to append the scraped tweets to.\n",
        "2. The place ID.\n",
        "3. The date range.\n",
        "4. The number of tweets to be scraped per day.\n",
        "\n",
        "You want this function to iterate over the dates in the date range first, before defining the search query for that day and scraping the desired number of tweets. Notice that the dates stored in the previously created ``date_range`` are of the data type ``datetime``. They can be converted to strings by using the function [``strftime``](https://pandas.pydata.org/docs/reference/api/pandas.Series.dt.strftime.html). You can format the desired output strings with the following keywords:\n",
        "* ``%Y`` which corresponds to YYYY.\n",
        "* ``%m`` which corresponds to mm.\n",
        "* ``%d`` which corresponds to dd.\n",
        "\n",
        "Make sure to take care of the hypens in these dates, too, when converting the date range, as your Twitter search query will be invalid without them. The same applies to the order of the year, month and date in the string.\n",
        "</br></br>\n",
        "**Hint:** wrap the output of ``date_range.strftime()`` in ``list()`` to convert the Numpy object to a Python list, which is more convenient in this instance."
      ],
      "metadata": {
        "id": "gaRxDrlytsTd"
      }
    },
    {
      "cell_type": "code",
      "source": [
        "# TODO\n",
        "# 1. Convert the date range to a list of date strings.\n",
        "date_range_list = list(date_range.strftime('%Y-%m-%d'))\n",
        "# 2. Write the scraping function.\n",
        "place_id = '6416b8512febefc9'\n",
        "def scrape_time_range(list_of_tweets, place_ID, Date_Range, tweets_per_day):\n",
        "  index = 0\n",
        "  for date in Date_Range:\n",
        "    start_date = date\n",
        "    index += 1\n",
        "    if index == len(Date_Range):\n",
        "      break\n",
        "    else:\n",
        "      end_date = Date_Range[index]\n",
        "      scraped_tweets = sntwitter.TwitterSearchScraper(f\"lang:en place:{place_ID} since:{start_date} until:{end_date}\").get_items()\n",
        "      for i, tweet in enumerate(scraped_tweets):\n",
        "        list_of_tweets.append([tweet.rawContent, tweet.date])\n",
        "        if i == tweets_per_day - 1:\n",
        "          break            \n",
        "  return list_of_tweets"
      ],
      "metadata": {
        "id": "KjWbM3VUvEod"
      },
      "execution_count": 92,
      "outputs": []
    },
    {
      "cell_type": "markdown",
      "source": [
        "Call your scraping function.\n",
        "**Warning:** with 10 tweets a day this takes about 40 minutes to run and at a later stage the tweet classification task with the best model would take around 6 hours (but you can do this in batches of course)."
      ],
      "metadata": {
        "id": "Z9WZV9Rs2GDz"
      }
    },
    {
      "cell_type": "code",
      "source": [
        "# TODO - Call it.\n",
        "scrape_time_range(tweets, place_id, date_range_list, 10)"
      ],
      "metadata": {
        "id": "K5y7RyOP4Tlg"
      },
      "execution_count": null,
      "outputs": []
    },
    {
      "cell_type": "markdown",
      "source": [
        "Now, we would like to convert the list of tweets to a dataframe and a CSV file to save our progress. Call the dataframe ``df_tweets`` and the CSV file ``tweets.csv``."
      ],
      "metadata": {
        "id": "VTgGgrTe2AIE"
      }
    },
    {
      "cell_type": "code",
      "source": [
        "# TODO - Convert the list of tweets to a dataframe and a CSV file.\n",
        "df_tweets = pd.DataFrame(tweets)\n",
        "df_tweets.to_csv('twwets.csv', index = False)\n"
      ],
      "metadata": {
        "id": "8sNpOp3V4Q1V"
      },
      "execution_count": null,
      "outputs": []
    },
    {
      "cell_type": "code",
      "source": [
        "from google.colab import files \n",
        "files.download ('tweets.csv')"
      ],
      "metadata": {
        "id": "wSXQaWmRB693",
        "outputId": "da7fa6af-1441-4494-f0c4-8214a9f798e8",
        "colab": {
          "base_uri": "https://localhost:8080/",
          "height": 312
        }
      },
      "execution_count": 93,
      "outputs": [
        {
          "output_type": "error",
          "ename": "FileNotFoundError",
          "evalue": "ignored",
          "traceback": [
            "\u001b[0;31m---------------------------------------------------------------------------\u001b[0m",
            "\u001b[0;31mFileNotFoundError\u001b[0m                         Traceback (most recent call last)",
            "\u001b[0;32m<ipython-input-93-0ee15296763c>\u001b[0m in \u001b[0;36m<module>\u001b[0;34m\u001b[0m\n\u001b[1;32m      1\u001b[0m \u001b[0;32mfrom\u001b[0m \u001b[0mgoogle\u001b[0m\u001b[0;34m.\u001b[0m\u001b[0mcolab\u001b[0m \u001b[0;32mimport\u001b[0m \u001b[0mfiles\u001b[0m\u001b[0;34m\u001b[0m\u001b[0;34m\u001b[0m\u001b[0m\n\u001b[0;32m----> 2\u001b[0;31m \u001b[0mfiles\u001b[0m\u001b[0;34m.\u001b[0m\u001b[0mdownload\u001b[0m \u001b[0;34m(\u001b[0m\u001b[0;34m'tweets.csv'\u001b[0m\u001b[0;34m)\u001b[0m\u001b[0;34m\u001b[0m\u001b[0;34m\u001b[0m\u001b[0m\n\u001b[0m",
            "\u001b[0;32m/usr/local/lib/python3.8/dist-packages/google/colab/files.py\u001b[0m in \u001b[0;36mdownload\u001b[0;34m(filename)\u001b[0m\n\u001b[1;32m    207\u001b[0m   \u001b[0;32mif\u001b[0m \u001b[0;32mnot\u001b[0m \u001b[0m_os\u001b[0m\u001b[0;34m.\u001b[0m\u001b[0mpath\u001b[0m\u001b[0;34m.\u001b[0m\u001b[0mexists\u001b[0m\u001b[0;34m(\u001b[0m\u001b[0mfilename\u001b[0m\u001b[0;34m)\u001b[0m\u001b[0;34m:\u001b[0m\u001b[0;34m\u001b[0m\u001b[0;34m\u001b[0m\u001b[0m\n\u001b[1;32m    208\u001b[0m     \u001b[0mmsg\u001b[0m \u001b[0;34m=\u001b[0m \u001b[0;34m'Cannot find file: {}'\u001b[0m\u001b[0;34m.\u001b[0m\u001b[0mformat\u001b[0m\u001b[0;34m(\u001b[0m\u001b[0mfilename\u001b[0m\u001b[0;34m)\u001b[0m\u001b[0;34m\u001b[0m\u001b[0;34m\u001b[0m\u001b[0m\n\u001b[0;32m--> 209\u001b[0;31m     \u001b[0;32mraise\u001b[0m \u001b[0mFileNotFoundError\u001b[0m\u001b[0;34m(\u001b[0m\u001b[0mmsg\u001b[0m\u001b[0;34m)\u001b[0m  \u001b[0;31m# pylint: disable=undefined-variable\u001b[0m\u001b[0;34m\u001b[0m\u001b[0;34m\u001b[0m\u001b[0m\n\u001b[0m\u001b[1;32m    210\u001b[0m \u001b[0;34m\u001b[0m\u001b[0m\n\u001b[1;32m    211\u001b[0m   \u001b[0mcomm_manager\u001b[0m \u001b[0;34m=\u001b[0m \u001b[0m_IPython\u001b[0m\u001b[0;34m.\u001b[0m\u001b[0mget_ipython\u001b[0m\u001b[0;34m(\u001b[0m\u001b[0;34m)\u001b[0m\u001b[0;34m.\u001b[0m\u001b[0mkernel\u001b[0m\u001b[0;34m.\u001b[0m\u001b[0mcomm_manager\u001b[0m\u001b[0;34m\u001b[0m\u001b[0;34m\u001b[0m\u001b[0m\n",
            "\u001b[0;31mFileNotFoundError\u001b[0m: Cannot find file: tweets.csv"
          ]
        }
      ]
    },
    {
      "cell_type": "markdown",
      "source": [
        "#### Classifying Tweets\n",
        "If you have left off before this chunk and your Colabs runtime has refreshed in the meantime, load the dataset below."
      ],
      "metadata": {
        "id": "zOiuZ0v8NSKA"
      }
    },
    {
      "cell_type": "code",
      "source": [
        "# Taking the first index of the list of uploaded datasets, as you only upload one.\n",
        "df_tweets = upload_datasets()[0]"
      ],
      "metadata": {
        "id": "Ter9usq7NUal",
        "colab": {
          "base_uri": "https://localhost:8080/",
          "height": 187
        },
        "outputId": "b31c9431-c415-451d-abe2-8b4bf80aa1c9"
      },
      "execution_count": 94,
      "outputs": [
        {
          "output_type": "error",
          "ename": "NameError",
          "evalue": "ignored",
          "traceback": [
            "\u001b[0;31m---------------------------------------------------------------------------\u001b[0m",
            "\u001b[0;31mNameError\u001b[0m                                 Traceback (most recent call last)",
            "\u001b[0;32m<ipython-input-94-9043bea4d00c>\u001b[0m in \u001b[0;36m<module>\u001b[0;34m\u001b[0m\n\u001b[1;32m      1\u001b[0m \u001b[0;31m# Taking the first index of the list of uploaded datasets, as you only upload one.\u001b[0m\u001b[0;34m\u001b[0m\u001b[0;34m\u001b[0m\u001b[0;34m\u001b[0m\u001b[0m\n\u001b[0;32m----> 2\u001b[0;31m \u001b[0mdf_tweets\u001b[0m \u001b[0;34m=\u001b[0m \u001b[0mupload_datasets\u001b[0m\u001b[0;34m(\u001b[0m\u001b[0;34m)\u001b[0m\u001b[0;34m[\u001b[0m\u001b[0;36m0\u001b[0m\u001b[0;34m]\u001b[0m\u001b[0;34m\u001b[0m\u001b[0;34m\u001b[0m\u001b[0m\n\u001b[0m",
            "\u001b[0;31mNameError\u001b[0m: name 'upload_datasets' is not defined"
          ]
        }
      ]
    },
    {
      "cell_type": "markdown",
      "source": [
        "At this stage, we need to define a function that cleans the tweets. Namely, users and tweets mentioned in tweets might confuse the classification model that we will use at a later stage. This is possible if usernames and links have words in them that would refer to a certain sentiment but are not used for that purpose in natural text. Thus, we need to neutralise these words in the tweets. Create a function that converts all users (in the form of ``@username``) to \"``@user``\" and all links (in the form of ``https://`` to \"``https``\". Call it ``neutralise_mentions_links`` and make it so that it takes one argument called ``text``.\n",
        "</br></br>\n",
        "Use the ``.split()`` function of strings in Python. Mentions start with \"@\", links with \"https://\". "
      ],
      "metadata": {
        "id": "xtfCW3fQ5Tne"
      }
    },
    {
      "cell_type": "code",
      "source": [
        "dt_tweets.rename (columns = {'0': 'tweet'}, inplace = True)\n",
        "df_tweets.rename(columns = {'1': 'date'}, inplace = True)"
      ],
      "metadata": {
        "id": "tXoXWGjzKkAH"
      },
      "execution_count": null,
      "outputs": []
    },
    {
      "cell_type": "code",
      "source": [
        "# TODO - Write a function that removes mentions fom and shortens links in a piece of text.\n",
        "def neutralise_mentions_links(text): \n",
        "  new_text = text.split()\n",
        "  for i, string in enumerate(new_text):\n",
        "      if string.startswith('#'): \n",
        "         new_text.remove(string)\n",
        "      if string.startswith('@'): \n",
        "         new_text[i] = '@user'\n",
        "      if string.startswith('https://'): \n",
        "         new_text[i] = 'https'\n",
        "  return new_text "
      ],
      "metadata": {
        "id": "MO6uaFVH5lqf"
      },
      "execution_count": null,
      "outputs": []
    },
    {
      "cell_type": "markdown",
      "source": [
        "Apply the function to all the tweets in the dataframe."
      ],
      "metadata": {
        "id": "K0QIey716y7j"
      }
    },
    {
      "cell_type": "code",
      "source": [
        "# TODO - Apply the function to all tweets in the dataframe.\n",
        "cleaned_tweet = []\n",
        "str_tweet = df_tweets['tweets'].astype('str')\n",
        "for row in str_tweet: \n",
        "    new_row = neutralise_mentions_links(row)\n",
        "    cleaned_tweet.append(new_row)\n",
        "print(cleaned_tweet)"
      ],
      "metadata": {
        "id": "6EmXTEYM8D_n"
      },
      "execution_count": null,
      "outputs": []
    },
    {
      "cell_type": "code",
      "source": [
        "# Adding a column of clean_tweet to the dataset\n",
        "df_tweets['clean_tweet'] = cleaned_tweet\n",
        "print(df_tweets[:5])"
      ],
      "metadata": {
        "id": "yKbmwZSMMoNz"
      },
      "execution_count": null,
      "outputs": []
    },
    {
      "cell_type": "code",
      "source": [
        "# Converting teh dataset into the file.csv\n",
        "df_tweets.to_csv('cleaned_tweet.csv', index = False)\n",
        "from google.colab import files\n",
        "files.download('cleaned_tweets.csv')"
      ],
      "metadata": {
        "id": "mW6bMbQDMyPu"
      },
      "execution_count": null,
      "outputs": []
    },
    {
      "cell_type": "markdown",
      "source": [
        "Now, we would like to classify the sentiment of the tweets in our dataframe. We task an external library with this exercise. The library we will use is ``happytransformer``. First, we install the library."
      ],
      "metadata": {
        "id": "o26msxfu9cX9"
      }
    },
    {
      "cell_type": "code",
      "source": [
        "!pip install happytransformer --quiet"
      ],
      "metadata": {
        "id": "8eacejSm90vb",
        "colab": {
          "base_uri": "https://localhost:8080/"
        },
        "outputId": "0715206f-5227-4824-fd2a-6d50dc7e3f23"
      },
      "execution_count": 95,
      "outputs": [
        {
          "output_type": "stream",
          "name": "stdout",
          "text": [
            "\u001b[2K     \u001b[90m━━━━━━━━━━━━━━━━━━━━━━━━━━━━━━━━━━━━━━━━\u001b[0m \u001b[32m45.5/45.5 KB\u001b[0m \u001b[31m4.3 MB/s\u001b[0m eta \u001b[36m0:00:00\u001b[0m\n",
            "\u001b[2K     \u001b[90m━━━━━━━━━━━━━━━━━━━━━━━━━━━━━━━━━━━━━━━━\u001b[0m \u001b[32m1.3/1.3 MB\u001b[0m \u001b[31m32.5 MB/s\u001b[0m eta \u001b[36m0:00:00\u001b[0m\n",
            "\u001b[2K     \u001b[90m━━━━━━━━━━━━━━━━━━━━━━━━━━━━━━━━━━━━━━━━\u001b[0m \u001b[32m6.3/6.3 MB\u001b[0m \u001b[31m84.4 MB/s\u001b[0m eta \u001b[36m0:00:00\u001b[0m\n",
            "\u001b[2K     \u001b[90m━━━━━━━━━━━━━━━━━━━━━━━━━━━━━━━━━━━━━━\u001b[0m \u001b[32m469.0/469.0 KB\u001b[0m \u001b[31m35.2 MB/s\u001b[0m eta \u001b[36m0:00:00\u001b[0m\n",
            "\u001b[2K     \u001b[90m━━━━━━━━━━━━━━━━━━━━━━━━━━━━━━━━━━━━━━\u001b[0m \u001b[32m213.0/213.0 KB\u001b[0m \u001b[31m21.2 MB/s\u001b[0m eta \u001b[36m0:00:00\u001b[0m\n",
            "\u001b[2K     \u001b[90m━━━━━━━━━━━━━━━━━━━━━━━━━━━━━━━━━━━━━━\u001b[0m \u001b[32m190.3/190.3 KB\u001b[0m \u001b[31m17.1 MB/s\u001b[0m eta \u001b[36m0:00:00\u001b[0m\n",
            "\u001b[2K     \u001b[90m━━━━━━━━━━━━━━━━━━━━━━━━━━━━━━━━━━━━━━\u001b[0m \u001b[32m132.0/132.0 KB\u001b[0m \u001b[31m15.9 MB/s\u001b[0m eta \u001b[36m0:00:00\u001b[0m\n",
            "\u001b[2K     \u001b[90m━━━━━━━━━━━━━━━━━━━━━━━━━━━━━━━━━━━━━━━━\u001b[0m \u001b[32m7.6/7.6 MB\u001b[0m \u001b[31m69.1 MB/s\u001b[0m eta \u001b[36m0:00:00\u001b[0m\n",
            "\u001b[2K     \u001b[90m━━━━━━━━━━━━━━━━━━━━━━━━━━━━━━━━━━━━━━\u001b[0m \u001b[32m140.6/140.6 KB\u001b[0m \u001b[31m13.5 MB/s\u001b[0m eta \u001b[36m0:00:00\u001b[0m\n",
            "\u001b[?25h"
          ]
        }
      ]
    },
    {
      "cell_type": "markdown",
      "source": [
        "Second, we import the text classification functionality from the library we installed."
      ],
      "metadata": {
        "id": "WkSvc5mO97xo"
      }
    },
    {
      "cell_type": "code",
      "source": [
        "from happytransformer import HappyTextClassification"
      ],
      "metadata": {
        "id": "vQ_7Pgwb9_0I"
      },
      "execution_count": 96,
      "outputs": []
    },
    {
      "cell_type": "markdown",
      "source": [
        "Third, we load the AI model that has been trained on a large dataset of tweets with sentiment labels. We will use this for the analysis. This type of model is called a transformer model which you can read more on [here](https://en.wikipedia.org/wiki/Transformer_(machine_learning_model)."
      ],
      "metadata": {
        "id": "RXZMZTg8bJod"
      }
    },
    {
      "cell_type": "code",
      "source": [
        "happy_tc = HappyTextClassification(model_type=\"BERT\",  model_name=\"cardiffnlp/twitter-roberta-base-sentiment\", num_labels=3)"
      ],
      "metadata": {
        "id": "hKzPNn7XbTqo",
        "colab": {
          "base_uri": "https://localhost:8080/",
          "height": 177,
          "referenced_widgets": [
            "415a933611a545a387e9fa8f9b475e19",
            "d4948854e13540b3ae55b8ebb78cf46b",
            "83900caf6beb4f8ebfbe0f20da33b2db",
            "c49f19e283734fae8f3e68d609576a9e",
            "d6a41c0b4117499e9faa925878ad98c7",
            "2d502a7360634141943b2129dadc7bd6",
            "a88b9e8cbce14e23b7d2ce236a5ca44d",
            "4fbd12038ce24feab052c83a1ab66c15",
            "dfaad856e29c44829fd68588673fa4e8",
            "1550a874c786489f8353086a3ceb8fc3",
            "1156bf25c3f04bd786ec742993ad5a10",
            "0b806610b29946c9b3a9dcf1ae96563a",
            "16cc8abc0f2d4eba998843855a0d7b42",
            "56c7d0a4418747348e3f3df4cad1b358",
            "a36cbe96a5644e97b847847817fe707b",
            "e5747b3f59344464af4a262a8d12bd30",
            "a5fe54ad4fdb4d2f8f79c4cc4d131420",
            "3d6c68400b3945b698896840ed6baaaf",
            "f4fd213ce5fe4e96955a97b6330b3ab5",
            "5096511ed5dd42b58e40f6af47b40bf0",
            "6df4f04f3ad244e8bd688730a7b219bc",
            "e99d05be81cb477daeb129ec6bf96bca",
            "3eeb16870524451cb62de43b4d0ded80",
            "ec05ae51b13740e2839fe2ed3ee94c53",
            "cbfa4d137b414bd481b78e0c02536241",
            "15f5c17ba7254415a27c74086d147121",
            "880b81611e8549eaaedc28274620d89d",
            "c9958e340d654bcba0e11c5bf47c0b52",
            "a36a232e3a1c4dd1929e5957f78c0988",
            "4ab33c3e4a424449b0fe0c7edc058cdb",
            "8934a215283e4254ad9f06f43ed9bee0",
            "d3b5fe61d30d4e7e84f41a0b43e5deef",
            "85da0889969f4a74a2e3a711259e5a66",
            "7065031f44184809a70ee0aa82dc9d3d",
            "5c61dcc18c42455084cfb4ff1f78af3d",
            "554e3407e2744a7e96a088b84cf79b58",
            "663e21184a6449dfadafdfb346370968",
            "dbeb2096a34a49739fe5aef99b1b40b4",
            "d5f856044ea14e94aaf05514cd81e4a1",
            "60875185ea334fd4b85d236e5e5c77d4",
            "671936a899cb439a8e6ae9c5454aace8",
            "ae83e55ec8e3410eb809928ab5da6b04",
            "339ce9dd429543d7bdbe06188121beff",
            "ced95e58098f491588b11e8d8dc8e238",
            "71e6ee8e9ece41488ac0dc8f2b86bf9d",
            "a4c717c4c3ad464c9d187907fb56951f",
            "a06a1c7056484832819ab7e7d2ad3779",
            "af63a630fd554bd1b43ca65f255f2d53",
            "e45fe38b16764ac799dcaf714a8d433d",
            "5f2b0968d78a4a96ab66b7e942772ca1",
            "6e847f6d5a6f45bba952dadd7cf19f78",
            "5749fabaca6e4cca8842f3abdd062b1b",
            "449b3752d5054b6ba9687dc36eb6968c",
            "28b31661b3a44d42ab60626c78df90da",
            "d25fd69f7b32420c81ad19e9fb5ea1a7"
          ]
        },
        "outputId": "c63a91fc-d0bc-412c-93ee-c61cb62b3f33"
      },
      "execution_count": 97,
      "outputs": [
        {
          "output_type": "display_data",
          "data": {
            "text/plain": [
              "Downloading (…)lve/main/config.json:   0%|          | 0.00/747 [00:00<?, ?B/s]"
            ],
            "application/vnd.jupyter.widget-view+json": {
              "version_major": 2,
              "version_minor": 0,
              "model_id": "415a933611a545a387e9fa8f9b475e19"
            }
          },
          "metadata": {}
        },
        {
          "output_type": "display_data",
          "data": {
            "text/plain": [
              "Downloading (…)\"pytorch_model.bin\";:   0%|          | 0.00/499M [00:00<?, ?B/s]"
            ],
            "application/vnd.jupyter.widget-view+json": {
              "version_major": 2,
              "version_minor": 0,
              "model_id": "0b806610b29946c9b3a9dcf1ae96563a"
            }
          },
          "metadata": {}
        },
        {
          "output_type": "display_data",
          "data": {
            "text/plain": [
              "Downloading (…)olve/main/vocab.json:   0%|          | 0.00/899k [00:00<?, ?B/s]"
            ],
            "application/vnd.jupyter.widget-view+json": {
              "version_major": 2,
              "version_minor": 0,
              "model_id": "3eeb16870524451cb62de43b4d0ded80"
            }
          },
          "metadata": {}
        },
        {
          "output_type": "display_data",
          "data": {
            "text/plain": [
              "Downloading (…)olve/main/merges.txt:   0%|          | 0.00/456k [00:00<?, ?B/s]"
            ],
            "application/vnd.jupyter.widget-view+json": {
              "version_major": 2,
              "version_minor": 0,
              "model_id": "7065031f44184809a70ee0aa82dc9d3d"
            }
          },
          "metadata": {}
        },
        {
          "output_type": "display_data",
          "data": {
            "text/plain": [
              "Downloading (…)cial_tokens_map.json:   0%|          | 0.00/150 [00:00<?, ?B/s]"
            ],
            "application/vnd.jupyter.widget-view+json": {
              "version_major": 2,
              "version_minor": 0,
              "model_id": "71e6ee8e9ece41488ac0dc8f2b86bf9d"
            }
          },
          "metadata": {}
        }
      ]
    },
    {
      "cell_type": "markdown",
      "source": [
        "This is a demonstration of how the model can be used. Now write a function called ``classify_sentiment`` that takes in one argument of ``text`` and outputs the label in numeric form. \n",
        "</br></br>\n",
        "It is important for you to know that the label that the NLP model outputs is one of:\n",
        "* ``LABEL_0``, which corresponds to negative or the numeric form of -1.\n",
        "* ``LABEL_1``, which corresponds to neutral or the numeric form of 0.\n",
        "* ``LABEL_2``, which corresponds to positive or the numeric form of 1.\n",
        "\n",
        "The model outputs one score for each label and returns the label and score corresponding to the label with the highest score."
      ],
      "metadata": {
        "id": "LA8yizwwcU3z"
      }
    },
    {
      "cell_type": "code",
      "source": [
        "result = happy_tc.classify_text(\"I think the Python for Economics week is a great initiative.\")\n",
        "print(result.label, result.score)\n",
        "\n",
        "# TODO - Write a function that outputs the label in numeric form.\n",
        "classified = []\n",
        "def classify_sentiment(text):\n",
        "      sentiment = happy_tc.classify_text(text)\n",
        "      classified.append([sentiment.label, sentiment.score])\n",
        "      return classified \n",
        "\n",
        "\n"
      ],
      "metadata": {
        "id": "k8pjKAeAdJCS",
        "colab": {
          "base_uri": "https://localhost:8080/"
        },
        "outputId": "21de3e53-3d9c-48aa-819c-d403714cda4c"
      },
      "execution_count": 98,
      "outputs": [
        {
          "output_type": "stream",
          "name": "stdout",
          "text": [
            "LABEL_2 0.9771161079406738\n"
          ]
        }
      ]
    },
    {
      "cell_type": "markdown",
      "source": [
        "Apply the ``sentiment_classifier`` function to the tweets and store the returned labels in a new column called ``sentiment``. **Warning:** doing this can be time intensive. This notebook was tested with 10 tweets per day and it took 6 hours to classify all the tweets scraped over the time range. Try doing this in chunks and downloading the results if you can't run the notebook for 6 hours straight."
      ],
      "metadata": {
        "id": "jHf31Zn_-A6A"
      }
    },
    {
      "cell_type": "code",
      "source": [
        "from google.colab import files\n",
        "uploaded = files.upload()\n",
        "import io\n",
        "df_cleaned_tweets = pd.read_csv(io.BytesIO(uploaded['cleaned_tweets.csv']), encoding = 'Latin-1') "
      ],
      "metadata": {
        "id": "D9spcc5maEei"
      },
      "execution_count": null,
      "outputs": []
    },
    {
      "cell_type": "code",
      "source": [
        "# TODO - Apply the sentiment classifier function to the tweets.\n",
        "cl_tweet = df_cleaned_tweets['clean_tweet']\n",
        "for row in cl_tweet: \n",
        "    classify.sentiment(row)"
      ],
      "metadata": {
        "id": "IKYTWYFH-UP1"
      },
      "execution_count": null,
      "outputs": []
    },
    {
      "cell_type": "markdown",
      "source": [
        "Now, we want to calculate the average sentiment for each day. We can drop the column of tweets before we transform the dataframe. Store this new dataframe in a variable called ``df_sentiment``."
      ],
      "metadata": {
        "id": "AS7tT4sv-gjM"
      }
    },
    {
      "cell_type": "code",
      "source": [
        "# TODO - Drop the column of tweets and transform the dataframe."
      ],
      "metadata": {
        "id": "R2A3TByi-wwm"
      },
      "execution_count": null,
      "outputs": []
    },
    {
      "cell_type": "markdown",
      "source": [
        "We have now successfully generated all of our data necessary for the analysis. One last thing to do is to merge the previously merged datasets with our final dataset of average sentiment scores to create the dataframe ``df_covid_happiness``. Download the dataset of the previously merged datasets with the code below if necessary."
      ],
      "metadata": {
        "id": "XGIUa7Jv-zfj"
      }
    },
    {
      "cell_type": "code",
      "source": [
        "df_cases_stringency = upload_datasets()[0]\n",
        "\n",
        "# TODO - Merge the stringency and cases dataset with the sentiment dataset."
      ],
      "metadata": {
        "id": "uxtkaQbI_Q2c"
      },
      "execution_count": null,
      "outputs": []
    },
    {
      "cell_type": "markdown",
      "source": [
        "Finally, we save the generated dataset."
      ],
      "metadata": {
        "id": "zJkAZLOs_wX-"
      }
    },
    {
      "cell_type": "code",
      "source": [
        "filename = \"covid_happiness.csv\"\n",
        "df_covid_happiness.to_csv(filename, index=False)\n",
        "files.download(filename)"
      ],
      "metadata": {
        "id": "z03uKSyn_yWY"
      },
      "execution_count": null,
      "outputs": []
    },
    {
      "cell_type": "markdown",
      "source": [
        "## Running Regressions\n",
        "In this section you will have to run the following regression and report the results:\n",
        "$average\\_sentiment_t = \\beta positive\\_cases_t + \\gamma stringency_t + \\eta_t + \\varepsilon_t$\n",
        "</br></br>\n",
        "Before running this regression, think of the interpretation of the coefficient $\\beta$ if you run this regression. Would you want to rescale the corresponding variable $positive\\_cases$ with some proportion to improve the interpretability of this regression?\n",
        "</br></br>\n",
        "When interpreting the regression results you should make sure you understand the definitions of the variables used in the regression. For example, the number of confirmed cases for our purposes is actually the 7-day rolling average.\n",
        "</br></br>\n",
        "First we load our dataset if not loaded yet."
      ],
      "metadata": {
        "id": "1wSD_8JrKslV"
      }
    },
    {
      "cell_type": "code",
      "source": [
        "df_covid_happiness = upload_datasets()[0]"
      ],
      "metadata": {
        "id": "2qOTTUTGK3Fi"
      },
      "execution_count": null,
      "outputs": []
    },
    {
      "cell_type": "markdown",
      "source": [
        "Weight the number of cases by some constant."
      ],
      "metadata": {
        "id": "3XtPB1Z1vGXb"
      }
    },
    {
      "cell_type": "code",
      "source": [
        "# TODO - Weight the variable to improve the interpretability of the coefficient."
      ],
      "metadata": {
        "id": "nmWsxA_3vIp8"
      },
      "execution_count": null,
      "outputs": []
    },
    {
      "cell_type": "markdown",
      "source": [
        "We now install the required packages for running regressions and generating the corresponding regression tables."
      ],
      "metadata": {
        "id": "W4dlwNVFAUP3"
      }
    },
    {
      "cell_type": "code",
      "source": [
        "!pip install linearmodels --quiet"
      ],
      "metadata": {
        "id": "28Sx08QQAbhq"
      },
      "execution_count": null,
      "outputs": []
    },
    {
      "cell_type": "markdown",
      "source": [
        "We then import the installed libraries."
      ],
      "metadata": {
        "id": "WO4OvB2DAer0"
      }
    },
    {
      "cell_type": "code",
      "source": [
        "from linearmodels.panel import PanelOLS"
      ],
      "metadata": {
        "id": "rRA_fkvfAi30"
      },
      "execution_count": null,
      "outputs": []
    },
    {
      "cell_type": "markdown",
      "source": [
        "Suppose we want to use month fixed effects in our regression. We will need to create a variable of month first in order to take this up in our final regression. Create a column that takes a different index for each month-year pair and wrap this in the function ``pd.Categorical()``."
      ],
      "metadata": {
        "id": "RARD-xurvTH-"
      }
    },
    {
      "cell_type": "code",
      "source": [
        "# TODO - Create a column that takes a different index for each month-year pair."
      ],
      "metadata": {
        "id": "dwdYsRynzjoS"
      },
      "execution_count": null,
      "outputs": []
    },
    {
      "cell_type": "markdown",
      "source": [
        "Now, save and download the time series dataframe as ``covid_happiness_timeseries.csv``."
      ],
      "metadata": {
        "id": "bcAssm96mVSj"
      }
    },
    {
      "cell_type": "code",
      "source": [
        "# TODO - Save and download the dataframe."
      ],
      "metadata": {
        "id": "LbrFE92Zz0cp"
      },
      "execution_count": null,
      "outputs": []
    },
    {
      "cell_type": "markdown",
      "source": [
        "Specifying the model. This is not an exercise because I am of the opinion that one should not learn to do their econometrics in Python and that the time spent searching the code to do this can be seen as suboptimally spent. Namely, documentation on econometric methods in Stata is arguably better and more intuitive to use for people with a background in economics."
      ],
      "metadata": {
        "id": "GDO8ivlwxRLe"
      }
    },
    {
      "cell_type": "code",
      "source": [
        "# Adding the date to the index as is required by the package of use.\n",
        "# Also, placing the index of dates in the first column.\n",
        "df_covid_happiness = df_covid_happiness.set_index(\"date\", append=True)\n",
        "df_covid_happiness.index = df_covid_happiness.index.swaplevel(0, 1)\n",
        "\n",
        "# Specifying the model.\n",
        "regression_model = PanelOLS(dependent=df_covid_happiness['sentiment'],\n",
        "                            exog=df_covid_happiness[[\"cases\", \"stringency_index\"]],\n",
        "                            entity_effects=False,\n",
        "                            time_effects=False,\n",
        "                            other_effects=df_covid_happiness['month'])"
      ],
      "metadata": {
        "id": "1I21FhoZxSU6"
      },
      "execution_count": null,
      "outputs": []
    },
    {
      "cell_type": "markdown",
      "source": [
        "Running the regression."
      ],
      "metadata": {
        "id": "nQuBPKQ2SUf0"
      }
    },
    {
      "cell_type": "code",
      "source": [
        "regression_results_summary = regression_model.fit(cov_type='clustered', cluster_entity=True).summary"
      ],
      "metadata": {
        "id": "_O1EGvq8SVz1"
      },
      "execution_count": null,
      "outputs": []
    },
    {
      "cell_type": "markdown",
      "source": [
        "Creating a regression table with the results."
      ],
      "metadata": {
        "id": "5Y3O-SHaSWKr"
      }
    },
    {
      "cell_type": "code",
      "source": [
        "pd.options.display.latex.repr = True\n",
        "print(regression_results_summary)\n",
        "print(regression_results_summary.as_latex())"
      ],
      "metadata": {
        "id": "xKiQ_DjfSZE2"
      },
      "execution_count": null,
      "outputs": []
    },
    {
      "cell_type": "markdown",
      "source": [
        "Storing and downloading the regression table in ``LaTeX`` format."
      ],
      "metadata": {
        "id": "eZxVWkwjSalu"
      }
    },
    {
      "cell_type": "code",
      "source": [
        "regression_table = open(\"regression_table.tex\", \"w\")\n",
        "regression_table = print(regression_results_summary.as_latex(), file=regression_table)\n",
        "files.download(\"regression_table.tex\")"
      ],
      "metadata": {
        "id": "ZwkHoFHxxk5K"
      },
      "execution_count": null,
      "outputs": []
    },
    {
      "cell_type": "markdown",
      "source": [
        "## Further Exercises\n",
        "1. One option is to expand this analysis to different countries. Here, it is important to realise that comparing the coefficients of different countries is not justified. Namely, different countries may confirm cases in different ways. Looking at proportional increases in the number of cases will remove this problem, but will disregard the base level of new cases in the country which of course influences the magnitude of the effect on the average sentiment for a given proportional increase in the number of cases.\n",
        "2. Data visualisation: plot the comovement of the variables of interest over time or something else you are interested in seeing that can give a new insight into the problem.\n",
        "3. There may be other confounders present in the regression that I can't think of right now. If you can think of any, download the data for these, clean that data and create a new variable to run the regression with again.\n",
        "4. Scrape tweets from random time intervals to reduce bias induced by Twitter's feed selection methods. Documentation available for some of the keywords necessary in the Twitter search query to do this can be found [here](https://github.com/igorbrigadir/twitter-advanced-search).\n",
        "5. Filtering out spam tweets. You can approach this Natural Language Processing (NLP) problem in various ways, from as advanced as using AI classification methods as looking for duplicated tweets in your list of scraped tweets. You can always combine methods like these, of course.\n",
        "6. Improving the tweet cleaning function.\n",
        "7. Running the regression with different model specifications of how the confounder affects the outcome variable and the dependent variable. Namely, it may be the case that the start of heavy restrictions is not so bad yet, but that people get tired of it the longer these heavy restrictions are in place. You would need to transform the restriction variable to carry out the regression with this different definition of the control variable."
      ],
      "metadata": {
        "id": "HIx-MyVcN7Vh"
      }
    },
    {
      "cell_type": "markdown",
      "source": [
        "\n",
        "## References\n",
        "* Edouard Mathieu, Hannah Ritchie, Lucas Rodés-Guirao, Cameron Appel, Charlie Giattino, Joe Hasell, Bobbie Macdonald, Saloni Dattani, Diana Beltekian, Esteban Ortiz-Ospina and Max Roser (2020) - \"Coronavirus Pandemic (COVID-19)\". Published online at OurWorldInData.org. Retrieved from: 'https://ourworldindata.org/coronavirus' [Online Resource].\n",
        "* Ensheng Dong, Hongru Du, Lauren Gardner, An interactive web-based dashboard to track COVID-19 in real time, The Lancet Infectious Diseases, Volume 20, Issue 5, 2020, Pages 533-534, ISSN 1473-3099, https://doi.org/10.1016/S1473-3099(20)30120-1. (https://www.sciencedirect.com/science/article/pii/S1473309920301201).\n",
        "* JustAnotherArchivist, snscrape, (2023), GitHub repository, https://github.com/JustAnotherArchivist/snscrape.\n",
        "* igorbrigadir, Twitter Advanced Search, (2023), GitHub repository, https://github.com/igorbrigadir/twitter-advanced-search.\n",
        "* Wide and Narrow Data, Wikipedia, (12 Feb 2023), https://en.wikipedia.org/wiki/Wide_and_narrow_data.\n",
        "* Advanced Filtering for Geo Data, (2023), https://developer.twitter.com/en/docs/tutorials/advanced-filtering-for-geo-data.\n",
        "* Get Places Near a Location, (2023), https://developer.twitter.com/en/docs/twitter-api/v1/geo/places-near-location/api-reference/get-geo-reverse_geocode.\n",
        "\n"
      ],
      "metadata": {
        "id": "GTQjBctvVLWv"
      }
    }
  ]
}